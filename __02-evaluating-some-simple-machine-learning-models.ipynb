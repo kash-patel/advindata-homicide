{
 "cells": [
  {
   "cell_type": "markdown",
   "id": "1a684462-6928-406e-b3c0-cb63d7349cd4",
   "metadata": {},
   "source": [
    "**_Adventures in Data_: Homicide** <br>\n",
    "**Chapter 2: Evaluating Simple Machine Learning Models**"
   ]
  },
  {
   "cell_type": "markdown",
   "id": "efdc3b69-8f16-44db-81dc-eb4fddd31247",
   "metadata": {},
   "source": [
    "## Shuffle and split the data"
   ]
  },
  {
   "cell_type": "code",
   "execution_count": 3,
   "id": "68e86f7c-a3b6-4818-8489-2fd1225463e1",
   "metadata": {
    "tags": []
   },
   "outputs": [],
   "source": [
    "train_set, test_set = train_test_split(df, test_size = 0.2, random_state = 0, stratify=df[\"disposition\"])"
   ]
  },
  {
   "cell_type": "code",
   "execution_count": 4,
   "id": "bc993f1b-05d9-4c35-a6b6-b843135a7b97",
   "metadata": {
    "tags": []
   },
   "outputs": [
    {
     "data": {
      "text/plain": [
       "array(['Closed by arrest', 'Open/No arrest', 'Closed without arrest'],\n",
       "      dtype=object)"
      ]
     },
     "execution_count": 4,
     "metadata": {},
     "output_type": "execute_result"
    }
   ],
   "source": [
    "train_set[\"disposition\"].unique()"
   ]
  },
  {
   "cell_type": "markdown",
   "id": "e91194be-9090-41b1-9a32-8f9f40cd67bc",
   "metadata": {},
   "source": [
    "## Exploratory data analysis"
   ]
  },
  {
   "cell_type": "code",
   "execution_count": 5,
   "id": "5bcde044-69c0-4461-8381-cbe369a5e395",
   "metadata": {
    "tags": []
   },
   "outputs": [
    {
     "data": {
      "text/html": [
       "<div>\n",
       "<style scoped>\n",
       "    .dataframe tbody tr th:only-of-type {\n",
       "        vertical-align: middle;\n",
       "    }\n",
       "\n",
       "    .dataframe tbody tr th {\n",
       "        vertical-align: top;\n",
       "    }\n",
       "\n",
       "    .dataframe thead th {\n",
       "        text-align: right;\n",
       "    }\n",
       "</style>\n",
       "<table border=\"1\" class=\"dataframe\">\n",
       "  <thead>\n",
       "    <tr style=\"text-align: right;\">\n",
       "      <th></th>\n",
       "      <th>uid</th>\n",
       "      <th>reported_date</th>\n",
       "      <th>victim_last</th>\n",
       "      <th>victim_first</th>\n",
       "      <th>victim_race</th>\n",
       "      <th>victim_age</th>\n",
       "      <th>victim_sex</th>\n",
       "      <th>city</th>\n",
       "      <th>state</th>\n",
       "      <th>lat</th>\n",
       "      <th>lon</th>\n",
       "      <th>disposition</th>\n",
       "    </tr>\n",
       "  </thead>\n",
       "  <tbody>\n",
       "    <tr>\n",
       "      <th>25253</th>\n",
       "      <td>Jac-000855</td>\n",
       "      <td>20140325</td>\n",
       "      <td>JACKSON</td>\n",
       "      <td>KENNETH</td>\n",
       "      <td>White</td>\n",
       "      <td>22</td>\n",
       "      <td>Male</td>\n",
       "      <td>Jacksonville</td>\n",
       "      <td>FL</td>\n",
       "      <td>30.367063</td>\n",
       "      <td>-81.496930</td>\n",
       "      <td>Closed by arrest</td>\n",
       "    </tr>\n",
       "    <tr>\n",
       "      <th>13951</th>\n",
       "      <td>Col-000501</td>\n",
       "      <td>20110416</td>\n",
       "      <td>GABBERT</td>\n",
       "      <td>MICHAEL</td>\n",
       "      <td>White</td>\n",
       "      <td>42</td>\n",
       "      <td>Male</td>\n",
       "      <td>Columbus</td>\n",
       "      <td>OH</td>\n",
       "      <td>39.959429</td>\n",
       "      <td>-83.035571</td>\n",
       "      <td>Open/No arrest</td>\n",
       "    </tr>\n",
       "    <tr>\n",
       "      <th>6354</th>\n",
       "      <td>Buf-000520</td>\n",
       "      <td>20131213</td>\n",
       "      <td>STEIN</td>\n",
       "      <td>JOHN</td>\n",
       "      <td>White</td>\n",
       "      <td>19</td>\n",
       "      <td>Male</td>\n",
       "      <td>Buffalo</td>\n",
       "      <td>NY</td>\n",
       "      <td>42.947226</td>\n",
       "      <td>-78.904404</td>\n",
       "      <td>Open/No arrest</td>\n",
       "    </tr>\n",
       "    <tr>\n",
       "      <th>46438</th>\n",
       "      <td>Sav-000255</td>\n",
       "      <td>20141220</td>\n",
       "      <td>ASHLEY</td>\n",
       "      <td>ROMONDO</td>\n",
       "      <td>Black</td>\n",
       "      <td>22</td>\n",
       "      <td>Male</td>\n",
       "      <td>Savannah</td>\n",
       "      <td>GA</td>\n",
       "      <td>32.058300</td>\n",
       "      <td>-81.076700</td>\n",
       "      <td>Closed by arrest</td>\n",
       "    </tr>\n",
       "    <tr>\n",
       "      <th>42060</th>\n",
       "      <td>Phi-004059</td>\n",
       "      <td>20080902</td>\n",
       "      <td>RIVERA</td>\n",
       "      <td>ANTONIO</td>\n",
       "      <td>Hispanic</td>\n",
       "      <td>37</td>\n",
       "      <td>Male</td>\n",
       "      <td>Philadelphia</td>\n",
       "      <td>PA</td>\n",
       "      <td>39.996314</td>\n",
       "      <td>-75.139063</td>\n",
       "      <td>Open/No arrest</td>\n",
       "    </tr>\n",
       "    <tr>\n",
       "      <th>18162</th>\n",
       "      <td>Det-001750</td>\n",
       "      <td>20121119</td>\n",
       "      <td>JONES</td>\n",
       "      <td>BOBBY</td>\n",
       "      <td>Black</td>\n",
       "      <td>55</td>\n",
       "      <td>Male</td>\n",
       "      <td>Detroit</td>\n",
       "      <td>MI</td>\n",
       "      <td>42.441918</td>\n",
       "      <td>-83.223884</td>\n",
       "      <td>Open/No arrest</td>\n",
       "    </tr>\n",
       "    <tr>\n",
       "      <th>44135</th>\n",
       "      <td>Pit-000172</td>\n",
       "      <td>20150916</td>\n",
       "      <td>NELSON</td>\n",
       "      <td>JAMAR</td>\n",
       "      <td>Black</td>\n",
       "      <td>30</td>\n",
       "      <td>Male</td>\n",
       "      <td>Pittsburgh</td>\n",
       "      <td>PA</td>\n",
       "      <td>40.411615</td>\n",
       "      <td>-80.020345</td>\n",
       "      <td>Closed by arrest</td>\n",
       "    </tr>\n",
       "    <tr>\n",
       "      <th>42508</th>\n",
       "      <td>Phi-004507</td>\n",
       "      <td>20120912</td>\n",
       "      <td>PERRY</td>\n",
       "      <td>STEVEN</td>\n",
       "      <td>Black</td>\n",
       "      <td>51</td>\n",
       "      <td>Male</td>\n",
       "      <td>Philadelphia</td>\n",
       "      <td>PA</td>\n",
       "      <td>39.992461</td>\n",
       "      <td>-75.129719</td>\n",
       "      <td>Open/No arrest</td>\n",
       "    </tr>\n",
       "    <tr>\n",
       "      <th>35075</th>\n",
       "      <td>Min-000242</td>\n",
       "      <td>20140809</td>\n",
       "      <td>TONEY</td>\n",
       "      <td>DION DARNELL NATH</td>\n",
       "      <td>Black</td>\n",
       "      <td>27</td>\n",
       "      <td>Male</td>\n",
       "      <td>Minneapolis</td>\n",
       "      <td>MN</td>\n",
       "      <td>44.982890</td>\n",
       "      <td>-93.275360</td>\n",
       "      <td>Open/No arrest</td>\n",
       "    </tr>\n",
       "    <tr>\n",
       "      <th>51800</th>\n",
       "      <td>Was-000998</td>\n",
       "      <td>20080830</td>\n",
       "      <td>HENRY</td>\n",
       "      <td>MICHAEL</td>\n",
       "      <td>Black</td>\n",
       "      <td>25</td>\n",
       "      <td>Male</td>\n",
       "      <td>Washington</td>\n",
       "      <td>DC</td>\n",
       "      <td>38.846603</td>\n",
       "      <td>-76.972814</td>\n",
       "      <td>Closed by arrest</td>\n",
       "    </tr>\n",
       "  </tbody>\n",
       "</table>\n",
       "</div>"
      ],
      "text/plain": [
       "              uid  reported_date victim_last       victim_first victim_race  \\\n",
       "25253  Jac-000855       20140325     JACKSON            KENNETH       White   \n",
       "13951  Col-000501       20110416     GABBERT            MICHAEL       White   \n",
       "6354   Buf-000520       20131213       STEIN               JOHN       White   \n",
       "46438  Sav-000255       20141220      ASHLEY            ROMONDO       Black   \n",
       "42060  Phi-004059       20080902      RIVERA            ANTONIO    Hispanic   \n",
       "18162  Det-001750       20121119       JONES              BOBBY       Black   \n",
       "44135  Pit-000172       20150916      NELSON              JAMAR       Black   \n",
       "42508  Phi-004507       20120912       PERRY             STEVEN       Black   \n",
       "35075  Min-000242       20140809       TONEY  DION DARNELL NATH       Black   \n",
       "51800  Was-000998       20080830       HENRY            MICHAEL       Black   \n",
       "\n",
       "      victim_age victim_sex          city state        lat        lon  \\\n",
       "25253         22       Male  Jacksonville    FL  30.367063 -81.496930   \n",
       "13951         42       Male      Columbus    OH  39.959429 -83.035571   \n",
       "6354          19       Male       Buffalo    NY  42.947226 -78.904404   \n",
       "46438         22       Male      Savannah    GA  32.058300 -81.076700   \n",
       "42060         37       Male  Philadelphia    PA  39.996314 -75.139063   \n",
       "18162         55       Male       Detroit    MI  42.441918 -83.223884   \n",
       "44135         30       Male    Pittsburgh    PA  40.411615 -80.020345   \n",
       "42508         51       Male  Philadelphia    PA  39.992461 -75.129719   \n",
       "35075         27       Male   Minneapolis    MN  44.982890 -93.275360   \n",
       "51800         25       Male    Washington    DC  38.846603 -76.972814   \n",
       "\n",
       "            disposition  \n",
       "25253  Closed by arrest  \n",
       "13951    Open/No arrest  \n",
       "6354     Open/No arrest  \n",
       "46438  Closed by arrest  \n",
       "42060    Open/No arrest  \n",
       "18162    Open/No arrest  \n",
       "44135  Closed by arrest  \n",
       "42508    Open/No arrest  \n",
       "35075    Open/No arrest  \n",
       "51800  Closed by arrest  "
      ]
     },
     "execution_count": 5,
     "metadata": {},
     "output_type": "execute_result"
    }
   ],
   "source": [
    "train_set.sample(10)"
   ]
  },
  {
   "cell_type": "code",
   "execution_count": 6,
   "id": "194c59cd-6b52-43ae-a6c6-46ce1135321c",
   "metadata": {
    "tags": []
   },
   "outputs": [],
   "source": [
    "def transform_dataframe (data):\n",
    "    \n",
    "    df_transformed = data.drop(columns=[\"uid\", \"victim_last\", \"victim_first\", \"state\", \"city\"]).copy()\n",
    "    \n",
    "    df_transformed[\"reported_date\"] = pd.to_datetime(df_transformed[\"reported_date\"].map(lambda d: f\"{str(d)[:4]}-{str(d)[4:6]}-{str(d)[-2:]}\"))\n",
    "    max_date = df_transformed[\"reported_date\"].max()\n",
    "    df_transformed[\"month\"] = df_transformed[\"reported_date\"].dt.month_name().astype(\"category\")\n",
    "    df_transformed[\"weekday\"] = df_transformed[\"reported_date\"].dt.day_name().astype(\"category\")\n",
    "    df_transformed[\"delta_days\"] = ((max_date - df_transformed[\"reported_date\"]).dt.total_seconds() / (60 * 60 * 24)).astype(int)\n",
    "    \n",
    "    df_transformed[\"victim_race\"] = df_transformed[\"victim_race\"].astype(\"category\")\n",
    "    df_transformed[\"victim_age\"] = df_transformed[\"victim_age\"].map(lambda s: np.nan if not str(s).isnumeric() else s)\n",
    "    df_transformed[\"victim_sex\"] = df_transformed[\"victim_sex\"].astype(\"category\")\n",
    "    df_transformed[\"disposition\"] = df_transformed[\"disposition\"].astype(\"category\")\n",
    "    \n",
    "    return df_transformed"
   ]
  },
  {
   "cell_type": "code",
   "execution_count": 7,
   "id": "135c1b8f-cb84-4a88-b156-4d936ed02f18",
   "metadata": {
    "tags": []
   },
   "outputs": [],
   "source": [
    "train_set_transformed = transform_dataframe(train_set)"
   ]
  },
  {
   "cell_type": "code",
   "execution_count": 8,
   "id": "61300200-49ba-4aca-b223-53aab2dba0d9",
   "metadata": {
    "tags": []
   },
   "outputs": [
    {
     "name": "stdout",
     "output_type": "stream",
     "text": [
      "<class 'pandas.core.frame.DataFrame'>\n",
      "Index: 41743 entries, 36067 to 2873\n",
      "Data columns (total 10 columns):\n",
      " #   Column         Non-Null Count  Dtype         \n",
      "---  ------         --------------  -----         \n",
      " 0   reported_date  41743 non-null  datetime64[ns]\n",
      " 1   victim_race    41743 non-null  category      \n",
      " 2   victim_age     39349 non-null  float64       \n",
      " 3   victim_sex     41743 non-null  category      \n",
      " 4   lat            41691 non-null  float64       \n",
      " 5   lon            41691 non-null  float64       \n",
      " 6   disposition    41743 non-null  category      \n",
      " 7   month          41743 non-null  category      \n",
      " 8   weekday        41743 non-null  category      \n",
      " 9   delta_days     41743 non-null  int32         \n",
      "dtypes: category(5), datetime64[ns](1), float64(3), int32(1)\n",
      "memory usage: 2.0 MB\n"
     ]
    }
   ],
   "source": [
    "train_set_transformed.info()"
   ]
  },
  {
   "cell_type": "code",
   "execution_count": 9,
   "id": "9b61e946-22f3-414c-8809-736c78a75286",
   "metadata": {
    "tags": []
   },
   "outputs": [
    {
     "data": {
      "text/plain": [
       "array([[<Axes: title={'center': 'reported_date'}>,\n",
       "        <Axes: title={'center': 'victim_age'}>],\n",
       "       [<Axes: title={'center': 'lat'}>, <Axes: title={'center': 'lon'}>],\n",
       "       [<Axes: title={'center': 'delta_days'}>, <Axes: >]], dtype=object)"
      ]
     },
     "execution_count": 9,
     "metadata": {},
     "output_type": "execute_result"
    },
    {
     "data": {
      "image/png": "[encoded data removed]",
      "text/plain": [
       "<Figure size 1600x1000 with 6 Axes>"
      ]
     },
     "metadata": {},
     "output_type": "display_data"
    }
   ],
   "source": [
    "train_set_transformed.hist(figsize=(16, 10))"
   ]
  },
  {
   "cell_type": "code",
   "execution_count": 10,
   "id": "13b60300-4d7f-4bf3-83d7-02337619f0af",
   "metadata": {
    "tags": []
   },
   "outputs": [
    {
     "data": {
      "text/html": [
       "<div>\n",
       "<style scoped>\n",
       "    .dataframe tbody tr th:only-of-type {\n",
       "        vertical-align: middle;\n",
       "    }\n",
       "\n",
       "    .dataframe tbody tr th {\n",
       "        vertical-align: top;\n",
       "    }\n",
       "\n",
       "    .dataframe thead th {\n",
       "        text-align: right;\n",
       "    }\n",
       "</style>\n",
       "<table border=\"1\" class=\"dataframe\">\n",
       "  <thead>\n",
       "    <tr style=\"text-align: right;\">\n",
       "      <th></th>\n",
       "      <th>reported_date</th>\n",
       "      <th>victim_age</th>\n",
       "      <th>lat</th>\n",
       "      <th>lon</th>\n",
       "      <th>delta_days</th>\n",
       "    </tr>\n",
       "  </thead>\n",
       "  <tbody>\n",
       "    <tr>\n",
       "      <th>count</th>\n",
       "      <td>41743</td>\n",
       "      <td>39349.000000</td>\n",
       "      <td>41691.000000</td>\n",
       "      <td>41691.000000</td>\n",
       "      <td>41743.000000</td>\n",
       "    </tr>\n",
       "    <tr>\n",
       "      <th>mean</th>\n",
       "      <td>2012-11-03 16:08:31.932539648</td>\n",
       "      <td>31.813871</td>\n",
       "      <td>37.012092</td>\n",
       "      <td>-91.496989</td>\n",
       "      <td>1883.327408</td>\n",
       "    </tr>\n",
       "    <tr>\n",
       "      <th>min</th>\n",
       "      <td>2007-01-01 00:00:00</td>\n",
       "      <td>0.000000</td>\n",
       "      <td>25.725214</td>\n",
       "      <td>-122.504604</td>\n",
       "      <td>0.000000</td>\n",
       "    </tr>\n",
       "    <tr>\n",
       "      <th>25%</th>\n",
       "      <td>2010-03-17 00:00:00</td>\n",
       "      <td>22.000000</td>\n",
       "      <td>33.762747</td>\n",
       "      <td>-96.024247</td>\n",
       "      <td>836.000000</td>\n",
       "    </tr>\n",
       "    <tr>\n",
       "      <th>50%</th>\n",
       "      <td>2012-12-15 00:00:00</td>\n",
       "      <td>28.000000</td>\n",
       "      <td>38.485033</td>\n",
       "      <td>-87.710581</td>\n",
       "      <td>1842.000000</td>\n",
       "    </tr>\n",
       "    <tr>\n",
       "      <th>75%</th>\n",
       "      <td>2015-09-17 00:00:00</td>\n",
       "      <td>40.000000</td>\n",
       "      <td>40.026592</td>\n",
       "      <td>-81.764802</td>\n",
       "      <td>2846.000000</td>\n",
       "    </tr>\n",
       "    <tr>\n",
       "      <th>max</th>\n",
       "      <td>2017-12-31 00:00:00</td>\n",
       "      <td>102.000000</td>\n",
       "      <td>45.051190</td>\n",
       "      <td>-71.011519</td>\n",
       "      <td>4017.000000</td>\n",
       "    </tr>\n",
       "    <tr>\n",
       "      <th>std</th>\n",
       "      <td>NaN</td>\n",
       "      <td>14.420488</td>\n",
       "      <td>4.354569</td>\n",
       "      <td>13.768301</td>\n",
       "      <td>1164.140315</td>\n",
       "    </tr>\n",
       "  </tbody>\n",
       "</table>\n",
       "</div>"
      ],
      "text/plain": [
       "                       reported_date    victim_age           lat  \\\n",
       "count                          41743  39349.000000  41691.000000   \n",
       "mean   2012-11-03 16:08:31.932539648     31.813871     37.012092   \n",
       "min              2007-01-01 00:00:00      0.000000     25.725214   \n",
       "25%              2010-03-17 00:00:00     22.000000     33.762747   \n",
       "50%              2012-12-15 00:00:00     28.000000     38.485033   \n",
       "75%              2015-09-17 00:00:00     40.000000     40.026592   \n",
       "max              2017-12-31 00:00:00    102.000000     45.051190   \n",
       "std                              NaN     14.420488      4.354569   \n",
       "\n",
       "                lon    delta_days  \n",
       "count  41691.000000  41743.000000  \n",
       "mean     -91.496989   1883.327408  \n",
       "min     -122.504604      0.000000  \n",
       "25%      -96.024247    836.000000  \n",
       "50%      -87.710581   1842.000000  \n",
       "75%      -81.764802   2846.000000  \n",
       "max      -71.011519   4017.000000  \n",
       "std       13.768301   1164.140315  "
      ]
     },
     "execution_count": 10,
     "metadata": {},
     "output_type": "execute_result"
    }
   ],
   "source": [
    "train_set_transformed.describe()"
   ]
  },
  {
   "cell_type": "code",
   "execution_count": 11,
   "id": "023e395e-b8a9-4db1-a166-b308453f4258",
   "metadata": {
    "tags": []
   },
   "outputs": [
    {
     "name": "stdout",
     "output_type": "stream",
     "text": [
      "<class 'pandas.core.frame.DataFrame'>\n",
      "Index: 41743 entries, 36067 to 2873\n",
      "Data columns (total 10 columns):\n",
      " #   Column         Non-Null Count  Dtype         \n",
      "---  ------         --------------  -----         \n",
      " 0   reported_date  41743 non-null  datetime64[ns]\n",
      " 1   victim_race    41743 non-null  category      \n",
      " 2   victim_age     39349 non-null  float64       \n",
      " 3   victim_sex     41743 non-null  category      \n",
      " 4   lat            41691 non-null  float64       \n",
      " 5   lon            41691 non-null  float64       \n",
      " 6   disposition    41743 non-null  category      \n",
      " 7   month          41743 non-null  category      \n",
      " 8   weekday        41743 non-null  category      \n",
      " 9   delta_days     41743 non-null  int32         \n",
      "dtypes: category(5), datetime64[ns](1), float64(3), int32(1)\n",
      "memory usage: 2.0 MB\n"
     ]
    }
   ],
   "source": [
    "train_set_transformed.info()"
   ]
  },
  {
   "cell_type": "markdown",
   "id": "0638bf4c-9a61-46e6-b8f3-ec75c6675f85",
   "metadata": {},
   "source": [
    "## Impute and transform data"
   ]
  },
  {
   "cell_type": "code",
   "execution_count": 12,
   "id": "b9c929a8-cc24-456b-96b9-db8d8cb76d4c",
   "metadata": {
    "tags": []
   },
   "outputs": [],
   "source": [
    "imputer = SimpleImputer(strategy = \"median\")"
   ]
  },
  {
   "cell_type": "code",
   "execution_count": 16,
   "id": "5d0518bc-160c-4cd3-9553-bdd9fce21b17",
   "metadata": {
    "tags": []
   },
   "outputs": [],
   "source": [
    "train_set_transformed[\"victim_age\"] = imputer.fit_transform(train_set_transformed[\"victim_age\"].values.reshape(-1, 1))\n",
    "train_set_transformed[\"lat\"] = imputer.fit_transform(train_set_transformed[\"lat\"].values.reshape(-1, 1))\n",
    "train_set_transformed[\"lon\"] = imputer.fit_transform(train_set_transformed[\"lon\"].values.reshape(-1, 1))"
   ]
  },
  {
   "cell_type": "code",
   "execution_count": 17,
   "id": "20e69f66-80e9-49e5-842f-49a6e0977d45",
   "metadata": {
    "tags": []
   },
   "outputs": [
    {
     "data": {
      "text/html": [
       "<div>\n",
       "<style scoped>\n",
       "    .dataframe tbody tr th:only-of-type {\n",
       "        vertical-align: middle;\n",
       "    }\n",
       "\n",
       "    .dataframe tbody tr th {\n",
       "        vertical-align: top;\n",
       "    }\n",
       "\n",
       "    .dataframe thead th {\n",
       "        text-align: right;\n",
       "    }\n",
       "</style>\n",
       "<table border=\"1\" class=\"dataframe\">\n",
       "  <thead>\n",
       "    <tr style=\"text-align: right;\">\n",
       "      <th></th>\n",
       "      <th>reported_date</th>\n",
       "      <th>victim_age</th>\n",
       "      <th>lat</th>\n",
       "      <th>lon</th>\n",
       "      <th>delta_days</th>\n",
       "    </tr>\n",
       "  </thead>\n",
       "  <tbody>\n",
       "    <tr>\n",
       "      <th>count</th>\n",
       "      <td>41743</td>\n",
       "      <td>41743.000000</td>\n",
       "      <td>41743.000000</td>\n",
       "      <td>41743.000000</td>\n",
       "      <td>41743.000000</td>\n",
       "    </tr>\n",
       "    <tr>\n",
       "      <th>mean</th>\n",
       "      <td>2012-11-03 16:08:31.932539648</td>\n",
       "      <td>31.595142</td>\n",
       "      <td>37.013926</td>\n",
       "      <td>-91.492272</td>\n",
       "      <td>1883.327408</td>\n",
       "    </tr>\n",
       "    <tr>\n",
       "      <th>min</th>\n",
       "      <td>2007-01-01 00:00:00</td>\n",
       "      <td>0.000000</td>\n",
       "      <td>25.725214</td>\n",
       "      <td>-122.504604</td>\n",
       "      <td>0.000000</td>\n",
       "    </tr>\n",
       "    <tr>\n",
       "      <th>25%</th>\n",
       "      <td>2010-03-17 00:00:00</td>\n",
       "      <td>22.000000</td>\n",
       "      <td>33.763642</td>\n",
       "      <td>-96.016193</td>\n",
       "      <td>836.000000</td>\n",
       "    </tr>\n",
       "    <tr>\n",
       "      <th>50%</th>\n",
       "      <td>2012-12-15 00:00:00</td>\n",
       "      <td>28.000000</td>\n",
       "      <td>38.485033</td>\n",
       "      <td>-87.710581</td>\n",
       "      <td>1842.000000</td>\n",
       "    </tr>\n",
       "    <tr>\n",
       "      <th>75%</th>\n",
       "      <td>2015-09-17 00:00:00</td>\n",
       "      <td>39.000000</td>\n",
       "      <td>40.025915</td>\n",
       "      <td>-81.773613</td>\n",
       "      <td>2846.000000</td>\n",
       "    </tr>\n",
       "    <tr>\n",
       "      <th>max</th>\n",
       "      <td>2017-12-31 00:00:00</td>\n",
       "      <td>102.000000</td>\n",
       "      <td>45.051190</td>\n",
       "      <td>-71.011519</td>\n",
       "      <td>4017.000000</td>\n",
       "    </tr>\n",
       "    <tr>\n",
       "      <th>std</th>\n",
       "      <td>NaN</td>\n",
       "      <td>14.028913</td>\n",
       "      <td>4.352166</td>\n",
       "      <td>13.760370</td>\n",
       "      <td>1164.140315</td>\n",
       "    </tr>\n",
       "  </tbody>\n",
       "</table>\n",
       "</div>"
      ],
      "text/plain": [
       "                       reported_date    victim_age           lat  \\\n",
       "count                          41743  41743.000000  41743.000000   \n",
       "mean   2012-11-03 16:08:31.932539648     31.595142     37.013926   \n",
       "min              2007-01-01 00:00:00      0.000000     25.725214   \n",
       "25%              2010-03-17 00:00:00     22.000000     33.763642   \n",
       "50%              2012-12-15 00:00:00     28.000000     38.485033   \n",
       "75%              2015-09-17 00:00:00     39.000000     40.025915   \n",
       "max              2017-12-31 00:00:00    102.000000     45.051190   \n",
       "std                              NaN     14.028913      4.352166   \n",
       "\n",
       "                lon    delta_days  \n",
       "count  41743.000000  41743.000000  \n",
       "mean     -91.492272   1883.327408  \n",
       "min     -122.504604      0.000000  \n",
       "25%      -96.016193    836.000000  \n",
       "50%      -87.710581   1842.000000  \n",
       "75%      -81.773613   2846.000000  \n",
       "max      -71.011519   4017.000000  \n",
       "std       13.760370   1164.140315  "
      ]
     },
     "execution_count": 17,
     "metadata": {},
     "output_type": "execute_result"
    }
   ],
   "source": [
    "train_set_transformed.describe()"
   ]
  },
  {
   "cell_type": "code",
   "execution_count": 18,
   "id": "50f28527-dc98-4ac0-908e-2a23f97bf773",
   "metadata": {
    "tags": []
   },
   "outputs": [
    {
     "name": "stdout",
     "output_type": "stream",
     "text": [
      "<class 'pandas.core.frame.DataFrame'>\n",
      "Index: 41743 entries, 36067 to 2873\n",
      "Data columns (total 10 columns):\n",
      " #   Column         Non-Null Count  Dtype         \n",
      "---  ------         --------------  -----         \n",
      " 0   reported_date  41743 non-null  datetime64[ns]\n",
      " 1   victim_race    41743 non-null  category      \n",
      " 2   victim_age     41743 non-null  float64       \n",
      " 3   victim_sex     41743 non-null  category      \n",
      " 4   lat            41743 non-null  float64       \n",
      " 5   lon            41743 non-null  float64       \n",
      " 6   disposition    41743 non-null  category      \n",
      " 7   month          41743 non-null  category      \n",
      " 8   weekday        41743 non-null  category      \n",
      " 9   delta_days     41743 non-null  int32         \n",
      "dtypes: category(5), datetime64[ns](1), float64(3), int32(1)\n",
      "memory usage: 2.0 MB\n"
     ]
    }
   ],
   "source": [
    "train_set_transformed.info()"
   ]
  },
  {
   "cell_type": "code",
   "execution_count": 19,
   "id": "bcc631d6-9072-4420-ae40-05d93a82ce0f",
   "metadata": {
    "tags": []
   },
   "outputs": [],
   "source": [
    "months = [\n",
    "    \"January\",\n",
    "    \"February\",\n",
    "    \"March\",\n",
    "    \"April\",\n",
    "    \"May\",\n",
    "    \"June\",\n",
    "    \"July\",\n",
    "    \"August\",\n",
    "    \"September\",\n",
    "    \"October\",\n",
    "    \"November\",\n",
    "    \"December\"\n",
    "]"
   ]
  },
  {
   "cell_type": "code",
   "execution_count": 20,
   "id": "2a023f72-958f-4ed6-b1e6-8eef5d11ce23",
   "metadata": {
    "tags": []
   },
   "outputs": [
    {
     "data": {
      "text/plain": [
       "<Axes: xlabel='month'>"
      ]
     },
     "execution_count": 20,
     "metadata": {},
     "output_type": "execute_result"
    },
    {
     "data": {
      "image/png": "[encoded data removed]",
      "text/plain": [
       "<Figure size 640x480 with 1 Axes>"
      ]
     },
     "metadata": {},
     "output_type": "display_data"
    }
   ],
   "source": [
    "train_set_transformed.groupby(\"month\").size()[months].plot.bar()"
   ]
  },
  {
   "cell_type": "code",
   "execution_count": 21,
   "id": "4c6f96d5-688a-4e7a-9229-e5cae277d5bc",
   "metadata": {
    "tags": []
   },
   "outputs": [],
   "source": [
    "weekdays = [\n",
    "    \"Sunday\",\n",
    "    \"Monday\",\n",
    "    \"Tuesday\",\n",
    "    \"Wednesday\",\n",
    "    \"Thursday\",\n",
    "    \"Friday\",\n",
    "    \"Saturday\"\n",
    "]"
   ]
  },
  {
   "cell_type": "code",
   "execution_count": 22,
   "id": "56c30c76-c8d7-4eea-8b03-42be34614e84",
   "metadata": {
    "tags": []
   },
   "outputs": [
    {
     "data": {
      "text/plain": [
       "<Axes: xlabel='weekday'>"
      ]
     },
     "execution_count": 22,
     "metadata": {},
     "output_type": "execute_result"
    },
    {
     "data": {
      "image/png": "[encoded data removed]",
      "text/plain": [
       "<Figure size 640x480 with 1 Axes>"
      ]
     },
     "metadata": {},
     "output_type": "display_data"
    }
   ],
   "source": [
    "train_set_transformed.groupby(\"weekday\").size()[weekdays].plot(kind=\"bar\")"
   ]
  },
  {
   "cell_type": "code",
   "execution_count": 23,
   "id": "427bd499-043f-46ce-be87-3ced240848ad",
   "metadata": {
    "tags": []
   },
   "outputs": [
    {
     "data": {
      "text/plain": [
       "<Axes: >"
      ]
     },
     "execution_count": 23,
     "metadata": {},
     "output_type": "execute_result"
    },
    {
     "data": {
      "image/png": "[encoded data removed]",
      "text/plain": [
       "<Figure size 1200x800 with 1 Axes>"
      ]
     },
     "metadata": {},
     "output_type": "display_data"
    }
   ],
   "source": [
    "train_set_transformed[[\"delta_days\", \"disposition\"]].groupby(\"disposition\").boxplot(subplots=False, figsize=(12, 8))"
   ]
  },
  {
   "cell_type": "code",
   "execution_count": 24,
   "id": "16a3591b-503e-45b7-8090-71ddb60f1109",
   "metadata": {
    "tags": []
   },
   "outputs": [],
   "source": [
    "onehot_encoder = OneHotEncoder(sparse_output = False)"
   ]
  },
  {
   "cell_type": "code",
   "execution_count": 25,
   "id": "c4853e93-4e14-45f0-afbe-a65f710079c2",
   "metadata": {
    "tags": []
   },
   "outputs": [],
   "source": [
    "train_set_onehot = train_set_transformed[[\"victim_race\", \"victim_sex\", \"month\", \"weekday\"]]"
   ]
  },
  {
   "cell_type": "code",
   "execution_count": 26,
   "id": "150ec251-2f89-4fcb-88d4-70ab865d6c48",
   "metadata": {
    "tags": []
   },
   "outputs": [],
   "source": [
    "train_set_onehot_array = onehot_encoder.fit_transform(train_set_onehot)"
   ]
  },
  {
   "cell_type": "code",
   "execution_count": 27,
   "id": "db6d617e-369d-4cd6-a179-d0d1d69b55b9",
   "metadata": {
    "tags": []
   },
   "outputs": [
    {
     "data": {
      "text/plain": [
       "array([[0., 1., 0., ..., 1., 0., 0.],\n",
       "       [0., 1., 0., ..., 0., 0., 0.],\n",
       "       [0., 0., 1., ..., 0., 0., 0.],\n",
       "       ...,\n",
       "       [0., 1., 0., ..., 0., 0., 0.],\n",
       "       [0., 0., 1., ..., 0., 0., 0.],\n",
       "       [0., 1., 0., ..., 0., 0., 0.]])"
      ]
     },
     "execution_count": 27,
     "metadata": {},
     "output_type": "execute_result"
    }
   ],
   "source": [
    "train_set_onehot_array"
   ]
  },
  {
   "cell_type": "code",
   "execution_count": 28,
   "id": "6487c566-1510-4831-a167-c1ba764e5511",
   "metadata": {
    "tags": []
   },
   "outputs": [],
   "source": [
    "train_set_onehot = pd.DataFrame(train_set_onehot_array,\n",
    "                               columns = onehot_encoder.get_feature_names_out(),\n",
    "                               index = train_set_onehot.index).astype(int)"
   ]
  },
  {
   "cell_type": "code",
   "execution_count": 29,
   "id": "b4aeb5a5-fb18-474a-a757-20a2857d9a89",
   "metadata": {
    "tags": []
   },
   "outputs": [
    {
     "data": {
      "text/html": [
       "<div>\n",
       "<style scoped>\n",
       "    .dataframe tbody tr th:only-of-type {\n",
       "        vertical-align: middle;\n",
       "    }\n",
       "\n",
       "    .dataframe tbody tr th {\n",
       "        vertical-align: top;\n",
       "    }\n",
       "\n",
       "    .dataframe thead th {\n",
       "        text-align: right;\n",
       "    }\n",
       "</style>\n",
       "<table border=\"1\" class=\"dataframe\">\n",
       "  <thead>\n",
       "    <tr style=\"text-align: right;\">\n",
       "      <th></th>\n",
       "      <th>victim_race_Asian</th>\n",
       "      <th>victim_race_Black</th>\n",
       "      <th>victim_race_Hispanic</th>\n",
       "      <th>victim_race_Other</th>\n",
       "      <th>victim_race_Unknown</th>\n",
       "      <th>victim_race_White</th>\n",
       "      <th>victim_sex_Female</th>\n",
       "      <th>victim_sex_Male</th>\n",
       "      <th>victim_sex_Unknown</th>\n",
       "      <th>month_April</th>\n",
       "      <th>...</th>\n",
       "      <th>month_November</th>\n",
       "      <th>month_October</th>\n",
       "      <th>month_September</th>\n",
       "      <th>weekday_Friday</th>\n",
       "      <th>weekday_Monday</th>\n",
       "      <th>weekday_Saturday</th>\n",
       "      <th>weekday_Sunday</th>\n",
       "      <th>weekday_Thursday</th>\n",
       "      <th>weekday_Tuesday</th>\n",
       "      <th>weekday_Wednesday</th>\n",
       "    </tr>\n",
       "  </thead>\n",
       "  <tbody>\n",
       "    <tr>\n",
       "      <th>36067</th>\n",
       "      <td>0</td>\n",
       "      <td>1</td>\n",
       "      <td>0</td>\n",
       "      <td>0</td>\n",
       "      <td>0</td>\n",
       "      <td>0</td>\n",
       "      <td>0</td>\n",
       "      <td>1</td>\n",
       "      <td>0</td>\n",
       "      <td>0</td>\n",
       "      <td>...</td>\n",
       "      <td>0</td>\n",
       "      <td>0</td>\n",
       "      <td>0</td>\n",
       "      <td>0</td>\n",
       "      <td>0</td>\n",
       "      <td>0</td>\n",
       "      <td>0</td>\n",
       "      <td>1</td>\n",
       "      <td>0</td>\n",
       "      <td>0</td>\n",
       "    </tr>\n",
       "    <tr>\n",
       "      <th>12917</th>\n",
       "      <td>0</td>\n",
       "      <td>1</td>\n",
       "      <td>0</td>\n",
       "      <td>0</td>\n",
       "      <td>0</td>\n",
       "      <td>0</td>\n",
       "      <td>0</td>\n",
       "      <td>1</td>\n",
       "      <td>0</td>\n",
       "      <td>1</td>\n",
       "      <td>...</td>\n",
       "      <td>0</td>\n",
       "      <td>0</td>\n",
       "      <td>0</td>\n",
       "      <td>0</td>\n",
       "      <td>0</td>\n",
       "      <td>1</td>\n",
       "      <td>0</td>\n",
       "      <td>0</td>\n",
       "      <td>0</td>\n",
       "      <td>0</td>\n",
       "    </tr>\n",
       "    <tr>\n",
       "      <th>5483</th>\n",
       "      <td>0</td>\n",
       "      <td>0</td>\n",
       "      <td>1</td>\n",
       "      <td>0</td>\n",
       "      <td>0</td>\n",
       "      <td>0</td>\n",
       "      <td>0</td>\n",
       "      <td>1</td>\n",
       "      <td>0</td>\n",
       "      <td>0</td>\n",
       "      <td>...</td>\n",
       "      <td>1</td>\n",
       "      <td>0</td>\n",
       "      <td>0</td>\n",
       "      <td>1</td>\n",
       "      <td>0</td>\n",
       "      <td>0</td>\n",
       "      <td>0</td>\n",
       "      <td>0</td>\n",
       "      <td>0</td>\n",
       "      <td>0</td>\n",
       "    </tr>\n",
       "    <tr>\n",
       "      <th>39001</th>\n",
       "      <td>0</td>\n",
       "      <td>1</td>\n",
       "      <td>0</td>\n",
       "      <td>0</td>\n",
       "      <td>0</td>\n",
       "      <td>0</td>\n",
       "      <td>0</td>\n",
       "      <td>1</td>\n",
       "      <td>0</td>\n",
       "      <td>0</td>\n",
       "      <td>...</td>\n",
       "      <td>0</td>\n",
       "      <td>0</td>\n",
       "      <td>0</td>\n",
       "      <td>0</td>\n",
       "      <td>0</td>\n",
       "      <td>0</td>\n",
       "      <td>1</td>\n",
       "      <td>0</td>\n",
       "      <td>0</td>\n",
       "      <td>0</td>\n",
       "    </tr>\n",
       "    <tr>\n",
       "      <th>37081</th>\n",
       "      <td>0</td>\n",
       "      <td>1</td>\n",
       "      <td>0</td>\n",
       "      <td>0</td>\n",
       "      <td>0</td>\n",
       "      <td>0</td>\n",
       "      <td>0</td>\n",
       "      <td>1</td>\n",
       "      <td>0</td>\n",
       "      <td>0</td>\n",
       "      <td>...</td>\n",
       "      <td>0</td>\n",
       "      <td>0</td>\n",
       "      <td>0</td>\n",
       "      <td>0</td>\n",
       "      <td>1</td>\n",
       "      <td>0</td>\n",
       "      <td>0</td>\n",
       "      <td>0</td>\n",
       "      <td>0</td>\n",
       "      <td>0</td>\n",
       "    </tr>\n",
       "    <tr>\n",
       "      <th>...</th>\n",
       "      <td>...</td>\n",
       "      <td>...</td>\n",
       "      <td>...</td>\n",
       "      <td>...</td>\n",
       "      <td>...</td>\n",
       "      <td>...</td>\n",
       "      <td>...</td>\n",
       "      <td>...</td>\n",
       "      <td>...</td>\n",
       "      <td>...</td>\n",
       "      <td>...</td>\n",
       "      <td>...</td>\n",
       "      <td>...</td>\n",
       "      <td>...</td>\n",
       "      <td>...</td>\n",
       "      <td>...</td>\n",
       "      <td>...</td>\n",
       "      <td>...</td>\n",
       "      <td>...</td>\n",
       "      <td>...</td>\n",
       "      <td>...</td>\n",
       "    </tr>\n",
       "    <tr>\n",
       "      <th>30047</th>\n",
       "      <td>0</td>\n",
       "      <td>0</td>\n",
       "      <td>1</td>\n",
       "      <td>0</td>\n",
       "      <td>0</td>\n",
       "      <td>0</td>\n",
       "      <td>0</td>\n",
       "      <td>1</td>\n",
       "      <td>0</td>\n",
       "      <td>0</td>\n",
       "      <td>...</td>\n",
       "      <td>0</td>\n",
       "      <td>1</td>\n",
       "      <td>0</td>\n",
       "      <td>0</td>\n",
       "      <td>1</td>\n",
       "      <td>0</td>\n",
       "      <td>0</td>\n",
       "      <td>0</td>\n",
       "      <td>0</td>\n",
       "      <td>0</td>\n",
       "    </tr>\n",
       "    <tr>\n",
       "      <th>9161</th>\n",
       "      <td>0</td>\n",
       "      <td>1</td>\n",
       "      <td>0</td>\n",
       "      <td>0</td>\n",
       "      <td>0</td>\n",
       "      <td>0</td>\n",
       "      <td>0</td>\n",
       "      <td>1</td>\n",
       "      <td>0</td>\n",
       "      <td>1</td>\n",
       "      <td>...</td>\n",
       "      <td>0</td>\n",
       "      <td>0</td>\n",
       "      <td>0</td>\n",
       "      <td>0</td>\n",
       "      <td>0</td>\n",
       "      <td>0</td>\n",
       "      <td>1</td>\n",
       "      <td>0</td>\n",
       "      <td>0</td>\n",
       "      <td>0</td>\n",
       "    </tr>\n",
       "    <tr>\n",
       "      <th>18740</th>\n",
       "      <td>0</td>\n",
       "      <td>1</td>\n",
       "      <td>0</td>\n",
       "      <td>0</td>\n",
       "      <td>0</td>\n",
       "      <td>0</td>\n",
       "      <td>0</td>\n",
       "      <td>1</td>\n",
       "      <td>0</td>\n",
       "      <td>0</td>\n",
       "      <td>...</td>\n",
       "      <td>0</td>\n",
       "      <td>0</td>\n",
       "      <td>1</td>\n",
       "      <td>0</td>\n",
       "      <td>0</td>\n",
       "      <td>0</td>\n",
       "      <td>1</td>\n",
       "      <td>0</td>\n",
       "      <td>0</td>\n",
       "      <td>0</td>\n",
       "    </tr>\n",
       "    <tr>\n",
       "      <th>29227</th>\n",
       "      <td>0</td>\n",
       "      <td>0</td>\n",
       "      <td>1</td>\n",
       "      <td>0</td>\n",
       "      <td>0</td>\n",
       "      <td>0</td>\n",
       "      <td>0</td>\n",
       "      <td>1</td>\n",
       "      <td>0</td>\n",
       "      <td>0</td>\n",
       "      <td>...</td>\n",
       "      <td>0</td>\n",
       "      <td>0</td>\n",
       "      <td>0</td>\n",
       "      <td>0</td>\n",
       "      <td>0</td>\n",
       "      <td>1</td>\n",
       "      <td>0</td>\n",
       "      <td>0</td>\n",
       "      <td>0</td>\n",
       "      <td>0</td>\n",
       "    </tr>\n",
       "    <tr>\n",
       "      <th>2873</th>\n",
       "      <td>0</td>\n",
       "      <td>1</td>\n",
       "      <td>0</td>\n",
       "      <td>0</td>\n",
       "      <td>0</td>\n",
       "      <td>0</td>\n",
       "      <td>0</td>\n",
       "      <td>1</td>\n",
       "      <td>0</td>\n",
       "      <td>0</td>\n",
       "      <td>...</td>\n",
       "      <td>0</td>\n",
       "      <td>0</td>\n",
       "      <td>0</td>\n",
       "      <td>0</td>\n",
       "      <td>1</td>\n",
       "      <td>0</td>\n",
       "      <td>0</td>\n",
       "      <td>0</td>\n",
       "      <td>0</td>\n",
       "      <td>0</td>\n",
       "    </tr>\n",
       "  </tbody>\n",
       "</table>\n",
       "<p>41743 rows × 28 columns</p>\n",
       "</div>"
      ],
      "text/plain": [
       "       victim_race_Asian  victim_race_Black  victim_race_Hispanic  \\\n",
       "36067                  0                  1                     0   \n",
       "12917                  0                  1                     0   \n",
       "5483                   0                  0                     1   \n",
       "39001                  0                  1                     0   \n",
       "37081                  0                  1                     0   \n",
       "...                  ...                ...                   ...   \n",
       "30047                  0                  0                     1   \n",
       "9161                   0                  1                     0   \n",
       "18740                  0                  1                     0   \n",
       "29227                  0                  0                     1   \n",
       "2873                   0                  1                     0   \n",
       "\n",
       "       victim_race_Other  victim_race_Unknown  victim_race_White  \\\n",
       "36067                  0                    0                  0   \n",
       "12917                  0                    0                  0   \n",
       "5483                   0                    0                  0   \n",
       "39001                  0                    0                  0   \n",
       "37081                  0                    0                  0   \n",
       "...                  ...                  ...                ...   \n",
       "30047                  0                    0                  0   \n",
       "9161                   0                    0                  0   \n",
       "18740                  0                    0                  0   \n",
       "29227                  0                    0                  0   \n",
       "2873                   0                    0                  0   \n",
       "\n",
       "       victim_sex_Female  victim_sex_Male  victim_sex_Unknown  month_April  \\\n",
       "36067                  0                1                   0            0   \n",
       "12917                  0                1                   0            1   \n",
       "5483                   0                1                   0            0   \n",
       "39001                  0                1                   0            0   \n",
       "37081                  0                1                   0            0   \n",
       "...                  ...              ...                 ...          ...   \n",
       "30047                  0                1                   0            0   \n",
       "9161                   0                1                   0            1   \n",
       "18740                  0                1                   0            0   \n",
       "29227                  0                1                   0            0   \n",
       "2873                   0                1                   0            0   \n",
       "\n",
       "       ...  month_November  month_October  month_September  weekday_Friday  \\\n",
       "36067  ...               0              0                0               0   \n",
       "12917  ...               0              0                0               0   \n",
       "5483   ...               1              0                0               1   \n",
       "39001  ...               0              0                0               0   \n",
       "37081  ...               0              0                0               0   \n",
       "...    ...             ...            ...              ...             ...   \n",
       "30047  ...               0              1                0               0   \n",
       "9161   ...               0              0                0               0   \n",
       "18740  ...               0              0                1               0   \n",
       "29227  ...               0              0                0               0   \n",
       "2873   ...               0              0                0               0   \n",
       "\n",
       "       weekday_Monday  weekday_Saturday  weekday_Sunday  weekday_Thursday  \\\n",
       "36067               0                 0               0                 1   \n",
       "12917               0                 1               0                 0   \n",
       "5483                0                 0               0                 0   \n",
       "39001               0                 0               1                 0   \n",
       "37081               1                 0               0                 0   \n",
       "...               ...               ...             ...               ...   \n",
       "30047               1                 0               0                 0   \n",
       "9161                0                 0               1                 0   \n",
       "18740               0                 0               1                 0   \n",
       "29227               0                 1               0                 0   \n",
       "2873                1                 0               0                 0   \n",
       "\n",
       "       weekday_Tuesday  weekday_Wednesday  \n",
       "36067                0                  0  \n",
       "12917                0                  0  \n",
       "5483                 0                  0  \n",
       "39001                0                  0  \n",
       "37081                0                  0  \n",
       "...                ...                ...  \n",
       "30047                0                  0  \n",
       "9161                 0                  0  \n",
       "18740                0                  0  \n",
       "29227                0                  0  \n",
       "2873                 0                  0  \n",
       "\n",
       "[41743 rows x 28 columns]"
      ]
     },
     "execution_count": 29,
     "metadata": {},
     "output_type": "execute_result"
    }
   ],
   "source": [
    "train_set_onehot"
   ]
  },
  {
   "cell_type": "code",
   "execution_count": 30,
   "id": "12f75840-f89e-4967-a763-0255a2a0667b",
   "metadata": {
    "tags": []
   },
   "outputs": [],
   "source": [
    "train_set_num = train_set_transformed[[\"victim_age\", \"lat\", \"lon\", \"delta_days\"]]"
   ]
  },
  {
   "cell_type": "code",
   "execution_count": 31,
   "id": "5a2b465c-062f-45da-98e5-0496541ead98",
   "metadata": {
    "tags": []
   },
   "outputs": [],
   "source": [
    "min_max_scaler = MinMaxScaler()"
   ]
  },
  {
   "cell_type": "code",
   "execution_count": 32,
   "id": "d1360676-edc1-428a-8540-ec895717bac5",
   "metadata": {
    "tags": []
   },
   "outputs": [],
   "source": [
    "train_set_num_scaled = min_max_scaler.fit_transform(train_set_num)"
   ]
  },
  {
   "cell_type": "code",
   "execution_count": 33,
   "id": "0ce65548-a722-4d8a-8d4c-4833558d8e08",
   "metadata": {
    "tags": []
   },
   "outputs": [
    {
     "data": {
      "text/plain": [
       "array([[0.2745098 , 0.22469475, 0.63231302, 0.68732885],\n",
       "       [0.29411765, 0.6946561 , 0.73705368, 0.79138661],\n",
       "       [0.21568627, 0.85879285, 0.99814447, 0.19218322],\n",
       "       ...,\n",
       "       [0.34313725, 0.86287903, 0.76672947, 0.02439632],\n",
       "       [0.20588235, 0.43119096, 0.08226161, 0.54045307],\n",
       "       [0.20588235, 0.70181928, 0.89072957, 0.39880508]])"
      ]
     },
     "execution_count": 33,
     "metadata": {},
     "output_type": "execute_result"
    }
   ],
   "source": [
    "train_set_num_scaled"
   ]
  },
  {
   "cell_type": "code",
   "execution_count": 34,
   "id": "00330be4-1c3b-4dd3-98ab-8cdf19cbd622",
   "metadata": {
    "tags": []
   },
   "outputs": [],
   "source": [
    "train_set_num = pd.DataFrame(train_set_num_scaled,\n",
    "                            columns = min_max_scaler.get_feature_names_out(),\n",
    "                            index = train_set_num.index)"
   ]
  },
  {
   "cell_type": "code",
   "execution_count": 35,
   "id": "24bea3aa-ae36-4499-90c8-fdf37ccb44c0",
   "metadata": {
    "tags": []
   },
   "outputs": [
    {
     "data": {
      "text/html": [
       "<div>\n",
       "<style scoped>\n",
       "    .dataframe tbody tr th:only-of-type {\n",
       "        vertical-align: middle;\n",
       "    }\n",
       "\n",
       "    .dataframe tbody tr th {\n",
       "        vertical-align: top;\n",
       "    }\n",
       "\n",
       "    .dataframe thead th {\n",
       "        text-align: right;\n",
       "    }\n",
       "</style>\n",
       "<table border=\"1\" class=\"dataframe\">\n",
       "  <thead>\n",
       "    <tr style=\"text-align: right;\">\n",
       "      <th></th>\n",
       "      <th>victim_age</th>\n",
       "      <th>lat</th>\n",
       "      <th>lon</th>\n",
       "      <th>delta_days</th>\n",
       "    </tr>\n",
       "  </thead>\n",
       "  <tbody>\n",
       "    <tr>\n",
       "      <th>36067</th>\n",
       "      <td>0.274510</td>\n",
       "      <td>0.224695</td>\n",
       "      <td>0.632313</td>\n",
       "      <td>0.687329</td>\n",
       "    </tr>\n",
       "    <tr>\n",
       "      <th>12917</th>\n",
       "      <td>0.294118</td>\n",
       "      <td>0.694656</td>\n",
       "      <td>0.737054</td>\n",
       "      <td>0.791387</td>\n",
       "    </tr>\n",
       "    <tr>\n",
       "      <th>5483</th>\n",
       "      <td>0.215686</td>\n",
       "      <td>0.858793</td>\n",
       "      <td>0.998144</td>\n",
       "      <td>0.192183</td>\n",
       "    </tr>\n",
       "    <tr>\n",
       "      <th>39001</th>\n",
       "      <td>0.166667</td>\n",
       "      <td>0.505719</td>\n",
       "      <td>0.483992</td>\n",
       "      <td>0.954941</td>\n",
       "    </tr>\n",
       "    <tr>\n",
       "      <th>37081</th>\n",
       "      <td>0.450980</td>\n",
       "      <td>0.219693</td>\n",
       "      <td>0.628950</td>\n",
       "      <td>0.165297</td>\n",
       "    </tr>\n",
       "    <tr>\n",
       "      <th>...</th>\n",
       "      <td>...</td>\n",
       "      <td>...</td>\n",
       "      <td>...</td>\n",
       "      <td>...</td>\n",
       "    </tr>\n",
       "    <tr>\n",
       "      <th>30047</th>\n",
       "      <td>0.264706</td>\n",
       "      <td>0.430658</td>\n",
       "      <td>0.082213</td>\n",
       "      <td>0.200149</td>\n",
       "    </tr>\n",
       "    <tr>\n",
       "      <th>9161</th>\n",
       "      <td>0.009804</td>\n",
       "      <td>0.826458</td>\n",
       "      <td>0.677375</td>\n",
       "      <td>0.609908</td>\n",
       "    </tr>\n",
       "    <tr>\n",
       "      <th>18740</th>\n",
       "      <td>0.343137</td>\n",
       "      <td>0.862879</td>\n",
       "      <td>0.766729</td>\n",
       "      <td>0.024396</td>\n",
       "    </tr>\n",
       "    <tr>\n",
       "      <th>29227</th>\n",
       "      <td>0.205882</td>\n",
       "      <td>0.431191</td>\n",
       "      <td>0.082262</td>\n",
       "      <td>0.540453</td>\n",
       "    </tr>\n",
       "    <tr>\n",
       "      <th>2873</th>\n",
       "      <td>0.205882</td>\n",
       "      <td>0.701819</td>\n",
       "      <td>0.890730</td>\n",
       "      <td>0.398805</td>\n",
       "    </tr>\n",
       "  </tbody>\n",
       "</table>\n",
       "<p>41743 rows × 4 columns</p>\n",
       "</div>"
      ],
      "text/plain": [
       "       victim_age       lat       lon  delta_days\n",
       "36067    0.274510  0.224695  0.632313    0.687329\n",
       "12917    0.294118  0.694656  0.737054    0.791387\n",
       "5483     0.215686  0.858793  0.998144    0.192183\n",
       "39001    0.166667  0.505719  0.483992    0.954941\n",
       "37081    0.450980  0.219693  0.628950    0.165297\n",
       "...           ...       ...       ...         ...\n",
       "30047    0.264706  0.430658  0.082213    0.200149\n",
       "9161     0.009804  0.826458  0.677375    0.609908\n",
       "18740    0.343137  0.862879  0.766729    0.024396\n",
       "29227    0.205882  0.431191  0.082262    0.540453\n",
       "2873     0.205882  0.701819  0.890730    0.398805\n",
       "\n",
       "[41743 rows x 4 columns]"
      ]
     },
     "execution_count": 35,
     "metadata": {},
     "output_type": "execute_result"
    }
   ],
   "source": [
    "train_set_num"
   ]
  },
  {
   "cell_type": "code",
   "execution_count": 36,
   "id": "a5615617-4d23-41e9-a94e-95d7cf197541",
   "metadata": {
    "tags": []
   },
   "outputs": [],
   "source": [
    "train_set_complete = pd.concat((train_set_onehot, train_set_num), axis = 1)"
   ]
  },
  {
   "cell_type": "code",
   "execution_count": 37,
   "id": "19b2e89a-e9d3-4e5c-a51e-a85a6de0e837",
   "metadata": {
    "tags": []
   },
   "outputs": [
    {
     "data": {
      "text/html": [
       "<div>\n",
       "<style scoped>\n",
       "    .dataframe tbody tr th:only-of-type {\n",
       "        vertical-align: middle;\n",
       "    }\n",
       "\n",
       "    .dataframe tbody tr th {\n",
       "        vertical-align: top;\n",
       "    }\n",
       "\n",
       "    .dataframe thead th {\n",
       "        text-align: right;\n",
       "    }\n",
       "</style>\n",
       "<table border=\"1\" class=\"dataframe\">\n",
       "  <thead>\n",
       "    <tr style=\"text-align: right;\">\n",
       "      <th></th>\n",
       "      <th>victim_race_Asian</th>\n",
       "      <th>victim_race_Black</th>\n",
       "      <th>victim_race_Hispanic</th>\n",
       "      <th>victim_race_Other</th>\n",
       "      <th>victim_race_Unknown</th>\n",
       "      <th>victim_race_White</th>\n",
       "      <th>victim_sex_Female</th>\n",
       "      <th>victim_sex_Male</th>\n",
       "      <th>victim_sex_Unknown</th>\n",
       "      <th>month_April</th>\n",
       "      <th>...</th>\n",
       "      <th>weekday_Monday</th>\n",
       "      <th>weekday_Saturday</th>\n",
       "      <th>weekday_Sunday</th>\n",
       "      <th>weekday_Thursday</th>\n",
       "      <th>weekday_Tuesday</th>\n",
       "      <th>weekday_Wednesday</th>\n",
       "      <th>victim_age</th>\n",
       "      <th>lat</th>\n",
       "      <th>lon</th>\n",
       "      <th>delta_days</th>\n",
       "    </tr>\n",
       "  </thead>\n",
       "  <tbody>\n",
       "    <tr>\n",
       "      <th>36067</th>\n",
       "      <td>0</td>\n",
       "      <td>1</td>\n",
       "      <td>0</td>\n",
       "      <td>0</td>\n",
       "      <td>0</td>\n",
       "      <td>0</td>\n",
       "      <td>0</td>\n",
       "      <td>1</td>\n",
       "      <td>0</td>\n",
       "      <td>0</td>\n",
       "      <td>...</td>\n",
       "      <td>0</td>\n",
       "      <td>0</td>\n",
       "      <td>0</td>\n",
       "      <td>1</td>\n",
       "      <td>0</td>\n",
       "      <td>0</td>\n",
       "      <td>0.274510</td>\n",
       "      <td>0.224695</td>\n",
       "      <td>0.632313</td>\n",
       "      <td>0.687329</td>\n",
       "    </tr>\n",
       "    <tr>\n",
       "      <th>12917</th>\n",
       "      <td>0</td>\n",
       "      <td>1</td>\n",
       "      <td>0</td>\n",
       "      <td>0</td>\n",
       "      <td>0</td>\n",
       "      <td>0</td>\n",
       "      <td>0</td>\n",
       "      <td>1</td>\n",
       "      <td>0</td>\n",
       "      <td>1</td>\n",
       "      <td>...</td>\n",
       "      <td>0</td>\n",
       "      <td>1</td>\n",
       "      <td>0</td>\n",
       "      <td>0</td>\n",
       "      <td>0</td>\n",
       "      <td>0</td>\n",
       "      <td>0.294118</td>\n",
       "      <td>0.694656</td>\n",
       "      <td>0.737054</td>\n",
       "      <td>0.791387</td>\n",
       "    </tr>\n",
       "    <tr>\n",
       "      <th>5483</th>\n",
       "      <td>0</td>\n",
       "      <td>0</td>\n",
       "      <td>1</td>\n",
       "      <td>0</td>\n",
       "      <td>0</td>\n",
       "      <td>0</td>\n",
       "      <td>0</td>\n",
       "      <td>1</td>\n",
       "      <td>0</td>\n",
       "      <td>0</td>\n",
       "      <td>...</td>\n",
       "      <td>0</td>\n",
       "      <td>0</td>\n",
       "      <td>0</td>\n",
       "      <td>0</td>\n",
       "      <td>0</td>\n",
       "      <td>0</td>\n",
       "      <td>0.215686</td>\n",
       "      <td>0.858793</td>\n",
       "      <td>0.998144</td>\n",
       "      <td>0.192183</td>\n",
       "    </tr>\n",
       "    <tr>\n",
       "      <th>39001</th>\n",
       "      <td>0</td>\n",
       "      <td>1</td>\n",
       "      <td>0</td>\n",
       "      <td>0</td>\n",
       "      <td>0</td>\n",
       "      <td>0</td>\n",
       "      <td>0</td>\n",
       "      <td>1</td>\n",
       "      <td>0</td>\n",
       "      <td>0</td>\n",
       "      <td>...</td>\n",
       "      <td>0</td>\n",
       "      <td>0</td>\n",
       "      <td>1</td>\n",
       "      <td>0</td>\n",
       "      <td>0</td>\n",
       "      <td>0</td>\n",
       "      <td>0.166667</td>\n",
       "      <td>0.505719</td>\n",
       "      <td>0.483992</td>\n",
       "      <td>0.954941</td>\n",
       "    </tr>\n",
       "    <tr>\n",
       "      <th>37081</th>\n",
       "      <td>0</td>\n",
       "      <td>1</td>\n",
       "      <td>0</td>\n",
       "      <td>0</td>\n",
       "      <td>0</td>\n",
       "      <td>0</td>\n",
       "      <td>0</td>\n",
       "      <td>1</td>\n",
       "      <td>0</td>\n",
       "      <td>0</td>\n",
       "      <td>...</td>\n",
       "      <td>1</td>\n",
       "      <td>0</td>\n",
       "      <td>0</td>\n",
       "      <td>0</td>\n",
       "      <td>0</td>\n",
       "      <td>0</td>\n",
       "      <td>0.450980</td>\n",
       "      <td>0.219693</td>\n",
       "      <td>0.628950</td>\n",
       "      <td>0.165297</td>\n",
       "    </tr>\n",
       "    <tr>\n",
       "      <th>...</th>\n",
       "      <td>...</td>\n",
       "      <td>...</td>\n",
       "      <td>...</td>\n",
       "      <td>...</td>\n",
       "      <td>...</td>\n",
       "      <td>...</td>\n",
       "      <td>...</td>\n",
       "      <td>...</td>\n",
       "      <td>...</td>\n",
       "      <td>...</td>\n",
       "      <td>...</td>\n",
       "      <td>...</td>\n",
       "      <td>...</td>\n",
       "      <td>...</td>\n",
       "      <td>...</td>\n",
       "      <td>...</td>\n",
       "      <td>...</td>\n",
       "      <td>...</td>\n",
       "      <td>...</td>\n",
       "      <td>...</td>\n",
       "      <td>...</td>\n",
       "    </tr>\n",
       "    <tr>\n",
       "      <th>30047</th>\n",
       "      <td>0</td>\n",
       "      <td>0</td>\n",
       "      <td>1</td>\n",
       "      <td>0</td>\n",
       "      <td>0</td>\n",
       "      <td>0</td>\n",
       "      <td>0</td>\n",
       "      <td>1</td>\n",
       "      <td>0</td>\n",
       "      <td>0</td>\n",
       "      <td>...</td>\n",
       "      <td>1</td>\n",
       "      <td>0</td>\n",
       "      <td>0</td>\n",
       "      <td>0</td>\n",
       "      <td>0</td>\n",
       "      <td>0</td>\n",
       "      <td>0.264706</td>\n",
       "      <td>0.430658</td>\n",
       "      <td>0.082213</td>\n",
       "      <td>0.200149</td>\n",
       "    </tr>\n",
       "    <tr>\n",
       "      <th>9161</th>\n",
       "      <td>0</td>\n",
       "      <td>1</td>\n",
       "      <td>0</td>\n",
       "      <td>0</td>\n",
       "      <td>0</td>\n",
       "      <td>0</td>\n",
       "      <td>0</td>\n",
       "      <td>1</td>\n",
       "      <td>0</td>\n",
       "      <td>1</td>\n",
       "      <td>...</td>\n",
       "      <td>0</td>\n",
       "      <td>0</td>\n",
       "      <td>1</td>\n",
       "      <td>0</td>\n",
       "      <td>0</td>\n",
       "      <td>0</td>\n",
       "      <td>0.009804</td>\n",
       "      <td>0.826458</td>\n",
       "      <td>0.677375</td>\n",
       "      <td>0.609908</td>\n",
       "    </tr>\n",
       "    <tr>\n",
       "      <th>18740</th>\n",
       "      <td>0</td>\n",
       "      <td>1</td>\n",
       "      <td>0</td>\n",
       "      <td>0</td>\n",
       "      <td>0</td>\n",
       "      <td>0</td>\n",
       "      <td>0</td>\n",
       "      <td>1</td>\n",
       "      <td>0</td>\n",
       "      <td>0</td>\n",
       "      <td>...</td>\n",
       "      <td>0</td>\n",
       "      <td>0</td>\n",
       "      <td>1</td>\n",
       "      <td>0</td>\n",
       "      <td>0</td>\n",
       "      <td>0</td>\n",
       "      <td>0.343137</td>\n",
       "      <td>0.862879</td>\n",
       "      <td>0.766729</td>\n",
       "      <td>0.024396</td>\n",
       "    </tr>\n",
       "    <tr>\n",
       "      <th>29227</th>\n",
       "      <td>0</td>\n",
       "      <td>0</td>\n",
       "      <td>1</td>\n",
       "      <td>0</td>\n",
       "      <td>0</td>\n",
       "      <td>0</td>\n",
       "      <td>0</td>\n",
       "      <td>1</td>\n",
       "      <td>0</td>\n",
       "      <td>0</td>\n",
       "      <td>...</td>\n",
       "      <td>0</td>\n",
       "      <td>1</td>\n",
       "      <td>0</td>\n",
       "      <td>0</td>\n",
       "      <td>0</td>\n",
       "      <td>0</td>\n",
       "      <td>0.205882</td>\n",
       "      <td>0.431191</td>\n",
       "      <td>0.082262</td>\n",
       "      <td>0.540453</td>\n",
       "    </tr>\n",
       "    <tr>\n",
       "      <th>2873</th>\n",
       "      <td>0</td>\n",
       "      <td>1</td>\n",
       "      <td>0</td>\n",
       "      <td>0</td>\n",
       "      <td>0</td>\n",
       "      <td>0</td>\n",
       "      <td>0</td>\n",
       "      <td>1</td>\n",
       "      <td>0</td>\n",
       "      <td>0</td>\n",
       "      <td>...</td>\n",
       "      <td>1</td>\n",
       "      <td>0</td>\n",
       "      <td>0</td>\n",
       "      <td>0</td>\n",
       "      <td>0</td>\n",
       "      <td>0</td>\n",
       "      <td>0.205882</td>\n",
       "      <td>0.701819</td>\n",
       "      <td>0.890730</td>\n",
       "      <td>0.398805</td>\n",
       "    </tr>\n",
       "  </tbody>\n",
       "</table>\n",
       "<p>41743 rows × 32 columns</p>\n",
       "</div>"
      ],
      "text/plain": [
       "       victim_race_Asian  victim_race_Black  victim_race_Hispanic  \\\n",
       "36067                  0                  1                     0   \n",
       "12917                  0                  1                     0   \n",
       "5483                   0                  0                     1   \n",
       "39001                  0                  1                     0   \n",
       "37081                  0                  1                     0   \n",
       "...                  ...                ...                   ...   \n",
       "30047                  0                  0                     1   \n",
       "9161                   0                  1                     0   \n",
       "18740                  0                  1                     0   \n",
       "29227                  0                  0                     1   \n",
       "2873                   0                  1                     0   \n",
       "\n",
       "       victim_race_Other  victim_race_Unknown  victim_race_White  \\\n",
       "36067                  0                    0                  0   \n",
       "12917                  0                    0                  0   \n",
       "5483                   0                    0                  0   \n",
       "39001                  0                    0                  0   \n",
       "37081                  0                    0                  0   \n",
       "...                  ...                  ...                ...   \n",
       "30047                  0                    0                  0   \n",
       "9161                   0                    0                  0   \n",
       "18740                  0                    0                  0   \n",
       "29227                  0                    0                  0   \n",
       "2873                   0                    0                  0   \n",
       "\n",
       "       victim_sex_Female  victim_sex_Male  victim_sex_Unknown  month_April  \\\n",
       "36067                  0                1                   0            0   \n",
       "12917                  0                1                   0            1   \n",
       "5483                   0                1                   0            0   \n",
       "39001                  0                1                   0            0   \n",
       "37081                  0                1                   0            0   \n",
       "...                  ...              ...                 ...          ...   \n",
       "30047                  0                1                   0            0   \n",
       "9161                   0                1                   0            1   \n",
       "18740                  0                1                   0            0   \n",
       "29227                  0                1                   0            0   \n",
       "2873                   0                1                   0            0   \n",
       "\n",
       "       ...  weekday_Monday  weekday_Saturday  weekday_Sunday  \\\n",
       "36067  ...               0                 0               0   \n",
       "12917  ...               0                 1               0   \n",
       "5483   ...               0                 0               0   \n",
       "39001  ...               0                 0               1   \n",
       "37081  ...               1                 0               0   \n",
       "...    ...             ...               ...             ...   \n",
       "30047  ...               1                 0               0   \n",
       "9161   ...               0                 0               1   \n",
       "18740  ...               0                 0               1   \n",
       "29227  ...               0                 1               0   \n",
       "2873   ...               1                 0               0   \n",
       "\n",
       "       weekday_Thursday  weekday_Tuesday  weekday_Wednesday  victim_age  \\\n",
       "36067                 1                0                  0    0.274510   \n",
       "12917                 0                0                  0    0.294118   \n",
       "5483                  0                0                  0    0.215686   \n",
       "39001                 0                0                  0    0.166667   \n",
       "37081                 0                0                  0    0.450980   \n",
       "...                 ...              ...                ...         ...   \n",
       "30047                 0                0                  0    0.264706   \n",
       "9161                  0                0                  0    0.009804   \n",
       "18740                 0                0                  0    0.343137   \n",
       "29227                 0                0                  0    0.205882   \n",
       "2873                  0                0                  0    0.205882   \n",
       "\n",
       "            lat       lon  delta_days  \n",
       "36067  0.224695  0.632313    0.687329  \n",
       "12917  0.694656  0.737054    0.791387  \n",
       "5483   0.858793  0.998144    0.192183  \n",
       "39001  0.505719  0.483992    0.954941  \n",
       "37081  0.219693  0.628950    0.165297  \n",
       "...         ...       ...         ...  \n",
       "30047  0.430658  0.082213    0.200149  \n",
       "9161   0.826458  0.677375    0.609908  \n",
       "18740  0.862879  0.766729    0.024396  \n",
       "29227  0.431191  0.082262    0.540453  \n",
       "2873   0.701819  0.890730    0.398805  \n",
       "\n",
       "[41743 rows x 32 columns]"
      ]
     },
     "execution_count": 37,
     "metadata": {},
     "output_type": "execute_result"
    }
   ],
   "source": [
    "train_set_complete"
   ]
  },
  {
   "cell_type": "markdown",
   "id": "27808ece-ed05-4d6f-b762-73bbb08ac3a2",
   "metadata": {},
   "source": [
    "## Make pipelines"
   ]
  },
  {
   "cell_type": "code",
   "execution_count": 38,
   "id": "e67f4887-4f5d-4f78-a6eb-4d475cb15f1b",
   "metadata": {
    "tags": []
   },
   "outputs": [],
   "source": [
    "num_pipeline = Pipeline([\n",
    "    (\"impute\", imputer),\n",
    "    (\"normalize\", min_max_scaler)\n",
    "])\n",
    "\n",
    "onehot_pipeline  = Pipeline([\n",
    "    (\"onehot\", onehot_encoder)\n",
    "])\n",
    "\n",
    "preprocessing = ColumnTransformer([\n",
    "    (\"numeric\", num_pipeline, [\"victim_age\", \"lat\", \"lon\", \"delta_days\"]),\n",
    "    (\"onehot\", onehot_pipeline, [\"victim_race\", \"victim_sex\", \"month\", \"weekday\"])\n",
    "])"
   ]
  },
  {
   "cell_type": "code",
   "execution_count": 39,
   "id": "8318f3c3-1c49-47bc-9693-13ab061674f8",
   "metadata": {
    "tags": []
   },
   "outputs": [
    {
     "name": "stdout",
     "output_type": "stream",
     "text": [
      "<class 'pandas.core.frame.DataFrame'>\n",
      "Index: 41743 entries, 36067 to 2873\n",
      "Data columns (total 10 columns):\n",
      " #   Column         Non-Null Count  Dtype         \n",
      "---  ------         --------------  -----         \n",
      " 0   reported_date  41743 non-null  datetime64[ns]\n",
      " 1   victim_race    41743 non-null  category      \n",
      " 2   victim_age     41743 non-null  float64       \n",
      " 3   victim_sex     41743 non-null  category      \n",
      " 4   lat            41743 non-null  float64       \n",
      " 5   lon            41743 non-null  float64       \n",
      " 6   disposition    41743 non-null  category      \n",
      " 7   month          41743 non-null  category      \n",
      " 8   weekday        41743 non-null  category      \n",
      " 9   delta_days     41743 non-null  int32         \n",
      "dtypes: category(5), datetime64[ns](1), float64(3), int32(1)\n",
      "memory usage: 2.0 MB\n"
     ]
    }
   ],
   "source": [
    "train_set_transformed.info()"
   ]
  },
  {
   "cell_type": "code",
   "execution_count": 40,
   "id": "0cd00f85-e726-4808-b978-bf238184fee4",
   "metadata": {
    "tags": []
   },
   "outputs": [],
   "source": [
    "train_set_prepared = preprocessing.fit_transform(train_set_transformed.drop(\"disposition\", axis=1))"
   ]
  },
  {
   "cell_type": "code",
   "execution_count": 41,
   "id": "631d1119-c54a-4a76-8fcf-367fa3794a78",
   "metadata": {
    "tags": []
   },
   "outputs": [
    {
     "data": {
      "text/plain": [
       "(41743, 32)"
      ]
     },
     "execution_count": 41,
     "metadata": {},
     "output_type": "execute_result"
    }
   ],
   "source": [
    "train_set_prepared.shape"
   ]
  },
  {
   "cell_type": "code",
   "execution_count": 42,
   "id": "74a11be6-8890-4e85-962b-38a2f164acd1",
   "metadata": {
    "tags": []
   },
   "outputs": [
    {
     "data": {
      "text/plain": [
       "array(['numeric__victim_age', 'numeric__lat', 'numeric__lon',\n",
       "       'numeric__delta_days', 'onehot__victim_race_Asian',\n",
       "       'onehot__victim_race_Black', 'onehot__victim_race_Hispanic',\n",
       "       'onehot__victim_race_Other', 'onehot__victim_race_Unknown',\n",
       "       'onehot__victim_race_White', 'onehot__victim_sex_Female',\n",
       "       'onehot__victim_sex_Male', 'onehot__victim_sex_Unknown',\n",
       "       'onehot__month_April', 'onehot__month_August',\n",
       "       'onehot__month_December', 'onehot__month_February',\n",
       "       'onehot__month_January', 'onehot__month_July',\n",
       "       'onehot__month_June', 'onehot__month_March', 'onehot__month_May',\n",
       "       'onehot__month_November', 'onehot__month_October',\n",
       "       'onehot__month_September', 'onehot__weekday_Friday',\n",
       "       'onehot__weekday_Monday', 'onehot__weekday_Saturday',\n",
       "       'onehot__weekday_Sunday', 'onehot__weekday_Thursday',\n",
       "       'onehot__weekday_Tuesday', 'onehot__weekday_Wednesday'],\n",
       "      dtype=object)"
      ]
     },
     "execution_count": 42,
     "metadata": {},
     "output_type": "execute_result"
    }
   ],
   "source": [
    "preprocessing.get_feature_names_out()"
   ]
  },
  {
   "cell_type": "markdown",
   "id": "70a7f460-7cad-4999-a079-1ea6102de66b",
   "metadata": {},
   "source": [
    "## Select and train a model"
   ]
  },
  {
   "cell_type": "code",
   "execution_count": 43,
   "id": "6fa6425f-c24c-4d4e-91b8-b321b8153dbd",
   "metadata": {
    "tags": []
   },
   "outputs": [],
   "source": [
    "from sklearn import set_config\n",
    "\n",
    "from sklearn.tree import DecisionTreeClassifier\n",
    "from sklearn.ensemble import RandomForestClassifier\n",
    "from sklearn.ensemble import BaggingClassifier\n",
    "from sklearn.ensemble import AdaBoostClassifier\n",
    "from sklearn.ensemble import GradientBoostingClassifier\n",
    "\n",
    "from sklearn.model_selection import GridSearchCV\n",
    "from sklearn.model_selection import StratifiedKFold\n",
    "\n",
    "from sklearn.metrics import precision_score, recall_score, f1_score, accuracy_score"
   ]
  },
  {
   "cell_type": "code",
   "execution_count": 44,
   "id": "0728ca94-9226-4588-95c8-7f8df5f4ca99",
   "metadata": {
    "tags": []
   },
   "outputs": [],
   "source": [
    "X_train = train_set_transformed.drop([\"disposition\"], axis=1)\n",
    "y_train = pd.Series(train_set_transformed[\"disposition\"])"
   ]
  },
  {
   "cell_type": "code",
   "execution_count": 45,
   "id": "573cdaf7-701d-489b-9b1b-fd1bbd6fe59a",
   "metadata": {
    "tags": []
   },
   "outputs": [],
   "source": [
    "set_config(transform_output=\"pandas\")"
   ]
  },
  {
   "cell_type": "code",
   "execution_count": 47,
   "id": "7bae8b3a-4370-4d90-95e5-2d12b93b68c5",
   "metadata": {
    "tags": []
   },
   "outputs": [],
   "source": [
    "decision_tree_classifier = Pipeline([\n",
    "    (\"preprocess\", preprocessing),\n",
    "    (\"train\", DecisionTreeClassifier(random_state=0))\n",
    "])\n",
    "\n",
    "random_forest_classifier = Pipeline([\n",
    "    (\"preprocess\", preprocessing),\n",
    "    (\"train\", RandomForestClassifier(random_state=0))\n",
    "])\n",
    "\n",
    "bagging_classifier = Pipeline([\n",
    "    (\"preprocess\", preprocessing),\n",
    "    (\"train\", BaggingClassifier(random_state=0))\n",
    "])\n",
    "\n",
    "ada_boost_classifier = Pipeline([\n",
    "    (\"preprocess\", preprocessing),\n",
    "    (\"train\", AdaBoostClassifier(random_state=0))\n",
    "])\n",
    "\n",
    "gradient_boosting_classifier = Pipeline([\n",
    "    (\"preprocess\", preprocessing),\n",
    "    (\"train\", GradientBoostingClassifier(random_state=0))\n",
    "])"
   ]
  },
  {
   "cell_type": "code",
   "execution_count": 48,
   "id": "4944181c-f89b-4fd1-a40a-bbb5a6898a35",
   "metadata": {
    "tags": []
   },
   "outputs": [],
   "source": [
    "skf = StratifiedKFold(n_splits=5, random_state=0, shuffle=True)"
   ]
  },
  {
   "cell_type": "code",
   "execution_count": 55,
   "id": "73df1018-655b-459f-bcd0-5c37c98faeac",
   "metadata": {
    "tags": []
   },
   "outputs": [],
   "source": [
    "def skfcv (classifier):\n",
    "    \n",
    "    precisions = []\n",
    "    recalls = []\n",
    "    f1s = []\n",
    "\n",
    "    for train_index, test_index in skf.split(X_train, y_train):\n",
    "        \n",
    "        X_train_fold, X_test_fold = X_train.iloc[train_index], X_train.iloc[test_index]\n",
    "        y_train_fold, y_test_fold = y_train.iloc[train_index], y_train.iloc[test_index]\n",
    "        \n",
    "        classifier.fit(X_train_fold, y_train_fold)\n",
    "        \n",
    "        predictions = classifier.predict(X_test_fold)\n",
    "        \n",
    "        if len(s := set(y_test_fold) - set(predictions)) > 0:\n",
    "            print(s)\n",
    "        \n",
    "        precisions.append(precision_score(y_test_fold, predictions, average=\"weighted\"))\n",
    "        recalls.append(recall_score(y_test_fold, predictions, average=\"weighted\"))\n",
    "        f1s.append(f1_score(y_test_fold, predictions, average=\"weighted\"))\n",
    "    \n",
    "    return pd.DataFrame(data = { \"Precision (Weighted)\": precisions, \"Recall (Weighted)\": recalls, \"F1 (Weighted)\": f1s })"
   ]
  },
  {
   "cell_type": "code",
   "execution_count": 56,
   "id": "3e0ce002-1703-4223-bb33-3fe811c7872d",
   "metadata": {
    "tags": []
   },
   "outputs": [
    {
     "name": "stdout",
     "output_type": "stream",
     "text": [
      "CPU times: total: 3 s\n",
      "Wall time: 3.14 s\n"
     ]
    }
   ],
   "source": [
    "%%time\n",
    "dtc_scores = skfcv(decision_tree_classifier)"
   ]
  },
  {
   "cell_type": "code",
   "execution_count": 57,
   "id": "c0b96dc8-d721-4213-8226-82cc0f439699",
   "metadata": {
    "tags": []
   },
   "outputs": [
    {
     "data": {
      "text/html": [
       "<div>\n",
       "<style scoped>\n",
       "    .dataframe tbody tr th:only-of-type {\n",
       "        vertical-align: middle;\n",
       "    }\n",
       "\n",
       "    .dataframe tbody tr th {\n",
       "        vertical-align: top;\n",
       "    }\n",
       "\n",
       "    .dataframe thead th {\n",
       "        text-align: right;\n",
       "    }\n",
       "</style>\n",
       "<table border=\"1\" class=\"dataframe\">\n",
       "  <thead>\n",
       "    <tr style=\"text-align: right;\">\n",
       "      <th></th>\n",
       "      <th>Precision (Weighted)</th>\n",
       "      <th>Recall (Weighted)</th>\n",
       "      <th>F1 (Weighted)</th>\n",
       "    </tr>\n",
       "  </thead>\n",
       "  <tbody>\n",
       "    <tr>\n",
       "      <th>count</th>\n",
       "      <td>5.000000</td>\n",
       "      <td>5.000000</td>\n",
       "      <td>5.000000</td>\n",
       "    </tr>\n",
       "    <tr>\n",
       "      <th>mean</th>\n",
       "      <td>0.524905</td>\n",
       "      <td>0.523153</td>\n",
       "      <td>0.523985</td>\n",
       "    </tr>\n",
       "    <tr>\n",
       "      <th>std</th>\n",
       "      <td>0.004018</td>\n",
       "      <td>0.004694</td>\n",
       "      <td>0.004308</td>\n",
       "    </tr>\n",
       "    <tr>\n",
       "      <th>min</th>\n",
       "      <td>0.521475</td>\n",
       "      <td>0.519166</td>\n",
       "      <td>0.520313</td>\n",
       "    </tr>\n",
       "    <tr>\n",
       "      <th>25%</th>\n",
       "      <td>0.521515</td>\n",
       "      <td>0.519583</td>\n",
       "      <td>0.520974</td>\n",
       "    </tr>\n",
       "    <tr>\n",
       "      <th>50%</th>\n",
       "      <td>0.523139</td>\n",
       "      <td>0.520484</td>\n",
       "      <td>0.521270</td>\n",
       "    </tr>\n",
       "    <tr>\n",
       "      <th>75%</th>\n",
       "      <td>0.528368</td>\n",
       "      <td>0.528087</td>\n",
       "      <td>0.528397</td>\n",
       "    </tr>\n",
       "    <tr>\n",
       "      <th>max</th>\n",
       "      <td>0.530025</td>\n",
       "      <td>0.528447</td>\n",
       "      <td>0.528971</td>\n",
       "    </tr>\n",
       "  </tbody>\n",
       "</table>\n",
       "</div>"
      ],
      "text/plain": [
       "       Precision (Weighted)  Recall (Weighted)  F1 (Weighted)\n",
       "count              5.000000           5.000000       5.000000\n",
       "mean               0.524905           0.523153       0.523985\n",
       "std                0.004018           0.004694       0.004308\n",
       "min                0.521475           0.519166       0.520313\n",
       "25%                0.521515           0.519583       0.520974\n",
       "50%                0.523139           0.520484       0.521270\n",
       "75%                0.528368           0.528087       0.528397\n",
       "max                0.530025           0.528447       0.528971"
      ]
     },
     "execution_count": 57,
     "metadata": {},
     "output_type": "execute_result"
    }
   ],
   "source": [
    "dtc_scores.describe()"
   ]
  },
  {
   "cell_type": "code",
   "execution_count": 60,
   "id": "03bdf9ba-b3ab-4569-b0c9-7da3d347b2cf",
   "metadata": {
    "tags": []
   },
   "outputs": [
    {
     "name": "stdout",
     "output_type": "stream",
     "text": [
      "CPU times: total: 22.4 s\n",
      "Wall time: 8.02 s\n"
     ]
    }
   ],
   "source": [
    "%%time\n",
    "rfc_scores = skfcv(random_forest_classifier)"
   ]
  },
  {
   "cell_type": "code",
   "execution_count": 63,
   "id": "42539a20-474e-4159-93e4-6d2a9032ecf9",
   "metadata": {
    "tags": []
   },
   "outputs": [
    {
     "data": {
      "text/html": [
       "<div>\n",
       "<style scoped>\n",
       "    .dataframe tbody tr th:only-of-type {\n",
       "        vertical-align: middle;\n",
       "    }\n",
       "\n",
       "    .dataframe tbody tr th {\n",
       "        vertical-align: top;\n",
       "    }\n",
       "\n",
       "    .dataframe thead th {\n",
       "        text-align: right;\n",
       "    }\n",
       "</style>\n",
       "<table border=\"1\" class=\"dataframe\">\n",
       "  <thead>\n",
       "    <tr style=\"text-align: right;\">\n",
       "      <th></th>\n",
       "      <th>Precision (Weighted)</th>\n",
       "      <th>Recall (Weighted)</th>\n",
       "      <th>F1 (Weighted)</th>\n",
       "    </tr>\n",
       "  </thead>\n",
       "  <tbody>\n",
       "    <tr>\n",
       "      <th>count</th>\n",
       "      <td>5.000000</td>\n",
       "      <td>5.000000</td>\n",
       "      <td>5.000000</td>\n",
       "    </tr>\n",
       "    <tr>\n",
       "      <th>mean</th>\n",
       "      <td>0.591812</td>\n",
       "      <td>0.592866</td>\n",
       "      <td>0.580692</td>\n",
       "    </tr>\n",
       "    <tr>\n",
       "      <th>std</th>\n",
       "      <td>0.003972</td>\n",
       "      <td>0.002734</td>\n",
       "      <td>0.003065</td>\n",
       "    </tr>\n",
       "    <tr>\n",
       "      <th>min</th>\n",
       "      <td>0.586997</td>\n",
       "      <td>0.589842</td>\n",
       "      <td>0.578504</td>\n",
       "    </tr>\n",
       "    <tr>\n",
       "      <th>25%</th>\n",
       "      <td>0.589150</td>\n",
       "      <td>0.590969</td>\n",
       "      <td>0.578827</td>\n",
       "    </tr>\n",
       "    <tr>\n",
       "      <th>50%</th>\n",
       "      <td>0.592061</td>\n",
       "      <td>0.592406</td>\n",
       "      <td>0.579220</td>\n",
       "    </tr>\n",
       "    <tr>\n",
       "      <th>75%</th>\n",
       "      <td>0.593606</td>\n",
       "      <td>0.594442</td>\n",
       "      <td>0.581017</td>\n",
       "    </tr>\n",
       "    <tr>\n",
       "      <th>max</th>\n",
       "      <td>0.597249</td>\n",
       "      <td>0.596670</td>\n",
       "      <td>0.585891</td>\n",
       "    </tr>\n",
       "  </tbody>\n",
       "</table>\n",
       "</div>"
      ],
      "text/plain": [
       "       Precision (Weighted)  Recall (Weighted)  F1 (Weighted)\n",
       "count              5.000000           5.000000       5.000000\n",
       "mean               0.591812           0.592866       0.580692\n",
       "std                0.003972           0.002734       0.003065\n",
       "min                0.586997           0.589842       0.578504\n",
       "25%                0.589150           0.590969       0.578827\n",
       "50%                0.592061           0.592406       0.579220\n",
       "75%                0.593606           0.594442       0.581017\n",
       "max                0.597249           0.596670       0.585891"
      ]
     },
     "execution_count": 63,
     "metadata": {},
     "output_type": "execute_result"
    }
   ],
   "source": [
    "rfc_scores.describe()"
   ]
  },
  {
   "cell_type": "code",
   "execution_count": 62,
   "id": "acc608d1-283e-4d2e-a937-127327569e9c",
   "metadata": {
    "tags": []
   },
   "outputs": [
    {
     "name": "stdout",
     "output_type": "stream",
     "text": [
      "CPU times: total: 16.4 s\n",
      "Wall time: 17.4 s\n"
     ]
    }
   ],
   "source": [
    "%%time\n",
    "bc_scores = skfcv(bagging_classifier)"
   ]
  },
  {
   "cell_type": "code",
   "execution_count": 64,
   "id": "082f6450-b5be-489a-b2ce-2efd5990dc62",
   "metadata": {
    "tags": []
   },
   "outputs": [
    {
     "data": {
      "text/html": [
       "<div>\n",
       "<style scoped>\n",
       "    .dataframe tbody tr th:only-of-type {\n",
       "        vertical-align: middle;\n",
       "    }\n",
       "\n",
       "    .dataframe tbody tr th {\n",
       "        vertical-align: top;\n",
       "    }\n",
       "\n",
       "    .dataframe thead th {\n",
       "        text-align: right;\n",
       "    }\n",
       "</style>\n",
       "<table border=\"1\" class=\"dataframe\">\n",
       "  <thead>\n",
       "    <tr style=\"text-align: right;\">\n",
       "      <th></th>\n",
       "      <th>Precision (Weighted)</th>\n",
       "      <th>Recall (Weighted)</th>\n",
       "      <th>F1 (Weighted)</th>\n",
       "    </tr>\n",
       "  </thead>\n",
       "  <tbody>\n",
       "    <tr>\n",
       "      <th>count</th>\n",
       "      <td>5.000000</td>\n",
       "      <td>5.000000</td>\n",
       "      <td>5.000000</td>\n",
       "    </tr>\n",
       "    <tr>\n",
       "      <th>mean</th>\n",
       "      <td>0.562808</td>\n",
       "      <td>0.571569</td>\n",
       "      <td>0.560117</td>\n",
       "    </tr>\n",
       "    <tr>\n",
       "      <th>std</th>\n",
       "      <td>0.007637</td>\n",
       "      <td>0.007433</td>\n",
       "      <td>0.007829</td>\n",
       "    </tr>\n",
       "    <tr>\n",
       "      <th>min</th>\n",
       "      <td>0.549860</td>\n",
       "      <td>0.559468</td>\n",
       "      <td>0.546739</td>\n",
       "    </tr>\n",
       "    <tr>\n",
       "      <th>25%</th>\n",
       "      <td>0.563118</td>\n",
       "      <td>0.571993</td>\n",
       "      <td>0.561673</td>\n",
       "    </tr>\n",
       "    <tr>\n",
       "      <th>50%</th>\n",
       "      <td>0.564178</td>\n",
       "      <td>0.572883</td>\n",
       "      <td>0.561723</td>\n",
       "    </tr>\n",
       "    <tr>\n",
       "      <th>75%</th>\n",
       "      <td>0.568130</td>\n",
       "      <td>0.573670</td>\n",
       "      <td>0.563100</td>\n",
       "    </tr>\n",
       "    <tr>\n",
       "      <th>max</th>\n",
       "      <td>0.568755</td>\n",
       "      <td>0.579830</td>\n",
       "      <td>0.567348</td>\n",
       "    </tr>\n",
       "  </tbody>\n",
       "</table>\n",
       "</div>"
      ],
      "text/plain": [
       "       Precision (Weighted)  Recall (Weighted)  F1 (Weighted)\n",
       "count              5.000000           5.000000       5.000000\n",
       "mean               0.562808           0.571569       0.560117\n",
       "std                0.007637           0.007433       0.007829\n",
       "min                0.549860           0.559468       0.546739\n",
       "25%                0.563118           0.571993       0.561673\n",
       "50%                0.564178           0.572883       0.561723\n",
       "75%                0.568130           0.573670       0.563100\n",
       "max                0.568755           0.579830       0.567348"
      ]
     },
     "execution_count": 64,
     "metadata": {},
     "output_type": "execute_result"
    }
   ],
   "source": [
    "bc_scores.describe()"
   ]
  },
  {
   "cell_type": "code",
   "execution_count": 65,
   "id": "d6c4ed0b-0dd2-4956-bcb1-a7b39397f945",
   "metadata": {
    "tags": []
   },
   "outputs": [
    {
     "name": "stdout",
     "output_type": "stream",
     "text": [
      "{'Closed without arrest'}\n"
     ]
    },
    {
     "name": "stderr",
     "output_type": "stream",
     "text": [
      "C:\\Users\\kash\\miniconda3\\envs\\ds\\lib\\site-packages\\sklearn\\metrics\\_classification.py:1344: UndefinedMetricWarning: Precision is ill-defined and being set to 0.0 in labels with no predicted samples. Use `zero_division` parameter to control this behavior.\n",
      "  _warn_prf(average, modifier, msg_start, len(result))\n"
     ]
    },
    {
     "name": "stdout",
     "output_type": "stream",
     "text": [
      "{'Closed without arrest'}\n"
     ]
    },
    {
     "name": "stderr",
     "output_type": "stream",
     "text": [
      "C:\\Users\\kash\\miniconda3\\envs\\ds\\lib\\site-packages\\sklearn\\metrics\\_classification.py:1344: UndefinedMetricWarning: Precision is ill-defined and being set to 0.0 in labels with no predicted samples. Use `zero_division` parameter to control this behavior.\n",
      "  _warn_prf(average, modifier, msg_start, len(result))\n"
     ]
    },
    {
     "name": "stdout",
     "output_type": "stream",
     "text": [
      "{'Closed without arrest'}\n"
     ]
    },
    {
     "name": "stderr",
     "output_type": "stream",
     "text": [
      "C:\\Users\\kash\\miniconda3\\envs\\ds\\lib\\site-packages\\sklearn\\metrics\\_classification.py:1344: UndefinedMetricWarning: Precision is ill-defined and being set to 0.0 in labels with no predicted samples. Use `zero_division` parameter to control this behavior.\n",
      "  _warn_prf(average, modifier, msg_start, len(result))\n"
     ]
    },
    {
     "name": "stdout",
     "output_type": "stream",
     "text": [
      "{'Closed without arrest'}\n",
      "CPU times: total: 16.7 s\n",
      "Wall time: 18 s\n"
     ]
    },
    {
     "name": "stderr",
     "output_type": "stream",
     "text": [
      "C:\\Users\\kash\\miniconda3\\envs\\ds\\lib\\site-packages\\sklearn\\metrics\\_classification.py:1344: UndefinedMetricWarning: Precision is ill-defined and being set to 0.0 in labels with no predicted samples. Use `zero_division` parameter to control this behavior.\n",
      "  _warn_prf(average, modifier, msg_start, len(result))\n"
     ]
    }
   ],
   "source": [
    "%%time\n",
    "abc_scores = skfcv(ada_boost_classifier)"
   ]
  },
  {
   "cell_type": "code",
   "execution_count": 66,
   "id": "31b133da-952f-4393-9141-b32676c7a69c",
   "metadata": {
    "tags": []
   },
   "outputs": [
    {
     "data": {
      "text/html": [
       "<div>\n",
       "<style scoped>\n",
       "    .dataframe tbody tr th:only-of-type {\n",
       "        vertical-align: middle;\n",
       "    }\n",
       "\n",
       "    .dataframe tbody tr th {\n",
       "        vertical-align: top;\n",
       "    }\n",
       "\n",
       "    .dataframe thead th {\n",
       "        text-align: right;\n",
       "    }\n",
       "</style>\n",
       "<table border=\"1\" class=\"dataframe\">\n",
       "  <thead>\n",
       "    <tr style=\"text-align: right;\">\n",
       "      <th></th>\n",
       "      <th>Precision (Weighted)</th>\n",
       "      <th>Recall (Weighted)</th>\n",
       "      <th>F1 (Weighted)</th>\n",
       "    </tr>\n",
       "  </thead>\n",
       "  <tbody>\n",
       "    <tr>\n",
       "      <th>count</th>\n",
       "      <td>5.000000</td>\n",
       "      <td>5.000000</td>\n",
       "      <td>5.000000</td>\n",
       "    </tr>\n",
       "    <tr>\n",
       "      <th>mean</th>\n",
       "      <td>0.553908</td>\n",
       "      <td>0.582493</td>\n",
       "      <td>0.564099</td>\n",
       "    </tr>\n",
       "    <tr>\n",
       "      <th>std</th>\n",
       "      <td>0.010674</td>\n",
       "      <td>0.005954</td>\n",
       "      <td>0.005370</td>\n",
       "    </tr>\n",
       "    <tr>\n",
       "      <th>min</th>\n",
       "      <td>0.540705</td>\n",
       "      <td>0.572952</td>\n",
       "      <td>0.555592</td>\n",
       "    </tr>\n",
       "    <tr>\n",
       "      <th>25%</th>\n",
       "      <td>0.548853</td>\n",
       "      <td>0.581457</td>\n",
       "      <td>0.563134</td>\n",
       "    </tr>\n",
       "    <tr>\n",
       "      <th>50%</th>\n",
       "      <td>0.554470</td>\n",
       "      <td>0.583184</td>\n",
       "      <td>0.564411</td>\n",
       "    </tr>\n",
       "    <tr>\n",
       "      <th>75%</th>\n",
       "      <td>0.555723</td>\n",
       "      <td>0.587016</td>\n",
       "      <td>0.568635</td>\n",
       "    </tr>\n",
       "    <tr>\n",
       "      <th>max</th>\n",
       "      <td>0.569791</td>\n",
       "      <td>0.587855</td>\n",
       "      <td>0.568721</td>\n",
       "    </tr>\n",
       "  </tbody>\n",
       "</table>\n",
       "</div>"
      ],
      "text/plain": [
       "       Precision (Weighted)  Recall (Weighted)  F1 (Weighted)\n",
       "count              5.000000           5.000000       5.000000\n",
       "mean               0.553908           0.582493       0.564099\n",
       "std                0.010674           0.005954       0.005370\n",
       "min                0.540705           0.572952       0.555592\n",
       "25%                0.548853           0.581457       0.563134\n",
       "50%                0.554470           0.583184       0.564411\n",
       "75%                0.555723           0.587016       0.568635\n",
       "max                0.569791           0.587855       0.568721"
      ]
     },
     "execution_count": 66,
     "metadata": {},
     "output_type": "execute_result"
    }
   ],
   "source": [
    "abc_scores.describe()"
   ]
  },
  {
   "cell_type": "code",
   "execution_count": 67,
   "id": "a83d9b71-25ec-41ff-90c7-d31ddd3133e5",
   "metadata": {
    "tags": []
   },
   "outputs": [
    {
     "name": "stdout",
     "output_type": "stream",
     "text": [
      "CPU times: total: 1min 45s\n",
      "Wall time: 1min 52s\n"
     ]
    }
   ],
   "source": [
    "%%time\n",
    "gbc_scores = skfcv(gradient_boosting_classifier)"
   ]
  },
  {
   "cell_type": "code",
   "execution_count": 68,
   "id": "fd2b992e-05a5-4b40-94d5-31af7679b0b1",
   "metadata": {
    "tags": []
   },
   "outputs": [
    {
     "data": {
      "text/html": [
       "<div>\n",
       "<style scoped>\n",
       "    .dataframe tbody tr th:only-of-type {\n",
       "        vertical-align: middle;\n",
       "    }\n",
       "\n",
       "    .dataframe tbody tr th {\n",
       "        vertical-align: top;\n",
       "    }\n",
       "\n",
       "    .dataframe thead th {\n",
       "        text-align: right;\n",
       "    }\n",
       "</style>\n",
       "<table border=\"1\" class=\"dataframe\">\n",
       "  <thead>\n",
       "    <tr style=\"text-align: right;\">\n",
       "      <th></th>\n",
       "      <th>Precision (Weighted)</th>\n",
       "      <th>Recall (Weighted)</th>\n",
       "      <th>F1 (Weighted)</th>\n",
       "    </tr>\n",
       "  </thead>\n",
       "  <tbody>\n",
       "    <tr>\n",
       "      <th>count</th>\n",
       "      <td>5.000000</td>\n",
       "      <td>5.000000</td>\n",
       "      <td>5.000000</td>\n",
       "    </tr>\n",
       "    <tr>\n",
       "      <th>mean</th>\n",
       "      <td>0.610068</td>\n",
       "      <td>0.601729</td>\n",
       "      <td>0.584578</td>\n",
       "    </tr>\n",
       "    <tr>\n",
       "      <th>std</th>\n",
       "      <td>0.012758</td>\n",
       "      <td>0.007971</td>\n",
       "      <td>0.007768</td>\n",
       "    </tr>\n",
       "    <tr>\n",
       "      <th>min</th>\n",
       "      <td>0.593310</td>\n",
       "      <td>0.591279</td>\n",
       "      <td>0.575015</td>\n",
       "    </tr>\n",
       "    <tr>\n",
       "      <th>25%</th>\n",
       "      <td>0.604301</td>\n",
       "      <td>0.595520</td>\n",
       "      <td>0.577582</td>\n",
       "    </tr>\n",
       "    <tr>\n",
       "      <th>50%</th>\n",
       "      <td>0.610737</td>\n",
       "      <td>0.604935</td>\n",
       "      <td>0.587969</td>\n",
       "    </tr>\n",
       "    <tr>\n",
       "      <th>75%</th>\n",
       "      <td>0.614005</td>\n",
       "      <td>0.606779</td>\n",
       "      <td>0.589977</td>\n",
       "    </tr>\n",
       "    <tr>\n",
       "      <th>max</th>\n",
       "      <td>0.627985</td>\n",
       "      <td>0.610133</td>\n",
       "      <td>0.592345</td>\n",
       "    </tr>\n",
       "  </tbody>\n",
       "</table>\n",
       "</div>"
      ],
      "text/plain": [
       "       Precision (Weighted)  Recall (Weighted)  F1 (Weighted)\n",
       "count              5.000000           5.000000       5.000000\n",
       "mean               0.610068           0.601729       0.584578\n",
       "std                0.012758           0.007971       0.007768\n",
       "min                0.593310           0.591279       0.575015\n",
       "25%                0.604301           0.595520       0.577582\n",
       "50%                0.610737           0.604935       0.587969\n",
       "75%                0.614005           0.606779       0.589977\n",
       "max                0.627985           0.610133       0.592345"
      ]
     },
     "execution_count": 68,
     "metadata": {},
     "output_type": "execute_result"
    }
   ],
   "source": [
    "gbc_scores.describe()"
   ]
  },
  {
   "cell_type": "markdown",
   "id": "229a69dc-259b-4e4c-97a6-fa65d53509c1",
   "metadata": {},
   "source": [
    "The gradient boosting classifier seems to be the most accurate at predicting disposition."
   ]
  },
  {
   "cell_type": "markdown",
   "id": "17d7adb5-52e4-4bb8-81a6-299519d4b887",
   "metadata": {},
   "source": [
    "## Fine-tune models"
   ]
  },
  {
   "cell_type": "code",
   "execution_count": 90,
   "id": "c85fdb26-a182-4133-a005-9725f731b82f",
   "metadata": {
    "tags": []
   },
   "outputs": [],
   "source": [
    "dtc_params = [{\n",
    "    \"train__criterion\": [ \"gini\", \"entropy\", \"log_loss\" ],\n",
    "    \"train__min_samples_split\": [ 2, int(np.sqrt(len(X_train))), int(len(X_train) / 2) ],\n",
    "    \"train__max_features\": [ None, \"sqrt\", \"log2\" ]\n",
    "}]\n",
    "\n",
    "rfc_params = [{\n",
    "    \"train__criterion\": [ \"gini\", \"entropy\", \"log_loss\" ],\n",
    "    \"train__min_samples_split\": [ 2, int(np.sqrt(len(X_train))), int(len(X_train) / 2) ],\n",
    "    \"train__max_features\": [ None, \"sqrt\", \"log2\" ]\n",
    "}]\n",
    "\n",
    "bc_params = [{ \"train__n_estimators\": [ 5, 10, 20 ] }]\n",
    "\n",
    "abc_params = [{\n",
    "    \"train__n_estimators\": [ 20, 50, 80 ],\n",
    "    \"train__learning_rate\": [ 0.5, 1.0, 3.0 ]\n",
    "}]\n",
    "\n",
    "gbc_params = [{\n",
    "    \"train__learning_rate\": [ 0.1, 0.5, 2 ],\n",
    "    \"train__n_estimators\": [ 50, 100, 200 ]\n",
    "}]"
   ]
  },
  {
   "cell_type": "code",
   "execution_count": 76,
   "id": "59a0a5e4-acbd-4f3b-b489-c81b53589a5e",
   "metadata": {
    "tags": []
   },
   "outputs": [
    {
     "name": "stdout",
     "output_type": "stream",
     "text": [
      "CPU times: total: 39 s\n",
      "Wall time: 43 s\n"
     ]
    },
    {
     "data": {
      "text/html": [
       "<style>#sk-container-id-2 {color: black;background-color: white;}#sk-container-id-2 pre{padding: 0;}#sk-container-id-2 div.sk-toggleable {background-color: white;}#sk-container-id-2 label.sk-toggleable__label {cursor: pointer;display: block;width: 100%;margin-bottom: 0;padding: 0.3em;box-sizing: border-box;text-align: center;}#sk-container-id-2 label.sk-toggleable__label-arrow:before {content: \"▸\";float: left;margin-right: 0.25em;color: #696969;}#sk-container-id-2 label.sk-toggleable__label-arrow:hover:before {color: black;}#sk-container-id-2 div.sk-estimator:hover label.sk-toggleable__label-arrow:before {color: black;}#sk-container-id-2 div.sk-toggleable__content {max-height: 0;max-width: 0;overflow: hidden;text-align: left;background-color: #f0f8ff;}#sk-container-id-2 div.sk-toggleable__content pre {margin: 0.2em;color: black;border-radius: 0.25em;background-color: #f0f8ff;}#sk-container-id-2 input.sk-toggleable__control:checked~div.sk-toggleable__content {max-height: 200px;max-width: 100%;overflow: auto;}#sk-container-id-2 input.sk-toggleable__control:checked~label.sk-toggleable__label-arrow:before {content: \"▾\";}#sk-container-id-2 div.sk-estimator input.sk-toggleable__control:checked~label.sk-toggleable__label {background-color: #d4ebff;}#sk-container-id-2 div.sk-label input.sk-toggleable__control:checked~label.sk-toggleable__label {background-color: #d4ebff;}#sk-container-id-2 input.sk-hidden--visually {border: 0;clip: rect(1px 1px 1px 1px);clip: rect(1px, 1px, 1px, 1px);height: 1px;margin: -1px;overflow: hidden;padding: 0;position: absolute;width: 1px;}#sk-container-id-2 div.sk-estimator {font-family: monospace;background-color: #f0f8ff;border: 1px dotted black;border-radius: 0.25em;box-sizing: border-box;margin-bottom: 0.5em;}#sk-container-id-2 div.sk-estimator:hover {background-color: #d4ebff;}#sk-container-id-2 div.sk-parallel-item::after {content: \"\";width: 100%;border-bottom: 1px solid gray;flex-grow: 1;}#sk-container-id-2 div.sk-label:hover label.sk-toggleable__label {background-color: #d4ebff;}#sk-container-id-2 div.sk-serial::before {content: \"\";position: absolute;border-left: 1px solid gray;box-sizing: border-box;top: 0;bottom: 0;left: 50%;z-index: 0;}#sk-container-id-2 div.sk-serial {display: flex;flex-direction: column;align-items: center;background-color: white;padding-right: 0.2em;padding-left: 0.2em;position: relative;}#sk-container-id-2 div.sk-item {position: relative;z-index: 1;}#sk-container-id-2 div.sk-parallel {display: flex;align-items: stretch;justify-content: center;background-color: white;position: relative;}#sk-container-id-2 div.sk-item::before, #sk-container-id-2 div.sk-parallel-item::before {content: \"\";position: absolute;border-left: 1px solid gray;box-sizing: border-box;top: 0;bottom: 0;left: 50%;z-index: -1;}#sk-container-id-2 div.sk-parallel-item {display: flex;flex-direction: column;z-index: 1;position: relative;background-color: white;}#sk-container-id-2 div.sk-parallel-item:first-child::after {align-self: flex-end;width: 50%;}#sk-container-id-2 div.sk-parallel-item:last-child::after {align-self: flex-start;width: 50%;}#sk-container-id-2 div.sk-parallel-item:only-child::after {width: 0;}#sk-container-id-2 div.sk-dashed-wrapped {border: 1px dashed gray;margin: 0 0.4em 0.5em 0.4em;box-sizing: border-box;padding-bottom: 0.4em;background-color: white;}#sk-container-id-2 div.sk-label label {font-family: monospace;font-weight: bold;display: inline-block;line-height: 1.2em;}#sk-container-id-2 div.sk-label-container {text-align: center;}#sk-container-id-2 div.sk-container {/* jupyter's `normalize.less` sets `[hidden] { display: none; }` but bootstrap.min.css set `[hidden] { display: none !important; }` so we also need the `!important` here to be able to override the default hidden behavior on the sphinx rendered scikit-learn.org. See: https://github.com/scikit-learn/scikit-learn/issues/21755 */display: inline-block !important;position: relative;}#sk-container-id-2 div.sk-text-repr-fallback {display: none;}</style><div id=\"sk-container-id-2\" class=\"sk-top-container\"><div class=\"sk-text-repr-fallback\"><pre>GridSearchCV(estimator=Pipeline(steps=[(&#x27;preprocess&#x27;,\n",
       "                                        ColumnTransformer(transformers=[(&#x27;numeric&#x27;,\n",
       "                                                                         Pipeline(steps=[(&#x27;impute&#x27;,\n",
       "                                                                                          SimpleImputer(strategy=&#x27;median&#x27;)),\n",
       "                                                                                         (&#x27;normalize&#x27;,\n",
       "                                                                                          MinMaxScaler())]),\n",
       "                                                                         [&#x27;victim_age&#x27;,\n",
       "                                                                          &#x27;lat&#x27;,\n",
       "                                                                          &#x27;lon&#x27;,\n",
       "                                                                          &#x27;delta_days&#x27;]),\n",
       "                                                                        (&#x27;onehot&#x27;,\n",
       "                                                                         Pipeline(steps=[(&#x27;onehot&#x27;,\n",
       "                                                                                          OneHotEncoder(sparse_output=False))]),\n",
       "                                                                         [&#x27;victim_race&#x27;,\n",
       "                                                                          &#x27;victim_sex&#x27;,\n",
       "                                                                          &#x27;month&#x27;,\n",
       "                                                                          &#x27;weekday&#x27;])])),\n",
       "                                       (&#x27;train&#x27;,\n",
       "                                        DecisionTreeClassifier(random_state=0))]),\n",
       "             param_grid=[{&#x27;train__criterion&#x27;: [&#x27;gini&#x27;, &#x27;entropy&#x27;, &#x27;log_loss&#x27;],\n",
       "                          &#x27;train__max_features&#x27;: [None, &#x27;sqrt&#x27;, &#x27;log2&#x27;],\n",
       "                          &#x27;train__min_samples_split&#x27;: [2, 204, 20871]}],\n",
       "             scoring=&#x27;f1_weighted&#x27;)</pre><b>In a Jupyter environment, please rerun this cell to show the HTML representation or trust the notebook. <br />On GitHub, the HTML representation is unable to render, please try loading this page with nbviewer.org.</b></div><div class=\"sk-container\" hidden><div class=\"sk-item sk-dashed-wrapped\"><div class=\"sk-label-container\"><div class=\"sk-label sk-toggleable\"><input class=\"sk-toggleable__control sk-hidden--visually\" id=\"sk-estimator-id-10\" type=\"checkbox\" ><label for=\"sk-estimator-id-10\" class=\"sk-toggleable__label sk-toggleable__label-arrow\">GridSearchCV</label><div class=\"sk-toggleable__content\"><pre>GridSearchCV(estimator=Pipeline(steps=[(&#x27;preprocess&#x27;,\n",
       "                                        ColumnTransformer(transformers=[(&#x27;numeric&#x27;,\n",
       "                                                                         Pipeline(steps=[(&#x27;impute&#x27;,\n",
       "                                                                                          SimpleImputer(strategy=&#x27;median&#x27;)),\n",
       "                                                                                         (&#x27;normalize&#x27;,\n",
       "                                                                                          MinMaxScaler())]),\n",
       "                                                                         [&#x27;victim_age&#x27;,\n",
       "                                                                          &#x27;lat&#x27;,\n",
       "                                                                          &#x27;lon&#x27;,\n",
       "                                                                          &#x27;delta_days&#x27;]),\n",
       "                                                                        (&#x27;onehot&#x27;,\n",
       "                                                                         Pipeline(steps=[(&#x27;onehot&#x27;,\n",
       "                                                                                          OneHotEncoder(sparse_output=False))]),\n",
       "                                                                         [&#x27;victim_race&#x27;,\n",
       "                                                                          &#x27;victim_sex&#x27;,\n",
       "                                                                          &#x27;month&#x27;,\n",
       "                                                                          &#x27;weekday&#x27;])])),\n",
       "                                       (&#x27;train&#x27;,\n",
       "                                        DecisionTreeClassifier(random_state=0))]),\n",
       "             param_grid=[{&#x27;train__criterion&#x27;: [&#x27;gini&#x27;, &#x27;entropy&#x27;, &#x27;log_loss&#x27;],\n",
       "                          &#x27;train__max_features&#x27;: [None, &#x27;sqrt&#x27;, &#x27;log2&#x27;],\n",
       "                          &#x27;train__min_samples_split&#x27;: [2, 204, 20871]}],\n",
       "             scoring=&#x27;f1_weighted&#x27;)</pre></div></div></div><div class=\"sk-parallel\"><div class=\"sk-parallel-item\"><div class=\"sk-item\"><div class=\"sk-label-container\"><div class=\"sk-label sk-toggleable\"><input class=\"sk-toggleable__control sk-hidden--visually\" id=\"sk-estimator-id-11\" type=\"checkbox\" ><label for=\"sk-estimator-id-11\" class=\"sk-toggleable__label sk-toggleable__label-arrow\">estimator: Pipeline</label><div class=\"sk-toggleable__content\"><pre>Pipeline(steps=[(&#x27;preprocess&#x27;,\n",
       "                 ColumnTransformer(transformers=[(&#x27;numeric&#x27;,\n",
       "                                                  Pipeline(steps=[(&#x27;impute&#x27;,\n",
       "                                                                   SimpleImputer(strategy=&#x27;median&#x27;)),\n",
       "                                                                  (&#x27;normalize&#x27;,\n",
       "                                                                   MinMaxScaler())]),\n",
       "                                                  [&#x27;victim_age&#x27;, &#x27;lat&#x27;, &#x27;lon&#x27;,\n",
       "                                                   &#x27;delta_days&#x27;]),\n",
       "                                                 (&#x27;onehot&#x27;,\n",
       "                                                  Pipeline(steps=[(&#x27;onehot&#x27;,\n",
       "                                                                   OneHotEncoder(sparse_output=False))]),\n",
       "                                                  [&#x27;victim_race&#x27;, &#x27;victim_sex&#x27;,\n",
       "                                                   &#x27;month&#x27;, &#x27;weekday&#x27;])])),\n",
       "                (&#x27;train&#x27;, DecisionTreeClassifier(random_state=0))])</pre></div></div></div><div class=\"sk-serial\"><div class=\"sk-item\"><div class=\"sk-serial\"><div class=\"sk-item sk-dashed-wrapped\"><div class=\"sk-label-container\"><div class=\"sk-label sk-toggleable\"><input class=\"sk-toggleable__control sk-hidden--visually\" id=\"sk-estimator-id-12\" type=\"checkbox\" ><label for=\"sk-estimator-id-12\" class=\"sk-toggleable__label sk-toggleable__label-arrow\">preprocess: ColumnTransformer</label><div class=\"sk-toggleable__content\"><pre>ColumnTransformer(transformers=[(&#x27;numeric&#x27;,\n",
       "                                 Pipeline(steps=[(&#x27;impute&#x27;,\n",
       "                                                  SimpleImputer(strategy=&#x27;median&#x27;)),\n",
       "                                                 (&#x27;normalize&#x27;,\n",
       "                                                  MinMaxScaler())]),\n",
       "                                 [&#x27;victim_age&#x27;, &#x27;lat&#x27;, &#x27;lon&#x27;, &#x27;delta_days&#x27;]),\n",
       "                                (&#x27;onehot&#x27;,\n",
       "                                 Pipeline(steps=[(&#x27;onehot&#x27;,\n",
       "                                                  OneHotEncoder(sparse_output=False))]),\n",
       "                                 [&#x27;victim_race&#x27;, &#x27;victim_sex&#x27;, &#x27;month&#x27;,\n",
       "                                  &#x27;weekday&#x27;])])</pre></div></div></div><div class=\"sk-parallel\"><div class=\"sk-parallel-item\"><div class=\"sk-item\"><div class=\"sk-label-container\"><div class=\"sk-label sk-toggleable\"><input class=\"sk-toggleable__control sk-hidden--visually\" id=\"sk-estimator-id-13\" type=\"checkbox\" ><label for=\"sk-estimator-id-13\" class=\"sk-toggleable__label sk-toggleable__label-arrow\">numeric</label><div class=\"sk-toggleable__content\"><pre>[&#x27;victim_age&#x27;, &#x27;lat&#x27;, &#x27;lon&#x27;, &#x27;delta_days&#x27;]</pre></div></div></div><div class=\"sk-serial\"><div class=\"sk-item\"><div class=\"sk-serial\"><div class=\"sk-item\"><div class=\"sk-estimator sk-toggleable\"><input class=\"sk-toggleable__control sk-hidden--visually\" id=\"sk-estimator-id-14\" type=\"checkbox\" ><label for=\"sk-estimator-id-14\" class=\"sk-toggleable__label sk-toggleable__label-arrow\">SimpleImputer</label><div class=\"sk-toggleable__content\"><pre>SimpleImputer(strategy=&#x27;median&#x27;)</pre></div></div></div><div class=\"sk-item\"><div class=\"sk-estimator sk-toggleable\"><input class=\"sk-toggleable__control sk-hidden--visually\" id=\"sk-estimator-id-15\" type=\"checkbox\" ><label for=\"sk-estimator-id-15\" class=\"sk-toggleable__label sk-toggleable__label-arrow\">MinMaxScaler</label><div class=\"sk-toggleable__content\"><pre>MinMaxScaler()</pre></div></div></div></div></div></div></div></div><div class=\"sk-parallel-item\"><div class=\"sk-item\"><div class=\"sk-label-container\"><div class=\"sk-label sk-toggleable\"><input class=\"sk-toggleable__control sk-hidden--visually\" id=\"sk-estimator-id-16\" type=\"checkbox\" ><label for=\"sk-estimator-id-16\" class=\"sk-toggleable__label sk-toggleable__label-arrow\">onehot</label><div class=\"sk-toggleable__content\"><pre>[&#x27;victim_race&#x27;, &#x27;victim_sex&#x27;, &#x27;month&#x27;, &#x27;weekday&#x27;]</pre></div></div></div><div class=\"sk-serial\"><div class=\"sk-item\"><div class=\"sk-serial\"><div class=\"sk-item\"><div class=\"sk-estimator sk-toggleable\"><input class=\"sk-toggleable__control sk-hidden--visually\" id=\"sk-estimator-id-17\" type=\"checkbox\" ><label for=\"sk-estimator-id-17\" class=\"sk-toggleable__label sk-toggleable__label-arrow\">OneHotEncoder</label><div class=\"sk-toggleable__content\"><pre>OneHotEncoder(sparse_output=False)</pre></div></div></div></div></div></div></div></div></div></div><div class=\"sk-item\"><div class=\"sk-estimator sk-toggleable\"><input class=\"sk-toggleable__control sk-hidden--visually\" id=\"sk-estimator-id-18\" type=\"checkbox\" ><label for=\"sk-estimator-id-18\" class=\"sk-toggleable__label sk-toggleable__label-arrow\">DecisionTreeClassifier</label><div class=\"sk-toggleable__content\"><pre>DecisionTreeClassifier(random_state=0)</pre></div></div></div></div></div></div></div></div></div></div></div></div>"
      ],
      "text/plain": [
       "GridSearchCV(estimator=Pipeline(steps=[('preprocess',\n",
       "                                        ColumnTransformer(transformers=[('numeric',\n",
       "                                                                         Pipeline(steps=[('impute',\n",
       "                                                                                          SimpleImputer(strategy='median')),\n",
       "                                                                                         ('normalize',\n",
       "                                                                                          MinMaxScaler())]),\n",
       "                                                                         ['victim_age',\n",
       "                                                                          'lat',\n",
       "                                                                          'lon',\n",
       "                                                                          'delta_days']),\n",
       "                                                                        ('onehot',\n",
       "                                                                         Pipeline(steps=[('onehot',\n",
       "                                                                                          OneHotEncoder(sparse_output=False))]),\n",
       "                                                                         ['victim_race',\n",
       "                                                                          'victim_sex',\n",
       "                                                                          'month',\n",
       "                                                                          'weekday'])])),\n",
       "                                       ('train',\n",
       "                                        DecisionTreeClassifier(random_state=0))]),\n",
       "             param_grid=[{'train__criterion': ['gini', 'entropy', 'log_loss'],\n",
       "                          'train__max_features': [None, 'sqrt', 'log2'],\n",
       "                          'train__min_samples_split': [2, 204, 20871]}],\n",
       "             scoring='f1_weighted')"
      ]
     },
     "execution_count": 76,
     "metadata": {},
     "output_type": "execute_result"
    }
   ],
   "source": [
    "%%time\n",
    "dtc_grid_search = GridSearchCV(decision_tree_classifier, dtc_params, scoring=\"f1_weighted\")\n",
    "dtc_grid_search.fit(X_train, y_train)"
   ]
  },
  {
   "cell_type": "code",
   "execution_count": 77,
   "id": "c31386cf-5b09-462b-b567-daf6c5b82534",
   "metadata": {
    "tags": []
   },
   "outputs": [
    {
     "name": "stdout",
     "output_type": "stream",
     "text": [
      "{'train__criterion': 'entropy', 'train__max_features': None, 'train__min_samples_split': 204}\n",
      "0.5700721023559254\n"
     ]
    }
   ],
   "source": [
    "print(dtc_grid_search.best_params_)\n",
    "print(dtc_grid_search.best_score_)"
   ]
  },
  {
   "cell_type": "code",
   "execution_count": 82,
   "id": "5f449ebd-db66-43d8-b7f0-4a24ff45fb4c",
   "metadata": {
    "tags": []
   },
   "outputs": [
    {
     "name": "stdout",
     "output_type": "stream",
     "text": [
      "CPU times: total: 18min 46s\n",
      "Wall time: 18min 28s\n"
     ]
    },
    {
     "data": {
      "text/html": [
       "<style>#sk-container-id-4 {color: black;background-color: white;}#sk-container-id-4 pre{padding: 0;}#sk-container-id-4 div.sk-toggleable {background-color: white;}#sk-container-id-4 label.sk-toggleable__label {cursor: pointer;display: block;width: 100%;margin-bottom: 0;padding: 0.3em;box-sizing: border-box;text-align: center;}#sk-container-id-4 label.sk-toggleable__label-arrow:before {content: \"▸\";float: left;margin-right: 0.25em;color: #696969;}#sk-container-id-4 label.sk-toggleable__label-arrow:hover:before {color: black;}#sk-container-id-4 div.sk-estimator:hover label.sk-toggleable__label-arrow:before {color: black;}#sk-container-id-4 div.sk-toggleable__content {max-height: 0;max-width: 0;overflow: hidden;text-align: left;background-color: #f0f8ff;}#sk-container-id-4 div.sk-toggleable__content pre {margin: 0.2em;color: black;border-radius: 0.25em;background-color: #f0f8ff;}#sk-container-id-4 input.sk-toggleable__control:checked~div.sk-toggleable__content {max-height: 200px;max-width: 100%;overflow: auto;}#sk-container-id-4 input.sk-toggleable__control:checked~label.sk-toggleable__label-arrow:before {content: \"▾\";}#sk-container-id-4 div.sk-estimator input.sk-toggleable__control:checked~label.sk-toggleable__label {background-color: #d4ebff;}#sk-container-id-4 div.sk-label input.sk-toggleable__control:checked~label.sk-toggleable__label {background-color: #d4ebff;}#sk-container-id-4 input.sk-hidden--visually {border: 0;clip: rect(1px 1px 1px 1px);clip: rect(1px, 1px, 1px, 1px);height: 1px;margin: -1px;overflow: hidden;padding: 0;position: absolute;width: 1px;}#sk-container-id-4 div.sk-estimator {font-family: monospace;background-color: #f0f8ff;border: 1px dotted black;border-radius: 0.25em;box-sizing: border-box;margin-bottom: 0.5em;}#sk-container-id-4 div.sk-estimator:hover {background-color: #d4ebff;}#sk-container-id-4 div.sk-parallel-item::after {content: \"\";width: 100%;border-bottom: 1px solid gray;flex-grow: 1;}#sk-container-id-4 div.sk-label:hover label.sk-toggleable__label {background-color: #d4ebff;}#sk-container-id-4 div.sk-serial::before {content: \"\";position: absolute;border-left: 1px solid gray;box-sizing: border-box;top: 0;bottom: 0;left: 50%;z-index: 0;}#sk-container-id-4 div.sk-serial {display: flex;flex-direction: column;align-items: center;background-color: white;padding-right: 0.2em;padding-left: 0.2em;position: relative;}#sk-container-id-4 div.sk-item {position: relative;z-index: 1;}#sk-container-id-4 div.sk-parallel {display: flex;align-items: stretch;justify-content: center;background-color: white;position: relative;}#sk-container-id-4 div.sk-item::before, #sk-container-id-4 div.sk-parallel-item::before {content: \"\";position: absolute;border-left: 1px solid gray;box-sizing: border-box;top: 0;bottom: 0;left: 50%;z-index: -1;}#sk-container-id-4 div.sk-parallel-item {display: flex;flex-direction: column;z-index: 1;position: relative;background-color: white;}#sk-container-id-4 div.sk-parallel-item:first-child::after {align-self: flex-end;width: 50%;}#sk-container-id-4 div.sk-parallel-item:last-child::after {align-self: flex-start;width: 50%;}#sk-container-id-4 div.sk-parallel-item:only-child::after {width: 0;}#sk-container-id-4 div.sk-dashed-wrapped {border: 1px dashed gray;margin: 0 0.4em 0.5em 0.4em;box-sizing: border-box;padding-bottom: 0.4em;background-color: white;}#sk-container-id-4 div.sk-label label {font-family: monospace;font-weight: bold;display: inline-block;line-height: 1.2em;}#sk-container-id-4 div.sk-label-container {text-align: center;}#sk-container-id-4 div.sk-container {/* jupyter's `normalize.less` sets `[hidden] { display: none; }` but bootstrap.min.css set `[hidden] { display: none !important; }` so we also need the `!important` here to be able to override the default hidden behavior on the sphinx rendered scikit-learn.org. See: https://github.com/scikit-learn/scikit-learn/issues/21755 */display: inline-block !important;position: relative;}#sk-container-id-4 div.sk-text-repr-fallback {display: none;}</style><div id=\"sk-container-id-4\" class=\"sk-top-container\"><div class=\"sk-text-repr-fallback\"><pre>GridSearchCV(estimator=Pipeline(steps=[(&#x27;preprocess&#x27;,\n",
       "                                        ColumnTransformer(transformers=[(&#x27;numeric&#x27;,\n",
       "                                                                         Pipeline(steps=[(&#x27;impute&#x27;,\n",
       "                                                                                          SimpleImputer(strategy=&#x27;median&#x27;)),\n",
       "                                                                                         (&#x27;normalize&#x27;,\n",
       "                                                                                          MinMaxScaler())]),\n",
       "                                                                         [&#x27;victim_age&#x27;,\n",
       "                                                                          &#x27;lat&#x27;,\n",
       "                                                                          &#x27;lon&#x27;,\n",
       "                                                                          &#x27;delta_days&#x27;]),\n",
       "                                                                        (&#x27;onehot&#x27;,\n",
       "                                                                         Pipeline(steps=[(&#x27;onehot&#x27;,\n",
       "                                                                                          OneHotEncoder(sparse_output=False))]),\n",
       "                                                                         [&#x27;victim_race&#x27;,\n",
       "                                                                          &#x27;victim_sex&#x27;,\n",
       "                                                                          &#x27;month&#x27;,\n",
       "                                                                          &#x27;weekday&#x27;])])),\n",
       "                                       (&#x27;train&#x27;,\n",
       "                                        RandomForestClassifier(random_state=0))]),\n",
       "             param_grid=[{&#x27;train__criterion&#x27;: [&#x27;gini&#x27;, &#x27;entropy&#x27;, &#x27;log_loss&#x27;],\n",
       "                          &#x27;train__max_features&#x27;: [None, &#x27;sqrt&#x27;, &#x27;log2&#x27;],\n",
       "                          &#x27;train__min_samples_split&#x27;: [2, 204, 20871]}],\n",
       "             scoring=&#x27;f1_weighted&#x27;)</pre><b>In a Jupyter environment, please rerun this cell to show the HTML representation or trust the notebook. <br />On GitHub, the HTML representation is unable to render, please try loading this page with nbviewer.org.</b></div><div class=\"sk-container\" hidden><div class=\"sk-item sk-dashed-wrapped\"><div class=\"sk-label-container\"><div class=\"sk-label sk-toggleable\"><input class=\"sk-toggleable__control sk-hidden--visually\" id=\"sk-estimator-id-28\" type=\"checkbox\" ><label for=\"sk-estimator-id-28\" class=\"sk-toggleable__label sk-toggleable__label-arrow\">GridSearchCV</label><div class=\"sk-toggleable__content\"><pre>GridSearchCV(estimator=Pipeline(steps=[(&#x27;preprocess&#x27;,\n",
       "                                        ColumnTransformer(transformers=[(&#x27;numeric&#x27;,\n",
       "                                                                         Pipeline(steps=[(&#x27;impute&#x27;,\n",
       "                                                                                          SimpleImputer(strategy=&#x27;median&#x27;)),\n",
       "                                                                                         (&#x27;normalize&#x27;,\n",
       "                                                                                          MinMaxScaler())]),\n",
       "                                                                         [&#x27;victim_age&#x27;,\n",
       "                                                                          &#x27;lat&#x27;,\n",
       "                                                                          &#x27;lon&#x27;,\n",
       "                                                                          &#x27;delta_days&#x27;]),\n",
       "                                                                        (&#x27;onehot&#x27;,\n",
       "                                                                         Pipeline(steps=[(&#x27;onehot&#x27;,\n",
       "                                                                                          OneHotEncoder(sparse_output=False))]),\n",
       "                                                                         [&#x27;victim_race&#x27;,\n",
       "                                                                          &#x27;victim_sex&#x27;,\n",
       "                                                                          &#x27;month&#x27;,\n",
       "                                                                          &#x27;weekday&#x27;])])),\n",
       "                                       (&#x27;train&#x27;,\n",
       "                                        RandomForestClassifier(random_state=0))]),\n",
       "             param_grid=[{&#x27;train__criterion&#x27;: [&#x27;gini&#x27;, &#x27;entropy&#x27;, &#x27;log_loss&#x27;],\n",
       "                          &#x27;train__max_features&#x27;: [None, &#x27;sqrt&#x27;, &#x27;log2&#x27;],\n",
       "                          &#x27;train__min_samples_split&#x27;: [2, 204, 20871]}],\n",
       "             scoring=&#x27;f1_weighted&#x27;)</pre></div></div></div><div class=\"sk-parallel\"><div class=\"sk-parallel-item\"><div class=\"sk-item\"><div class=\"sk-label-container\"><div class=\"sk-label sk-toggleable\"><input class=\"sk-toggleable__control sk-hidden--visually\" id=\"sk-estimator-id-29\" type=\"checkbox\" ><label for=\"sk-estimator-id-29\" class=\"sk-toggleable__label sk-toggleable__label-arrow\">estimator: Pipeline</label><div class=\"sk-toggleable__content\"><pre>Pipeline(steps=[(&#x27;preprocess&#x27;,\n",
       "                 ColumnTransformer(transformers=[(&#x27;numeric&#x27;,\n",
       "                                                  Pipeline(steps=[(&#x27;impute&#x27;,\n",
       "                                                                   SimpleImputer(strategy=&#x27;median&#x27;)),\n",
       "                                                                  (&#x27;normalize&#x27;,\n",
       "                                                                   MinMaxScaler())]),\n",
       "                                                  [&#x27;victim_age&#x27;, &#x27;lat&#x27;, &#x27;lon&#x27;,\n",
       "                                                   &#x27;delta_days&#x27;]),\n",
       "                                                 (&#x27;onehot&#x27;,\n",
       "                                                  Pipeline(steps=[(&#x27;onehot&#x27;,\n",
       "                                                                   OneHotEncoder(sparse_output=False))]),\n",
       "                                                  [&#x27;victim_race&#x27;, &#x27;victim_sex&#x27;,\n",
       "                                                   &#x27;month&#x27;, &#x27;weekday&#x27;])])),\n",
       "                (&#x27;train&#x27;, RandomForestClassifier(random_state=0))])</pre></div></div></div><div class=\"sk-serial\"><div class=\"sk-item\"><div class=\"sk-serial\"><div class=\"sk-item sk-dashed-wrapped\"><div class=\"sk-label-container\"><div class=\"sk-label sk-toggleable\"><input class=\"sk-toggleable__control sk-hidden--visually\" id=\"sk-estimator-id-30\" type=\"checkbox\" ><label for=\"sk-estimator-id-30\" class=\"sk-toggleable__label sk-toggleable__label-arrow\">preprocess: ColumnTransformer</label><div class=\"sk-toggleable__content\"><pre>ColumnTransformer(transformers=[(&#x27;numeric&#x27;,\n",
       "                                 Pipeline(steps=[(&#x27;impute&#x27;,\n",
       "                                                  SimpleImputer(strategy=&#x27;median&#x27;)),\n",
       "                                                 (&#x27;normalize&#x27;,\n",
       "                                                  MinMaxScaler())]),\n",
       "                                 [&#x27;victim_age&#x27;, &#x27;lat&#x27;, &#x27;lon&#x27;, &#x27;delta_days&#x27;]),\n",
       "                                (&#x27;onehot&#x27;,\n",
       "                                 Pipeline(steps=[(&#x27;onehot&#x27;,\n",
       "                                                  OneHotEncoder(sparse_output=False))]),\n",
       "                                 [&#x27;victim_race&#x27;, &#x27;victim_sex&#x27;, &#x27;month&#x27;,\n",
       "                                  &#x27;weekday&#x27;])])</pre></div></div></div><div class=\"sk-parallel\"><div class=\"sk-parallel-item\"><div class=\"sk-item\"><div class=\"sk-label-container\"><div class=\"sk-label sk-toggleable\"><input class=\"sk-toggleable__control sk-hidden--visually\" id=\"sk-estimator-id-31\" type=\"checkbox\" ><label for=\"sk-estimator-id-31\" class=\"sk-toggleable__label sk-toggleable__label-arrow\">numeric</label><div class=\"sk-toggleable__content\"><pre>[&#x27;victim_age&#x27;, &#x27;lat&#x27;, &#x27;lon&#x27;, &#x27;delta_days&#x27;]</pre></div></div></div><div class=\"sk-serial\"><div class=\"sk-item\"><div class=\"sk-serial\"><div class=\"sk-item\"><div class=\"sk-estimator sk-toggleable\"><input class=\"sk-toggleable__control sk-hidden--visually\" id=\"sk-estimator-id-32\" type=\"checkbox\" ><label for=\"sk-estimator-id-32\" class=\"sk-toggleable__label sk-toggleable__label-arrow\">SimpleImputer</label><div class=\"sk-toggleable__content\"><pre>SimpleImputer(strategy=&#x27;median&#x27;)</pre></div></div></div><div class=\"sk-item\"><div class=\"sk-estimator sk-toggleable\"><input class=\"sk-toggleable__control sk-hidden--visually\" id=\"sk-estimator-id-33\" type=\"checkbox\" ><label for=\"sk-estimator-id-33\" class=\"sk-toggleable__label sk-toggleable__label-arrow\">MinMaxScaler</label><div class=\"sk-toggleable__content\"><pre>MinMaxScaler()</pre></div></div></div></div></div></div></div></div><div class=\"sk-parallel-item\"><div class=\"sk-item\"><div class=\"sk-label-container\"><div class=\"sk-label sk-toggleable\"><input class=\"sk-toggleable__control sk-hidden--visually\" id=\"sk-estimator-id-34\" type=\"checkbox\" ><label for=\"sk-estimator-id-34\" class=\"sk-toggleable__label sk-toggleable__label-arrow\">onehot</label><div class=\"sk-toggleable__content\"><pre>[&#x27;victim_race&#x27;, &#x27;victim_sex&#x27;, &#x27;month&#x27;, &#x27;weekday&#x27;]</pre></div></div></div><div class=\"sk-serial\"><div class=\"sk-item\"><div class=\"sk-serial\"><div class=\"sk-item\"><div class=\"sk-estimator sk-toggleable\"><input class=\"sk-toggleable__control sk-hidden--visually\" id=\"sk-estimator-id-35\" type=\"checkbox\" ><label for=\"sk-estimator-id-35\" class=\"sk-toggleable__label sk-toggleable__label-arrow\">OneHotEncoder</label><div class=\"sk-toggleable__content\"><pre>OneHotEncoder(sparse_output=False)</pre></div></div></div></div></div></div></div></div></div></div><div class=\"sk-item\"><div class=\"sk-estimator sk-toggleable\"><input class=\"sk-toggleable__control sk-hidden--visually\" id=\"sk-estimator-id-36\" type=\"checkbox\" ><label for=\"sk-estimator-id-36\" class=\"sk-toggleable__label sk-toggleable__label-arrow\">RandomForestClassifier</label><div class=\"sk-toggleable__content\"><pre>RandomForestClassifier(random_state=0)</pre></div></div></div></div></div></div></div></div></div></div></div></div>"
      ],
      "text/plain": [
       "GridSearchCV(estimator=Pipeline(steps=[('preprocess',\n",
       "                                        ColumnTransformer(transformers=[('numeric',\n",
       "                                                                         Pipeline(steps=[('impute',\n",
       "                                                                                          SimpleImputer(strategy='median')),\n",
       "                                                                                         ('normalize',\n",
       "                                                                                          MinMaxScaler())]),\n",
       "                                                                         ['victim_age',\n",
       "                                                                          'lat',\n",
       "                                                                          'lon',\n",
       "                                                                          'delta_days']),\n",
       "                                                                        ('onehot',\n",
       "                                                                         Pipeline(steps=[('onehot',\n",
       "                                                                                          OneHotEncoder(sparse_output=False))]),\n",
       "                                                                         ['victim_race',\n",
       "                                                                          'victim_sex',\n",
       "                                                                          'month',\n",
       "                                                                          'weekday'])])),\n",
       "                                       ('train',\n",
       "                                        RandomForestClassifier(random_state=0))]),\n",
       "             param_grid=[{'train__criterion': ['gini', 'entropy', 'log_loss'],\n",
       "                          'train__max_features': [None, 'sqrt', 'log2'],\n",
       "                          'train__min_samples_split': [2, 204, 20871]}],\n",
       "             scoring='f1_weighted')"
      ]
     },
     "execution_count": 82,
     "metadata": {},
     "output_type": "execute_result"
    }
   ],
   "source": [
    "%%time\n",
    "rfc_grid_search = GridSearchCV(random_forest_classifier, rfc_params, scoring=\"f1_weighted\")\n",
    "rfc_grid_search.fit(X_train, y_train)"
   ]
  },
  {
   "cell_type": "code",
   "execution_count": 83,
   "id": "d4ff5de4-4a94-49c3-8781-2802dfd17499",
   "metadata": {
    "tags": []
   },
   "outputs": [
    {
     "name": "stdout",
     "output_type": "stream",
     "text": [
      "{'train__criterion': 'entropy', 'train__max_features': None, 'train__min_samples_split': 2}\n",
      "0.5901742514635316\n"
     ]
    }
   ],
   "source": [
    "print(rfc_grid_search.best_params_)\n",
    "print(rfc_grid_search.best_score_)"
   ]
  },
  {
   "cell_type": "code",
   "execution_count": 84,
   "id": "8845bd64-3a97-46b3-b48d-e6cb943b5301",
   "metadata": {
    "tags": []
   },
   "outputs": [
    {
     "name": "stdout",
     "output_type": "stream",
     "text": [
      "CPU times: total: 1min 3s\n",
      "Wall time: 1min 4s\n"
     ]
    },
    {
     "data": {
      "text/html": [
       "<style>#sk-container-id-5 {color: black;background-color: white;}#sk-container-id-5 pre{padding: 0;}#sk-container-id-5 div.sk-toggleable {background-color: white;}#sk-container-id-5 label.sk-toggleable__label {cursor: pointer;display: block;width: 100%;margin-bottom: 0;padding: 0.3em;box-sizing: border-box;text-align: center;}#sk-container-id-5 label.sk-toggleable__label-arrow:before {content: \"▸\";float: left;margin-right: 0.25em;color: #696969;}#sk-container-id-5 label.sk-toggleable__label-arrow:hover:before {color: black;}#sk-container-id-5 div.sk-estimator:hover label.sk-toggleable__label-arrow:before {color: black;}#sk-container-id-5 div.sk-toggleable__content {max-height: 0;max-width: 0;overflow: hidden;text-align: left;background-color: #f0f8ff;}#sk-container-id-5 div.sk-toggleable__content pre {margin: 0.2em;color: black;border-radius: 0.25em;background-color: #f0f8ff;}#sk-container-id-5 input.sk-toggleable__control:checked~div.sk-toggleable__content {max-height: 200px;max-width: 100%;overflow: auto;}#sk-container-id-5 input.sk-toggleable__control:checked~label.sk-toggleable__label-arrow:before {content: \"▾\";}#sk-container-id-5 div.sk-estimator input.sk-toggleable__control:checked~label.sk-toggleable__label {background-color: #d4ebff;}#sk-container-id-5 div.sk-label input.sk-toggleable__control:checked~label.sk-toggleable__label {background-color: #d4ebff;}#sk-container-id-5 input.sk-hidden--visually {border: 0;clip: rect(1px 1px 1px 1px);clip: rect(1px, 1px, 1px, 1px);height: 1px;margin: -1px;overflow: hidden;padding: 0;position: absolute;width: 1px;}#sk-container-id-5 div.sk-estimator {font-family: monospace;background-color: #f0f8ff;border: 1px dotted black;border-radius: 0.25em;box-sizing: border-box;margin-bottom: 0.5em;}#sk-container-id-5 div.sk-estimator:hover {background-color: #d4ebff;}#sk-container-id-5 div.sk-parallel-item::after {content: \"\";width: 100%;border-bottom: 1px solid gray;flex-grow: 1;}#sk-container-id-5 div.sk-label:hover label.sk-toggleable__label {background-color: #d4ebff;}#sk-container-id-5 div.sk-serial::before {content: \"\";position: absolute;border-left: 1px solid gray;box-sizing: border-box;top: 0;bottom: 0;left: 50%;z-index: 0;}#sk-container-id-5 div.sk-serial {display: flex;flex-direction: column;align-items: center;background-color: white;padding-right: 0.2em;padding-left: 0.2em;position: relative;}#sk-container-id-5 div.sk-item {position: relative;z-index: 1;}#sk-container-id-5 div.sk-parallel {display: flex;align-items: stretch;justify-content: center;background-color: white;position: relative;}#sk-container-id-5 div.sk-item::before, #sk-container-id-5 div.sk-parallel-item::before {content: \"\";position: absolute;border-left: 1px solid gray;box-sizing: border-box;top: 0;bottom: 0;left: 50%;z-index: -1;}#sk-container-id-5 div.sk-parallel-item {display: flex;flex-direction: column;z-index: 1;position: relative;background-color: white;}#sk-container-id-5 div.sk-parallel-item:first-child::after {align-self: flex-end;width: 50%;}#sk-container-id-5 div.sk-parallel-item:last-child::after {align-self: flex-start;width: 50%;}#sk-container-id-5 div.sk-parallel-item:only-child::after {width: 0;}#sk-container-id-5 div.sk-dashed-wrapped {border: 1px dashed gray;margin: 0 0.4em 0.5em 0.4em;box-sizing: border-box;padding-bottom: 0.4em;background-color: white;}#sk-container-id-5 div.sk-label label {font-family: monospace;font-weight: bold;display: inline-block;line-height: 1.2em;}#sk-container-id-5 div.sk-label-container {text-align: center;}#sk-container-id-5 div.sk-container {/* jupyter's `normalize.less` sets `[hidden] { display: none; }` but bootstrap.min.css set `[hidden] { display: none !important; }` so we also need the `!important` here to be able to override the default hidden behavior on the sphinx rendered scikit-learn.org. See: https://github.com/scikit-learn/scikit-learn/issues/21755 */display: inline-block !important;position: relative;}#sk-container-id-5 div.sk-text-repr-fallback {display: none;}</style><div id=\"sk-container-id-5\" class=\"sk-top-container\"><div class=\"sk-text-repr-fallback\"><pre>GridSearchCV(cv=5,\n",
       "             estimator=Pipeline(steps=[(&#x27;preprocess&#x27;,\n",
       "                                        ColumnTransformer(transformers=[(&#x27;numeric&#x27;,\n",
       "                                                                         Pipeline(steps=[(&#x27;impute&#x27;,\n",
       "                                                                                          SimpleImputer(strategy=&#x27;median&#x27;)),\n",
       "                                                                                         (&#x27;normalize&#x27;,\n",
       "                                                                                          MinMaxScaler())]),\n",
       "                                                                         [&#x27;victim_age&#x27;,\n",
       "                                                                          &#x27;lat&#x27;,\n",
       "                                                                          &#x27;lon&#x27;,\n",
       "                                                                          &#x27;delta_days&#x27;]),\n",
       "                                                                        (&#x27;onehot&#x27;,\n",
       "                                                                         Pipeline(steps=[(&#x27;onehot&#x27;,\n",
       "                                                                                          OneHotEncoder(sparse_output=False))]),\n",
       "                                                                         [&#x27;victim_race&#x27;,\n",
       "                                                                          &#x27;victim_sex&#x27;,\n",
       "                                                                          &#x27;month&#x27;,\n",
       "                                                                          &#x27;weekday&#x27;])])),\n",
       "                                       (&#x27;train&#x27;,\n",
       "                                        BaggingClassifier(random_state=0))]),\n",
       "             param_grid=[{&#x27;train__n_estimators&#x27;: [5, 10, 20]}],\n",
       "             scoring=&#x27;f1_weighted&#x27;)</pre><b>In a Jupyter environment, please rerun this cell to show the HTML representation or trust the notebook. <br />On GitHub, the HTML representation is unable to render, please try loading this page with nbviewer.org.</b></div><div class=\"sk-container\" hidden><div class=\"sk-item sk-dashed-wrapped\"><div class=\"sk-label-container\"><div class=\"sk-label sk-toggleable\"><input class=\"sk-toggleable__control sk-hidden--visually\" id=\"sk-estimator-id-37\" type=\"checkbox\" ><label for=\"sk-estimator-id-37\" class=\"sk-toggleable__label sk-toggleable__label-arrow\">GridSearchCV</label><div class=\"sk-toggleable__content\"><pre>GridSearchCV(cv=5,\n",
       "             estimator=Pipeline(steps=[(&#x27;preprocess&#x27;,\n",
       "                                        ColumnTransformer(transformers=[(&#x27;numeric&#x27;,\n",
       "                                                                         Pipeline(steps=[(&#x27;impute&#x27;,\n",
       "                                                                                          SimpleImputer(strategy=&#x27;median&#x27;)),\n",
       "                                                                                         (&#x27;normalize&#x27;,\n",
       "                                                                                          MinMaxScaler())]),\n",
       "                                                                         [&#x27;victim_age&#x27;,\n",
       "                                                                          &#x27;lat&#x27;,\n",
       "                                                                          &#x27;lon&#x27;,\n",
       "                                                                          &#x27;delta_days&#x27;]),\n",
       "                                                                        (&#x27;onehot&#x27;,\n",
       "                                                                         Pipeline(steps=[(&#x27;onehot&#x27;,\n",
       "                                                                                          OneHotEncoder(sparse_output=False))]),\n",
       "                                                                         [&#x27;victim_race&#x27;,\n",
       "                                                                          &#x27;victim_sex&#x27;,\n",
       "                                                                          &#x27;month&#x27;,\n",
       "                                                                          &#x27;weekday&#x27;])])),\n",
       "                                       (&#x27;train&#x27;,\n",
       "                                        BaggingClassifier(random_state=0))]),\n",
       "             param_grid=[{&#x27;train__n_estimators&#x27;: [5, 10, 20]}],\n",
       "             scoring=&#x27;f1_weighted&#x27;)</pre></div></div></div><div class=\"sk-parallel\"><div class=\"sk-parallel-item\"><div class=\"sk-item\"><div class=\"sk-label-container\"><div class=\"sk-label sk-toggleable\"><input class=\"sk-toggleable__control sk-hidden--visually\" id=\"sk-estimator-id-38\" type=\"checkbox\" ><label for=\"sk-estimator-id-38\" class=\"sk-toggleable__label sk-toggleable__label-arrow\">estimator: Pipeline</label><div class=\"sk-toggleable__content\"><pre>Pipeline(steps=[(&#x27;preprocess&#x27;,\n",
       "                 ColumnTransformer(transformers=[(&#x27;numeric&#x27;,\n",
       "                                                  Pipeline(steps=[(&#x27;impute&#x27;,\n",
       "                                                                   SimpleImputer(strategy=&#x27;median&#x27;)),\n",
       "                                                                  (&#x27;normalize&#x27;,\n",
       "                                                                   MinMaxScaler())]),\n",
       "                                                  [&#x27;victim_age&#x27;, &#x27;lat&#x27;, &#x27;lon&#x27;,\n",
       "                                                   &#x27;delta_days&#x27;]),\n",
       "                                                 (&#x27;onehot&#x27;,\n",
       "                                                  Pipeline(steps=[(&#x27;onehot&#x27;,\n",
       "                                                                   OneHotEncoder(sparse_output=False))]),\n",
       "                                                  [&#x27;victim_race&#x27;, &#x27;victim_sex&#x27;,\n",
       "                                                   &#x27;month&#x27;, &#x27;weekday&#x27;])])),\n",
       "                (&#x27;train&#x27;, BaggingClassifier(random_state=0))])</pre></div></div></div><div class=\"sk-serial\"><div class=\"sk-item\"><div class=\"sk-serial\"><div class=\"sk-item sk-dashed-wrapped\"><div class=\"sk-label-container\"><div class=\"sk-label sk-toggleable\"><input class=\"sk-toggleable__control sk-hidden--visually\" id=\"sk-estimator-id-39\" type=\"checkbox\" ><label for=\"sk-estimator-id-39\" class=\"sk-toggleable__label sk-toggleable__label-arrow\">preprocess: ColumnTransformer</label><div class=\"sk-toggleable__content\"><pre>ColumnTransformer(transformers=[(&#x27;numeric&#x27;,\n",
       "                                 Pipeline(steps=[(&#x27;impute&#x27;,\n",
       "                                                  SimpleImputer(strategy=&#x27;median&#x27;)),\n",
       "                                                 (&#x27;normalize&#x27;,\n",
       "                                                  MinMaxScaler())]),\n",
       "                                 [&#x27;victim_age&#x27;, &#x27;lat&#x27;, &#x27;lon&#x27;, &#x27;delta_days&#x27;]),\n",
       "                                (&#x27;onehot&#x27;,\n",
       "                                 Pipeline(steps=[(&#x27;onehot&#x27;,\n",
       "                                                  OneHotEncoder(sparse_output=False))]),\n",
       "                                 [&#x27;victim_race&#x27;, &#x27;victim_sex&#x27;, &#x27;month&#x27;,\n",
       "                                  &#x27;weekday&#x27;])])</pre></div></div></div><div class=\"sk-parallel\"><div class=\"sk-parallel-item\"><div class=\"sk-item\"><div class=\"sk-label-container\"><div class=\"sk-label sk-toggleable\"><input class=\"sk-toggleable__control sk-hidden--visually\" id=\"sk-estimator-id-40\" type=\"checkbox\" ><label for=\"sk-estimator-id-40\" class=\"sk-toggleable__label sk-toggleable__label-arrow\">numeric</label><div class=\"sk-toggleable__content\"><pre>[&#x27;victim_age&#x27;, &#x27;lat&#x27;, &#x27;lon&#x27;, &#x27;delta_days&#x27;]</pre></div></div></div><div class=\"sk-serial\"><div class=\"sk-item\"><div class=\"sk-serial\"><div class=\"sk-item\"><div class=\"sk-estimator sk-toggleable\"><input class=\"sk-toggleable__control sk-hidden--visually\" id=\"sk-estimator-id-41\" type=\"checkbox\" ><label for=\"sk-estimator-id-41\" class=\"sk-toggleable__label sk-toggleable__label-arrow\">SimpleImputer</label><div class=\"sk-toggleable__content\"><pre>SimpleImputer(strategy=&#x27;median&#x27;)</pre></div></div></div><div class=\"sk-item\"><div class=\"sk-estimator sk-toggleable\"><input class=\"sk-toggleable__control sk-hidden--visually\" id=\"sk-estimator-id-42\" type=\"checkbox\" ><label for=\"sk-estimator-id-42\" class=\"sk-toggleable__label sk-toggleable__label-arrow\">MinMaxScaler</label><div class=\"sk-toggleable__content\"><pre>MinMaxScaler()</pre></div></div></div></div></div></div></div></div><div class=\"sk-parallel-item\"><div class=\"sk-item\"><div class=\"sk-label-container\"><div class=\"sk-label sk-toggleable\"><input class=\"sk-toggleable__control sk-hidden--visually\" id=\"sk-estimator-id-43\" type=\"checkbox\" ><label for=\"sk-estimator-id-43\" class=\"sk-toggleable__label sk-toggleable__label-arrow\">onehot</label><div class=\"sk-toggleable__content\"><pre>[&#x27;victim_race&#x27;, &#x27;victim_sex&#x27;, &#x27;month&#x27;, &#x27;weekday&#x27;]</pre></div></div></div><div class=\"sk-serial\"><div class=\"sk-item\"><div class=\"sk-serial\"><div class=\"sk-item\"><div class=\"sk-estimator sk-toggleable\"><input class=\"sk-toggleable__control sk-hidden--visually\" id=\"sk-estimator-id-44\" type=\"checkbox\" ><label for=\"sk-estimator-id-44\" class=\"sk-toggleable__label sk-toggleable__label-arrow\">OneHotEncoder</label><div class=\"sk-toggleable__content\"><pre>OneHotEncoder(sparse_output=False)</pre></div></div></div></div></div></div></div></div></div></div><div class=\"sk-item\"><div class=\"sk-estimator sk-toggleable\"><input class=\"sk-toggleable__control sk-hidden--visually\" id=\"sk-estimator-id-45\" type=\"checkbox\" ><label for=\"sk-estimator-id-45\" class=\"sk-toggleable__label sk-toggleable__label-arrow\">BaggingClassifier</label><div class=\"sk-toggleable__content\"><pre>BaggingClassifier(random_state=0)</pre></div></div></div></div></div></div></div></div></div></div></div></div>"
      ],
      "text/plain": [
       "GridSearchCV(cv=5,\n",
       "             estimator=Pipeline(steps=[('preprocess',\n",
       "                                        ColumnTransformer(transformers=[('numeric',\n",
       "                                                                         Pipeline(steps=[('impute',\n",
       "                                                                                          SimpleImputer(strategy='median')),\n",
       "                                                                                         ('normalize',\n",
       "                                                                                          MinMaxScaler())]),\n",
       "                                                                         ['victim_age',\n",
       "                                                                          'lat',\n",
       "                                                                          'lon',\n",
       "                                                                          'delta_days']),\n",
       "                                                                        ('onehot',\n",
       "                                                                         Pipeline(steps=[('onehot',\n",
       "                                                                                          OneHotEncoder(sparse_output=False))]),\n",
       "                                                                         ['victim_race',\n",
       "                                                                          'victim_sex',\n",
       "                                                                          'month',\n",
       "                                                                          'weekday'])])),\n",
       "                                       ('train',\n",
       "                                        BaggingClassifier(random_state=0))]),\n",
       "             param_grid=[{'train__n_estimators': [5, 10, 20]}],\n",
       "             scoring='f1_weighted')"
      ]
     },
     "execution_count": 84,
     "metadata": {},
     "output_type": "execute_result"
    }
   ],
   "source": [
    "%%time\n",
    "bc_grid_search = GridSearchCV(bagging_classifier, bc_params, cv=5, scoring=\"f1_weighted\")\n",
    "bc_grid_search.fit(X_train, y_train)"
   ]
  },
  {
   "cell_type": "code",
   "execution_count": 85,
   "id": "4085a9a0-02de-45a4-855f-924870b2f541",
   "metadata": {
    "tags": []
   },
   "outputs": [
    {
     "name": "stdout",
     "output_type": "stream",
     "text": [
      "{'train__n_estimators': 20}\n",
      "0.5765536936336821\n"
     ]
    }
   ],
   "source": [
    "print(bc_grid_search.best_params_)\n",
    "print(bc_grid_search.best_score_)"
   ]
  },
  {
   "cell_type": "code",
   "execution_count": 86,
   "id": "e4c36ced-9826-4de7-8f41-df6001f5d525",
   "metadata": {
    "tags": []
   },
   "outputs": [
    {
     "name": "stdout",
     "output_type": "stream",
     "text": [
      "CPU times: total: 2min 24s\n",
      "Wall time: 2min 39s\n"
     ]
    },
    {
     "data": {
      "text/html": [
       "<style>#sk-container-id-6 {color: black;background-color: white;}#sk-container-id-6 pre{padding: 0;}#sk-container-id-6 div.sk-toggleable {background-color: white;}#sk-container-id-6 label.sk-toggleable__label {cursor: pointer;display: block;width: 100%;margin-bottom: 0;padding: 0.3em;box-sizing: border-box;text-align: center;}#sk-container-id-6 label.sk-toggleable__label-arrow:before {content: \"▸\";float: left;margin-right: 0.25em;color: #696969;}#sk-container-id-6 label.sk-toggleable__label-arrow:hover:before {color: black;}#sk-container-id-6 div.sk-estimator:hover label.sk-toggleable__label-arrow:before {color: black;}#sk-container-id-6 div.sk-toggleable__content {max-height: 0;max-width: 0;overflow: hidden;text-align: left;background-color: #f0f8ff;}#sk-container-id-6 div.sk-toggleable__content pre {margin: 0.2em;color: black;border-radius: 0.25em;background-color: #f0f8ff;}#sk-container-id-6 input.sk-toggleable__control:checked~div.sk-toggleable__content {max-height: 200px;max-width: 100%;overflow: auto;}#sk-container-id-6 input.sk-toggleable__control:checked~label.sk-toggleable__label-arrow:before {content: \"▾\";}#sk-container-id-6 div.sk-estimator input.sk-toggleable__control:checked~label.sk-toggleable__label {background-color: #d4ebff;}#sk-container-id-6 div.sk-label input.sk-toggleable__control:checked~label.sk-toggleable__label {background-color: #d4ebff;}#sk-container-id-6 input.sk-hidden--visually {border: 0;clip: rect(1px 1px 1px 1px);clip: rect(1px, 1px, 1px, 1px);height: 1px;margin: -1px;overflow: hidden;padding: 0;position: absolute;width: 1px;}#sk-container-id-6 div.sk-estimator {font-family: monospace;background-color: #f0f8ff;border: 1px dotted black;border-radius: 0.25em;box-sizing: border-box;margin-bottom: 0.5em;}#sk-container-id-6 div.sk-estimator:hover {background-color: #d4ebff;}#sk-container-id-6 div.sk-parallel-item::after {content: \"\";width: 100%;border-bottom: 1px solid gray;flex-grow: 1;}#sk-container-id-6 div.sk-label:hover label.sk-toggleable__label {background-color: #d4ebff;}#sk-container-id-6 div.sk-serial::before {content: \"\";position: absolute;border-left: 1px solid gray;box-sizing: border-box;top: 0;bottom: 0;left: 50%;z-index: 0;}#sk-container-id-6 div.sk-serial {display: flex;flex-direction: column;align-items: center;background-color: white;padding-right: 0.2em;padding-left: 0.2em;position: relative;}#sk-container-id-6 div.sk-item {position: relative;z-index: 1;}#sk-container-id-6 div.sk-parallel {display: flex;align-items: stretch;justify-content: center;background-color: white;position: relative;}#sk-container-id-6 div.sk-item::before, #sk-container-id-6 div.sk-parallel-item::before {content: \"\";position: absolute;border-left: 1px solid gray;box-sizing: border-box;top: 0;bottom: 0;left: 50%;z-index: -1;}#sk-container-id-6 div.sk-parallel-item {display: flex;flex-direction: column;z-index: 1;position: relative;background-color: white;}#sk-container-id-6 div.sk-parallel-item:first-child::after {align-self: flex-end;width: 50%;}#sk-container-id-6 div.sk-parallel-item:last-child::after {align-self: flex-start;width: 50%;}#sk-container-id-6 div.sk-parallel-item:only-child::after {width: 0;}#sk-container-id-6 div.sk-dashed-wrapped {border: 1px dashed gray;margin: 0 0.4em 0.5em 0.4em;box-sizing: border-box;padding-bottom: 0.4em;background-color: white;}#sk-container-id-6 div.sk-label label {font-family: monospace;font-weight: bold;display: inline-block;line-height: 1.2em;}#sk-container-id-6 div.sk-label-container {text-align: center;}#sk-container-id-6 div.sk-container {/* jupyter's `normalize.less` sets `[hidden] { display: none; }` but bootstrap.min.css set `[hidden] { display: none !important; }` so we also need the `!important` here to be able to override the default hidden behavior on the sphinx rendered scikit-learn.org. See: https://github.com/scikit-learn/scikit-learn/issues/21755 */display: inline-block !important;position: relative;}#sk-container-id-6 div.sk-text-repr-fallback {display: none;}</style><div id=\"sk-container-id-6\" class=\"sk-top-container\"><div class=\"sk-text-repr-fallback\"><pre>GridSearchCV(cv=5,\n",
       "             estimator=Pipeline(steps=[(&#x27;preprocess&#x27;,\n",
       "                                        ColumnTransformer(transformers=[(&#x27;numeric&#x27;,\n",
       "                                                                         Pipeline(steps=[(&#x27;impute&#x27;,\n",
       "                                                                                          SimpleImputer(strategy=&#x27;median&#x27;)),\n",
       "                                                                                         (&#x27;normalize&#x27;,\n",
       "                                                                                          MinMaxScaler())]),\n",
       "                                                                         [&#x27;victim_age&#x27;,\n",
       "                                                                          &#x27;lat&#x27;,\n",
       "                                                                          &#x27;lon&#x27;,\n",
       "                                                                          &#x27;delta_days&#x27;]),\n",
       "                                                                        (&#x27;onehot&#x27;,\n",
       "                                                                         Pipeline(steps=[(&#x27;onehot&#x27;,\n",
       "                                                                                          OneHotEncoder(sparse_output=False))]),\n",
       "                                                                         [&#x27;victim_race&#x27;,\n",
       "                                                                          &#x27;victim_sex&#x27;,\n",
       "                                                                          &#x27;month&#x27;,\n",
       "                                                                          &#x27;weekday&#x27;])])),\n",
       "                                       (&#x27;train&#x27;,\n",
       "                                        AdaBoostClassifier(random_state=0))]),\n",
       "             param_grid=[{&#x27;train__learning_rate&#x27;: [0.5, 1.0, 3.0],\n",
       "                          &#x27;train__n_estimators&#x27;: [20, 50, 80]}],\n",
       "             scoring=&#x27;f1_weighted&#x27;)</pre><b>In a Jupyter environment, please rerun this cell to show the HTML representation or trust the notebook. <br />On GitHub, the HTML representation is unable to render, please try loading this page with nbviewer.org.</b></div><div class=\"sk-container\" hidden><div class=\"sk-item sk-dashed-wrapped\"><div class=\"sk-label-container\"><div class=\"sk-label sk-toggleable\"><input class=\"sk-toggleable__control sk-hidden--visually\" id=\"sk-estimator-id-46\" type=\"checkbox\" ><label for=\"sk-estimator-id-46\" class=\"sk-toggleable__label sk-toggleable__label-arrow\">GridSearchCV</label><div class=\"sk-toggleable__content\"><pre>GridSearchCV(cv=5,\n",
       "             estimator=Pipeline(steps=[(&#x27;preprocess&#x27;,\n",
       "                                        ColumnTransformer(transformers=[(&#x27;numeric&#x27;,\n",
       "                                                                         Pipeline(steps=[(&#x27;impute&#x27;,\n",
       "                                                                                          SimpleImputer(strategy=&#x27;median&#x27;)),\n",
       "                                                                                         (&#x27;normalize&#x27;,\n",
       "                                                                                          MinMaxScaler())]),\n",
       "                                                                         [&#x27;victim_age&#x27;,\n",
       "                                                                          &#x27;lat&#x27;,\n",
       "                                                                          &#x27;lon&#x27;,\n",
       "                                                                          &#x27;delta_days&#x27;]),\n",
       "                                                                        (&#x27;onehot&#x27;,\n",
       "                                                                         Pipeline(steps=[(&#x27;onehot&#x27;,\n",
       "                                                                                          OneHotEncoder(sparse_output=False))]),\n",
       "                                                                         [&#x27;victim_race&#x27;,\n",
       "                                                                          &#x27;victim_sex&#x27;,\n",
       "                                                                          &#x27;month&#x27;,\n",
       "                                                                          &#x27;weekday&#x27;])])),\n",
       "                                       (&#x27;train&#x27;,\n",
       "                                        AdaBoostClassifier(random_state=0))]),\n",
       "             param_grid=[{&#x27;train__learning_rate&#x27;: [0.5, 1.0, 3.0],\n",
       "                          &#x27;train__n_estimators&#x27;: [20, 50, 80]}],\n",
       "             scoring=&#x27;f1_weighted&#x27;)</pre></div></div></div><div class=\"sk-parallel\"><div class=\"sk-parallel-item\"><div class=\"sk-item\"><div class=\"sk-label-container\"><div class=\"sk-label sk-toggleable\"><input class=\"sk-toggleable__control sk-hidden--visually\" id=\"sk-estimator-id-47\" type=\"checkbox\" ><label for=\"sk-estimator-id-47\" class=\"sk-toggleable__label sk-toggleable__label-arrow\">estimator: Pipeline</label><div class=\"sk-toggleable__content\"><pre>Pipeline(steps=[(&#x27;preprocess&#x27;,\n",
       "                 ColumnTransformer(transformers=[(&#x27;numeric&#x27;,\n",
       "                                                  Pipeline(steps=[(&#x27;impute&#x27;,\n",
       "                                                                   SimpleImputer(strategy=&#x27;median&#x27;)),\n",
       "                                                                  (&#x27;normalize&#x27;,\n",
       "                                                                   MinMaxScaler())]),\n",
       "                                                  [&#x27;victim_age&#x27;, &#x27;lat&#x27;, &#x27;lon&#x27;,\n",
       "                                                   &#x27;delta_days&#x27;]),\n",
       "                                                 (&#x27;onehot&#x27;,\n",
       "                                                  Pipeline(steps=[(&#x27;onehot&#x27;,\n",
       "                                                                   OneHotEncoder(sparse_output=False))]),\n",
       "                                                  [&#x27;victim_race&#x27;, &#x27;victim_sex&#x27;,\n",
       "                                                   &#x27;month&#x27;, &#x27;weekday&#x27;])])),\n",
       "                (&#x27;train&#x27;, AdaBoostClassifier(random_state=0))])</pre></div></div></div><div class=\"sk-serial\"><div class=\"sk-item\"><div class=\"sk-serial\"><div class=\"sk-item sk-dashed-wrapped\"><div class=\"sk-label-container\"><div class=\"sk-label sk-toggleable\"><input class=\"sk-toggleable__control sk-hidden--visually\" id=\"sk-estimator-id-48\" type=\"checkbox\" ><label for=\"sk-estimator-id-48\" class=\"sk-toggleable__label sk-toggleable__label-arrow\">preprocess: ColumnTransformer</label><div class=\"sk-toggleable__content\"><pre>ColumnTransformer(transformers=[(&#x27;numeric&#x27;,\n",
       "                                 Pipeline(steps=[(&#x27;impute&#x27;,\n",
       "                                                  SimpleImputer(strategy=&#x27;median&#x27;)),\n",
       "                                                 (&#x27;normalize&#x27;,\n",
       "                                                  MinMaxScaler())]),\n",
       "                                 [&#x27;victim_age&#x27;, &#x27;lat&#x27;, &#x27;lon&#x27;, &#x27;delta_days&#x27;]),\n",
       "                                (&#x27;onehot&#x27;,\n",
       "                                 Pipeline(steps=[(&#x27;onehot&#x27;,\n",
       "                                                  OneHotEncoder(sparse_output=False))]),\n",
       "                                 [&#x27;victim_race&#x27;, &#x27;victim_sex&#x27;, &#x27;month&#x27;,\n",
       "                                  &#x27;weekday&#x27;])])</pre></div></div></div><div class=\"sk-parallel\"><div class=\"sk-parallel-item\"><div class=\"sk-item\"><div class=\"sk-label-container\"><div class=\"sk-label sk-toggleable\"><input class=\"sk-toggleable__control sk-hidden--visually\" id=\"sk-estimator-id-49\" type=\"checkbox\" ><label for=\"sk-estimator-id-49\" class=\"sk-toggleable__label sk-toggleable__label-arrow\">numeric</label><div class=\"sk-toggleable__content\"><pre>[&#x27;victim_age&#x27;, &#x27;lat&#x27;, &#x27;lon&#x27;, &#x27;delta_days&#x27;]</pre></div></div></div><div class=\"sk-serial\"><div class=\"sk-item\"><div class=\"sk-serial\"><div class=\"sk-item\"><div class=\"sk-estimator sk-toggleable\"><input class=\"sk-toggleable__control sk-hidden--visually\" id=\"sk-estimator-id-50\" type=\"checkbox\" ><label for=\"sk-estimator-id-50\" class=\"sk-toggleable__label sk-toggleable__label-arrow\">SimpleImputer</label><div class=\"sk-toggleable__content\"><pre>SimpleImputer(strategy=&#x27;median&#x27;)</pre></div></div></div><div class=\"sk-item\"><div class=\"sk-estimator sk-toggleable\"><input class=\"sk-toggleable__control sk-hidden--visually\" id=\"sk-estimator-id-51\" type=\"checkbox\" ><label for=\"sk-estimator-id-51\" class=\"sk-toggleable__label sk-toggleable__label-arrow\">MinMaxScaler</label><div class=\"sk-toggleable__content\"><pre>MinMaxScaler()</pre></div></div></div></div></div></div></div></div><div class=\"sk-parallel-item\"><div class=\"sk-item\"><div class=\"sk-label-container\"><div class=\"sk-label sk-toggleable\"><input class=\"sk-toggleable__control sk-hidden--visually\" id=\"sk-estimator-id-52\" type=\"checkbox\" ><label for=\"sk-estimator-id-52\" class=\"sk-toggleable__label sk-toggleable__label-arrow\">onehot</label><div class=\"sk-toggleable__content\"><pre>[&#x27;victim_race&#x27;, &#x27;victim_sex&#x27;, &#x27;month&#x27;, &#x27;weekday&#x27;]</pre></div></div></div><div class=\"sk-serial\"><div class=\"sk-item\"><div class=\"sk-serial\"><div class=\"sk-item\"><div class=\"sk-estimator sk-toggleable\"><input class=\"sk-toggleable__control sk-hidden--visually\" id=\"sk-estimator-id-53\" type=\"checkbox\" ><label for=\"sk-estimator-id-53\" class=\"sk-toggleable__label sk-toggleable__label-arrow\">OneHotEncoder</label><div class=\"sk-toggleable__content\"><pre>OneHotEncoder(sparse_output=False)</pre></div></div></div></div></div></div></div></div></div></div><div class=\"sk-item\"><div class=\"sk-estimator sk-toggleable\"><input class=\"sk-toggleable__control sk-hidden--visually\" id=\"sk-estimator-id-54\" type=\"checkbox\" ><label for=\"sk-estimator-id-54\" class=\"sk-toggleable__label sk-toggleable__label-arrow\">AdaBoostClassifier</label><div class=\"sk-toggleable__content\"><pre>AdaBoostClassifier(random_state=0)</pre></div></div></div></div></div></div></div></div></div></div></div></div>"
      ],
      "text/plain": [
       "GridSearchCV(cv=5,\n",
       "             estimator=Pipeline(steps=[('preprocess',\n",
       "                                        ColumnTransformer(transformers=[('numeric',\n",
       "                                                                         Pipeline(steps=[('impute',\n",
       "                                                                                          SimpleImputer(strategy='median')),\n",
       "                                                                                         ('normalize',\n",
       "                                                                                          MinMaxScaler())]),\n",
       "                                                                         ['victim_age',\n",
       "                                                                          'lat',\n",
       "                                                                          'lon',\n",
       "                                                                          'delta_days']),\n",
       "                                                                        ('onehot',\n",
       "                                                                         Pipeline(steps=[('onehot',\n",
       "                                                                                          OneHotEncoder(sparse_output=False))]),\n",
       "                                                                         ['victim_race',\n",
       "                                                                          'victim_sex',\n",
       "                                                                          'month',\n",
       "                                                                          'weekday'])])),\n",
       "                                       ('train',\n",
       "                                        AdaBoostClassifier(random_state=0))]),\n",
       "             param_grid=[{'train__learning_rate': [0.5, 1.0, 3.0],\n",
       "                          'train__n_estimators': [20, 50, 80]}],\n",
       "             scoring='f1_weighted')"
      ]
     },
     "execution_count": 86,
     "metadata": {},
     "output_type": "execute_result"
    }
   ],
   "source": [
    "%%time\n",
    "abc_grid_search = GridSearchCV(ada_boost_classifier, abc_params, cv=5, scoring=\"f1_weighted\")\n",
    "abc_grid_search.fit(X_train, y_train)"
   ]
  },
  {
   "cell_type": "code",
   "execution_count": 87,
   "id": "c3ace189-1aa8-4516-b12b-0b69e7a81a29",
   "metadata": {
    "tags": []
   },
   "outputs": [
    {
     "name": "stdout",
     "output_type": "stream",
     "text": [
      "{'train__learning_rate': 1.0, 'train__n_estimators': 80}\n",
      "0.570228076085138\n"
     ]
    }
   ],
   "source": [
    "print(abc_grid_search.best_params_)\n",
    "print(abc_grid_search.best_score_)"
   ]
  },
  {
   "cell_type": "code",
   "execution_count": 88,
   "id": "efe6b117-a7e8-4541-b6b7-d29992c3867c",
   "metadata": {
    "tags": []
   },
   "outputs": [
    {
     "name": "stdout",
     "output_type": "stream",
     "text": [
      "CPU times: total: 17min 56s\n",
      "Wall time: 18min 54s\n"
     ]
    },
    {
     "data": {
      "text/html": [
       "<style>#sk-container-id-7 {color: black;background-color: white;}#sk-container-id-7 pre{padding: 0;}#sk-container-id-7 div.sk-toggleable {background-color: white;}#sk-container-id-7 label.sk-toggleable__label {cursor: pointer;display: block;width: 100%;margin-bottom: 0;padding: 0.3em;box-sizing: border-box;text-align: center;}#sk-container-id-7 label.sk-toggleable__label-arrow:before {content: \"▸\";float: left;margin-right: 0.25em;color: #696969;}#sk-container-id-7 label.sk-toggleable__label-arrow:hover:before {color: black;}#sk-container-id-7 div.sk-estimator:hover label.sk-toggleable__label-arrow:before {color: black;}#sk-container-id-7 div.sk-toggleable__content {max-height: 0;max-width: 0;overflow: hidden;text-align: left;background-color: #f0f8ff;}#sk-container-id-7 div.sk-toggleable__content pre {margin: 0.2em;color: black;border-radius: 0.25em;background-color: #f0f8ff;}#sk-container-id-7 input.sk-toggleable__control:checked~div.sk-toggleable__content {max-height: 200px;max-width: 100%;overflow: auto;}#sk-container-id-7 input.sk-toggleable__control:checked~label.sk-toggleable__label-arrow:before {content: \"▾\";}#sk-container-id-7 div.sk-estimator input.sk-toggleable__control:checked~label.sk-toggleable__label {background-color: #d4ebff;}#sk-container-id-7 div.sk-label input.sk-toggleable__control:checked~label.sk-toggleable__label {background-color: #d4ebff;}#sk-container-id-7 input.sk-hidden--visually {border: 0;clip: rect(1px 1px 1px 1px);clip: rect(1px, 1px, 1px, 1px);height: 1px;margin: -1px;overflow: hidden;padding: 0;position: absolute;width: 1px;}#sk-container-id-7 div.sk-estimator {font-family: monospace;background-color: #f0f8ff;border: 1px dotted black;border-radius: 0.25em;box-sizing: border-box;margin-bottom: 0.5em;}#sk-container-id-7 div.sk-estimator:hover {background-color: #d4ebff;}#sk-container-id-7 div.sk-parallel-item::after {content: \"\";width: 100%;border-bottom: 1px solid gray;flex-grow: 1;}#sk-container-id-7 div.sk-label:hover label.sk-toggleable__label {background-color: #d4ebff;}#sk-container-id-7 div.sk-serial::before {content: \"\";position: absolute;border-left: 1px solid gray;box-sizing: border-box;top: 0;bottom: 0;left: 50%;z-index: 0;}#sk-container-id-7 div.sk-serial {display: flex;flex-direction: column;align-items: center;background-color: white;padding-right: 0.2em;padding-left: 0.2em;position: relative;}#sk-container-id-7 div.sk-item {position: relative;z-index: 1;}#sk-container-id-7 div.sk-parallel {display: flex;align-items: stretch;justify-content: center;background-color: white;position: relative;}#sk-container-id-7 div.sk-item::before, #sk-container-id-7 div.sk-parallel-item::before {content: \"\";position: absolute;border-left: 1px solid gray;box-sizing: border-box;top: 0;bottom: 0;left: 50%;z-index: -1;}#sk-container-id-7 div.sk-parallel-item {display: flex;flex-direction: column;z-index: 1;position: relative;background-color: white;}#sk-container-id-7 div.sk-parallel-item:first-child::after {align-self: flex-end;width: 50%;}#sk-container-id-7 div.sk-parallel-item:last-child::after {align-self: flex-start;width: 50%;}#sk-container-id-7 div.sk-parallel-item:only-child::after {width: 0;}#sk-container-id-7 div.sk-dashed-wrapped {border: 1px dashed gray;margin: 0 0.4em 0.5em 0.4em;box-sizing: border-box;padding-bottom: 0.4em;background-color: white;}#sk-container-id-7 div.sk-label label {font-family: monospace;font-weight: bold;display: inline-block;line-height: 1.2em;}#sk-container-id-7 div.sk-label-container {text-align: center;}#sk-container-id-7 div.sk-container {/* jupyter's `normalize.less` sets `[hidden] { display: none; }` but bootstrap.min.css set `[hidden] { display: none !important; }` so we also need the `!important` here to be able to override the default hidden behavior on the sphinx rendered scikit-learn.org. See: https://github.com/scikit-learn/scikit-learn/issues/21755 */display: inline-block !important;position: relative;}#sk-container-id-7 div.sk-text-repr-fallback {display: none;}</style><div id=\"sk-container-id-7\" class=\"sk-top-container\"><div class=\"sk-text-repr-fallback\"><pre>GridSearchCV(cv=5,\n",
       "             estimator=Pipeline(steps=[(&#x27;preprocess&#x27;,\n",
       "                                        ColumnTransformer(transformers=[(&#x27;numeric&#x27;,\n",
       "                                                                         Pipeline(steps=[(&#x27;impute&#x27;,\n",
       "                                                                                          SimpleImputer(strategy=&#x27;median&#x27;)),\n",
       "                                                                                         (&#x27;normalize&#x27;,\n",
       "                                                                                          MinMaxScaler())]),\n",
       "                                                                         [&#x27;victim_age&#x27;,\n",
       "                                                                          &#x27;lat&#x27;,\n",
       "                                                                          &#x27;lon&#x27;,\n",
       "                                                                          &#x27;delta_days&#x27;]),\n",
       "                                                                        (&#x27;onehot&#x27;,\n",
       "                                                                         Pipeline(steps=[(&#x27;onehot&#x27;,\n",
       "                                                                                          OneHotEncoder(sparse_output=False))]),\n",
       "                                                                         [&#x27;victim_race&#x27;,\n",
       "                                                                          &#x27;victim_sex&#x27;,\n",
       "                                                                          &#x27;month&#x27;,\n",
       "                                                                          &#x27;weekday&#x27;])])),\n",
       "                                       (&#x27;train&#x27;,\n",
       "                                        GradientBoostingClassifier(random_state=0))]),\n",
       "             param_grid=[{&#x27;train__learning_rate&#x27;: [0.1, 0.5, 2],\n",
       "                          &#x27;train__n_estimators&#x27;: [50, 100, 200]}],\n",
       "             scoring=&#x27;f1_weighted&#x27;)</pre><b>In a Jupyter environment, please rerun this cell to show the HTML representation or trust the notebook. <br />On GitHub, the HTML representation is unable to render, please try loading this page with nbviewer.org.</b></div><div class=\"sk-container\" hidden><div class=\"sk-item sk-dashed-wrapped\"><div class=\"sk-label-container\"><div class=\"sk-label sk-toggleable\"><input class=\"sk-toggleable__control sk-hidden--visually\" id=\"sk-estimator-id-55\" type=\"checkbox\" ><label for=\"sk-estimator-id-55\" class=\"sk-toggleable__label sk-toggleable__label-arrow\">GridSearchCV</label><div class=\"sk-toggleable__content\"><pre>GridSearchCV(cv=5,\n",
       "             estimator=Pipeline(steps=[(&#x27;preprocess&#x27;,\n",
       "                                        ColumnTransformer(transformers=[(&#x27;numeric&#x27;,\n",
       "                                                                         Pipeline(steps=[(&#x27;impute&#x27;,\n",
       "                                                                                          SimpleImputer(strategy=&#x27;median&#x27;)),\n",
       "                                                                                         (&#x27;normalize&#x27;,\n",
       "                                                                                          MinMaxScaler())]),\n",
       "                                                                         [&#x27;victim_age&#x27;,\n",
       "                                                                          &#x27;lat&#x27;,\n",
       "                                                                          &#x27;lon&#x27;,\n",
       "                                                                          &#x27;delta_days&#x27;]),\n",
       "                                                                        (&#x27;onehot&#x27;,\n",
       "                                                                         Pipeline(steps=[(&#x27;onehot&#x27;,\n",
       "                                                                                          OneHotEncoder(sparse_output=False))]),\n",
       "                                                                         [&#x27;victim_race&#x27;,\n",
       "                                                                          &#x27;victim_sex&#x27;,\n",
       "                                                                          &#x27;month&#x27;,\n",
       "                                                                          &#x27;weekday&#x27;])])),\n",
       "                                       (&#x27;train&#x27;,\n",
       "                                        GradientBoostingClassifier(random_state=0))]),\n",
       "             param_grid=[{&#x27;train__learning_rate&#x27;: [0.1, 0.5, 2],\n",
       "                          &#x27;train__n_estimators&#x27;: [50, 100, 200]}],\n",
       "             scoring=&#x27;f1_weighted&#x27;)</pre></div></div></div><div class=\"sk-parallel\"><div class=\"sk-parallel-item\"><div class=\"sk-item\"><div class=\"sk-label-container\"><div class=\"sk-label sk-toggleable\"><input class=\"sk-toggleable__control sk-hidden--visually\" id=\"sk-estimator-id-56\" type=\"checkbox\" ><label for=\"sk-estimator-id-56\" class=\"sk-toggleable__label sk-toggleable__label-arrow\">estimator: Pipeline</label><div class=\"sk-toggleable__content\"><pre>Pipeline(steps=[(&#x27;preprocess&#x27;,\n",
       "                 ColumnTransformer(transformers=[(&#x27;numeric&#x27;,\n",
       "                                                  Pipeline(steps=[(&#x27;impute&#x27;,\n",
       "                                                                   SimpleImputer(strategy=&#x27;median&#x27;)),\n",
       "                                                                  (&#x27;normalize&#x27;,\n",
       "                                                                   MinMaxScaler())]),\n",
       "                                                  [&#x27;victim_age&#x27;, &#x27;lat&#x27;, &#x27;lon&#x27;,\n",
       "                                                   &#x27;delta_days&#x27;]),\n",
       "                                                 (&#x27;onehot&#x27;,\n",
       "                                                  Pipeline(steps=[(&#x27;onehot&#x27;,\n",
       "                                                                   OneHotEncoder(sparse_output=False))]),\n",
       "                                                  [&#x27;victim_race&#x27;, &#x27;victim_sex&#x27;,\n",
       "                                                   &#x27;month&#x27;, &#x27;weekday&#x27;])])),\n",
       "                (&#x27;train&#x27;, GradientBoostingClassifier(random_state=0))])</pre></div></div></div><div class=\"sk-serial\"><div class=\"sk-item\"><div class=\"sk-serial\"><div class=\"sk-item sk-dashed-wrapped\"><div class=\"sk-label-container\"><div class=\"sk-label sk-toggleable\"><input class=\"sk-toggleable__control sk-hidden--visually\" id=\"sk-estimator-id-57\" type=\"checkbox\" ><label for=\"sk-estimator-id-57\" class=\"sk-toggleable__label sk-toggleable__label-arrow\">preprocess: ColumnTransformer</label><div class=\"sk-toggleable__content\"><pre>ColumnTransformer(transformers=[(&#x27;numeric&#x27;,\n",
       "                                 Pipeline(steps=[(&#x27;impute&#x27;,\n",
       "                                                  SimpleImputer(strategy=&#x27;median&#x27;)),\n",
       "                                                 (&#x27;normalize&#x27;,\n",
       "                                                  MinMaxScaler())]),\n",
       "                                 [&#x27;victim_age&#x27;, &#x27;lat&#x27;, &#x27;lon&#x27;, &#x27;delta_days&#x27;]),\n",
       "                                (&#x27;onehot&#x27;,\n",
       "                                 Pipeline(steps=[(&#x27;onehot&#x27;,\n",
       "                                                  OneHotEncoder(sparse_output=False))]),\n",
       "                                 [&#x27;victim_race&#x27;, &#x27;victim_sex&#x27;, &#x27;month&#x27;,\n",
       "                                  &#x27;weekday&#x27;])])</pre></div></div></div><div class=\"sk-parallel\"><div class=\"sk-parallel-item\"><div class=\"sk-item\"><div class=\"sk-label-container\"><div class=\"sk-label sk-toggleable\"><input class=\"sk-toggleable__control sk-hidden--visually\" id=\"sk-estimator-id-58\" type=\"checkbox\" ><label for=\"sk-estimator-id-58\" class=\"sk-toggleable__label sk-toggleable__label-arrow\">numeric</label><div class=\"sk-toggleable__content\"><pre>[&#x27;victim_age&#x27;, &#x27;lat&#x27;, &#x27;lon&#x27;, &#x27;delta_days&#x27;]</pre></div></div></div><div class=\"sk-serial\"><div class=\"sk-item\"><div class=\"sk-serial\"><div class=\"sk-item\"><div class=\"sk-estimator sk-toggleable\"><input class=\"sk-toggleable__control sk-hidden--visually\" id=\"sk-estimator-id-59\" type=\"checkbox\" ><label for=\"sk-estimator-id-59\" class=\"sk-toggleable__label sk-toggleable__label-arrow\">SimpleImputer</label><div class=\"sk-toggleable__content\"><pre>SimpleImputer(strategy=&#x27;median&#x27;)</pre></div></div></div><div class=\"sk-item\"><div class=\"sk-estimator sk-toggleable\"><input class=\"sk-toggleable__control sk-hidden--visually\" id=\"sk-estimator-id-60\" type=\"checkbox\" ><label for=\"sk-estimator-id-60\" class=\"sk-toggleable__label sk-toggleable__label-arrow\">MinMaxScaler</label><div class=\"sk-toggleable__content\"><pre>MinMaxScaler()</pre></div></div></div></div></div></div></div></div><div class=\"sk-parallel-item\"><div class=\"sk-item\"><div class=\"sk-label-container\"><div class=\"sk-label sk-toggleable\"><input class=\"sk-toggleable__control sk-hidden--visually\" id=\"sk-estimator-id-61\" type=\"checkbox\" ><label for=\"sk-estimator-id-61\" class=\"sk-toggleable__label sk-toggleable__label-arrow\">onehot</label><div class=\"sk-toggleable__content\"><pre>[&#x27;victim_race&#x27;, &#x27;victim_sex&#x27;, &#x27;month&#x27;, &#x27;weekday&#x27;]</pre></div></div></div><div class=\"sk-serial\"><div class=\"sk-item\"><div class=\"sk-serial\"><div class=\"sk-item\"><div class=\"sk-estimator sk-toggleable\"><input class=\"sk-toggleable__control sk-hidden--visually\" id=\"sk-estimator-id-62\" type=\"checkbox\" ><label for=\"sk-estimator-id-62\" class=\"sk-toggleable__label sk-toggleable__label-arrow\">OneHotEncoder</label><div class=\"sk-toggleable__content\"><pre>OneHotEncoder(sparse_output=False)</pre></div></div></div></div></div></div></div></div></div></div><div class=\"sk-item\"><div class=\"sk-estimator sk-toggleable\"><input class=\"sk-toggleable__control sk-hidden--visually\" id=\"sk-estimator-id-63\" type=\"checkbox\" ><label for=\"sk-estimator-id-63\" class=\"sk-toggleable__label sk-toggleable__label-arrow\">GradientBoostingClassifier</label><div class=\"sk-toggleable__content\"><pre>GradientBoostingClassifier(random_state=0)</pre></div></div></div></div></div></div></div></div></div></div></div></div>"
      ],
      "text/plain": [
       "GridSearchCV(cv=5,\n",
       "             estimator=Pipeline(steps=[('preprocess',\n",
       "                                        ColumnTransformer(transformers=[('numeric',\n",
       "                                                                         Pipeline(steps=[('impute',\n",
       "                                                                                          SimpleImputer(strategy='median')),\n",
       "                                                                                         ('normalize',\n",
       "                                                                                          MinMaxScaler())]),\n",
       "                                                                         ['victim_age',\n",
       "                                                                          'lat',\n",
       "                                                                          'lon',\n",
       "                                                                          'delta_days']),\n",
       "                                                                        ('onehot',\n",
       "                                                                         Pipeline(steps=[('onehot',\n",
       "                                                                                          OneHotEncoder(sparse_output=False))]),\n",
       "                                                                         ['victim_race',\n",
       "                                                                          'victim_sex',\n",
       "                                                                          'month',\n",
       "                                                                          'weekday'])])),\n",
       "                                       ('train',\n",
       "                                        GradientBoostingClassifier(random_state=0))]),\n",
       "             param_grid=[{'train__learning_rate': [0.1, 0.5, 2],\n",
       "                          'train__n_estimators': [50, 100, 200]}],\n",
       "             scoring='f1_weighted')"
      ]
     },
     "execution_count": 88,
     "metadata": {},
     "output_type": "execute_result"
    }
   ],
   "source": [
    "%%time\n",
    "gbc_grid_search = GridSearchCV(gradient_boosting_classifier, gbc_params, cv=5, scoring=\"f1_weighted\")\n",
    "gbc_grid_search.fit(X_train, y_train)"
   ]
  },
  {
   "cell_type": "code",
   "execution_count": 89,
   "id": "f5028f09-1a19-4097-8cc9-188e4776ceb8",
   "metadata": {
    "tags": []
   },
   "outputs": [
    {
     "name": "stdout",
     "output_type": "stream",
     "text": [
      "{'train__learning_rate': 0.5, 'train__n_estimators': 50}\n",
      "0.5860499159077662\n"
     ]
    }
   ],
   "source": [
    "print(gbc_grid_search.best_params_)\n",
    "print(gbc_grid_search.best_score_)"
   ]
  },
  {
   "cell_type": "markdown",
   "id": "8bbb691d-3d2c-40c7-b4d5-0780d4231354",
   "metadata": {},
   "source": [
    "### Apply best parameters"
   ]
  },
  {
   "cell_type": "code",
   "execution_count": 92,
   "id": "9f9ef6da-811e-4e1e-af1b-37dfce0d7e92",
   "metadata": {
    "tags": []
   },
   "outputs": [],
   "source": [
    "decision_tree_classifier_tuned = Pipeline([\n",
    "    (\"preprocess\", preprocessing),\n",
    "    (\"train\", DecisionTreeClassifier(random_state=0, criterion=\"entropy\", min_samples_split=370))\n",
    "])\n",
    "\n",
    "random_forest_classifier_tuned = Pipeline([\n",
    "    (\"preprocess\", preprocessing),\n",
    "    (\"train\", RandomForestClassifier(random_state=0, criterion=\"entropy\"))\n",
    "])\n",
    "\n",
    "bagging_classifier_tuned = Pipeline([\n",
    "    (\"preprocess\", preprocessing),\n",
    "    (\"train\", BaggingClassifier(random_state=0, n_estimators=100))\n",
    "])\n",
    "\n",
    "ada_boost_classifier_tuned = Pipeline([\n",
    "    (\"preprocess\", preprocessing),\n",
    "    (\"train\", AdaBoostClassifier(random_state=0, n_estimators=500))\n",
    "])\n",
    "\n",
    "gradient_boosting_classifier_tuned = Pipeline([\n",
    "    (\"preprocess\", preprocessing),\n",
    "    (\"train\", GradientBoostingClassifier(random_state=0, n_estimators=100, learning_rate=0.1))\n",
    "])"
   ]
  },
  {
   "cell_type": "code",
   "execution_count": 94,
   "id": "67fe2ace-5491-45ec-9c94-85cc9afd94a5",
   "metadata": {
    "tags": []
   },
   "outputs": [
    {
     "name": "stdout",
     "output_type": "stream",
     "text": [
      "CPU times: total: 2.72 s\n",
      "Wall time: 2.81 s\n"
     ]
    },
    {
     "data": {
      "text/html": [
       "<div>\n",
       "<style scoped>\n",
       "    .dataframe tbody tr th:only-of-type {\n",
       "        vertical-align: middle;\n",
       "    }\n",
       "\n",
       "    .dataframe tbody tr th {\n",
       "        vertical-align: top;\n",
       "    }\n",
       "\n",
       "    .dataframe thead th {\n",
       "        text-align: right;\n",
       "    }\n",
       "</style>\n",
       "<table border=\"1\" class=\"dataframe\">\n",
       "  <thead>\n",
       "    <tr style=\"text-align: right;\">\n",
       "      <th></th>\n",
       "      <th>Precision (Weighted)</th>\n",
       "      <th>Recall (Weighted)</th>\n",
       "      <th>F1 (Weighted)</th>\n",
       "    </tr>\n",
       "  </thead>\n",
       "  <tbody>\n",
       "    <tr>\n",
       "      <th>count</th>\n",
       "      <td>5.000000</td>\n",
       "      <td>5.000000</td>\n",
       "      <td>5.000000</td>\n",
       "    </tr>\n",
       "    <tr>\n",
       "      <th>mean</th>\n",
       "      <td>0.579599</td>\n",
       "      <td>0.589416</td>\n",
       "      <td>0.572786</td>\n",
       "    </tr>\n",
       "    <tr>\n",
       "      <th>std</th>\n",
       "      <td>0.026223</td>\n",
       "      <td>0.006402</td>\n",
       "      <td>0.007440</td>\n",
       "    </tr>\n",
       "    <tr>\n",
       "      <th>min</th>\n",
       "      <td>0.552322</td>\n",
       "      <td>0.580738</td>\n",
       "      <td>0.562711</td>\n",
       "    </tr>\n",
       "    <tr>\n",
       "      <th>25%</th>\n",
       "      <td>0.555418</td>\n",
       "      <td>0.584621</td>\n",
       "      <td>0.567098</td>\n",
       "    </tr>\n",
       "    <tr>\n",
       "      <th>50%</th>\n",
       "      <td>0.584003</td>\n",
       "      <td>0.592956</td>\n",
       "      <td>0.576840</td>\n",
       "    </tr>\n",
       "    <tr>\n",
       "      <th>75%</th>\n",
       "      <td>0.590967</td>\n",
       "      <td>0.593005</td>\n",
       "      <td>0.577512</td>\n",
       "    </tr>\n",
       "    <tr>\n",
       "      <th>max</th>\n",
       "      <td>0.615283</td>\n",
       "      <td>0.595760</td>\n",
       "      <td>0.579770</td>\n",
       "    </tr>\n",
       "  </tbody>\n",
       "</table>\n",
       "</div>"
      ],
      "text/plain": [
       "       Precision (Weighted)  Recall (Weighted)  F1 (Weighted)\n",
       "count              5.000000           5.000000       5.000000\n",
       "mean               0.579599           0.589416       0.572786\n",
       "std                0.026223           0.006402       0.007440\n",
       "min                0.552322           0.580738       0.562711\n",
       "25%                0.555418           0.584621       0.567098\n",
       "50%                0.584003           0.592956       0.576840\n",
       "75%                0.590967           0.593005       0.577512\n",
       "max                0.615283           0.595760       0.579770"
      ]
     },
     "execution_count": 94,
     "metadata": {},
     "output_type": "execute_result"
    }
   ],
   "source": [
    "%%time\n",
    "dtc_tuned_scores = skfcv(decision_tree_classifier_tuned)\n",
    "dtc_tuned_scores.describe()"
   ]
  },
  {
   "cell_type": "code",
   "execution_count": 95,
   "id": "c4fa8ecf-1f76-45af-afe6-4fa344606f80",
   "metadata": {
    "tags": []
   },
   "outputs": [
    {
     "name": "stdout",
     "output_type": "stream",
     "text": [
      "CPU times: total: 45.3 s\n",
      "Wall time: 47.8 s\n"
     ]
    },
    {
     "data": {
      "text/html": [
       "<div>\n",
       "<style scoped>\n",
       "    .dataframe tbody tr th:only-of-type {\n",
       "        vertical-align: middle;\n",
       "    }\n",
       "\n",
       "    .dataframe tbody tr th {\n",
       "        vertical-align: top;\n",
       "    }\n",
       "\n",
       "    .dataframe thead th {\n",
       "        text-align: right;\n",
       "    }\n",
       "</style>\n",
       "<table border=\"1\" class=\"dataframe\">\n",
       "  <thead>\n",
       "    <tr style=\"text-align: right;\">\n",
       "      <th></th>\n",
       "      <th>Precision (Weighted)</th>\n",
       "      <th>Recall (Weighted)</th>\n",
       "      <th>F1 (Weighted)</th>\n",
       "    </tr>\n",
       "  </thead>\n",
       "  <tbody>\n",
       "    <tr>\n",
       "      <th>count</th>\n",
       "      <td>5.000000</td>\n",
       "      <td>5.000000</td>\n",
       "      <td>5.000000</td>\n",
       "    </tr>\n",
       "    <tr>\n",
       "      <th>mean</th>\n",
       "      <td>0.587889</td>\n",
       "      <td>0.589871</td>\n",
       "      <td>0.577661</td>\n",
       "    </tr>\n",
       "    <tr>\n",
       "      <th>std</th>\n",
       "      <td>0.002595</td>\n",
       "      <td>0.003170</td>\n",
       "      <td>0.002752</td>\n",
       "    </tr>\n",
       "    <tr>\n",
       "      <th>min</th>\n",
       "      <td>0.585176</td>\n",
       "      <td>0.586248</td>\n",
       "      <td>0.575166</td>\n",
       "    </tr>\n",
       "    <tr>\n",
       "      <th>25%</th>\n",
       "      <td>0.586083</td>\n",
       "      <td>0.587087</td>\n",
       "      <td>0.575507</td>\n",
       "    </tr>\n",
       "    <tr>\n",
       "      <th>50%</th>\n",
       "      <td>0.587823</td>\n",
       "      <td>0.590131</td>\n",
       "      <td>0.576360</td>\n",
       "    </tr>\n",
       "    <tr>\n",
       "      <th>75%</th>\n",
       "      <td>0.588478</td>\n",
       "      <td>0.592526</td>\n",
       "      <td>0.580491</td>\n",
       "    </tr>\n",
       "    <tr>\n",
       "      <th>max</th>\n",
       "      <td>0.591884</td>\n",
       "      <td>0.593364</td>\n",
       "      <td>0.580780</td>\n",
       "    </tr>\n",
       "  </tbody>\n",
       "</table>\n",
       "</div>"
      ],
      "text/plain": [
       "       Precision (Weighted)  Recall (Weighted)  F1 (Weighted)\n",
       "count              5.000000           5.000000       5.000000\n",
       "mean               0.587889           0.589871       0.577661\n",
       "std                0.002595           0.003170       0.002752\n",
       "min                0.585176           0.586248       0.575166\n",
       "25%                0.586083           0.587087       0.575507\n",
       "50%                0.587823           0.590131       0.576360\n",
       "75%                0.588478           0.592526       0.580491\n",
       "max                0.591884           0.593364       0.580780"
      ]
     },
     "execution_count": 95,
     "metadata": {},
     "output_type": "execute_result"
    }
   ],
   "source": [
    "%%time\n",
    "rfc_tuned_scores = skfcv(random_forest_classifier_tuned)\n",
    "rfc_tuned_scores.describe()"
   ]
  },
  {
   "cell_type": "code",
   "execution_count": 99,
   "id": "1e56bfe6-438d-4f4d-9479-49cdc05226d0",
   "metadata": {
    "tags": []
   },
   "outputs": [
    {
     "name": "stdout",
     "output_type": "stream",
     "text": [
      "CPU times: total: 2min 25s\n",
      "Wall time: 2min 38s\n"
     ]
    },
    {
     "data": {
      "text/html": [
       "<div>\n",
       "<style scoped>\n",
       "    .dataframe tbody tr th:only-of-type {\n",
       "        vertical-align: middle;\n",
       "    }\n",
       "\n",
       "    .dataframe tbody tr th {\n",
       "        vertical-align: top;\n",
       "    }\n",
       "\n",
       "    .dataframe thead th {\n",
       "        text-align: right;\n",
       "    }\n",
       "</style>\n",
       "<table border=\"1\" class=\"dataframe\">\n",
       "  <thead>\n",
       "    <tr style=\"text-align: right;\">\n",
       "      <th></th>\n",
       "      <th>Precision (Weighted)</th>\n",
       "      <th>Recall (Weighted)</th>\n",
       "      <th>F1 (Weighted)</th>\n",
       "    </tr>\n",
       "  </thead>\n",
       "  <tbody>\n",
       "    <tr>\n",
       "      <th>count</th>\n",
       "      <td>5.000000</td>\n",
       "      <td>5.000000</td>\n",
       "      <td>5.000000</td>\n",
       "    </tr>\n",
       "    <tr>\n",
       "      <th>mean</th>\n",
       "      <td>0.591535</td>\n",
       "      <td>0.594567</td>\n",
       "      <td>0.582882</td>\n",
       "    </tr>\n",
       "    <tr>\n",
       "      <th>std</th>\n",
       "      <td>0.008524</td>\n",
       "      <td>0.007910</td>\n",
       "      <td>0.007714</td>\n",
       "    </tr>\n",
       "    <tr>\n",
       "      <th>min</th>\n",
       "      <td>0.579680</td>\n",
       "      <td>0.583184</td>\n",
       "      <td>0.571283</td>\n",
       "    </tr>\n",
       "    <tr>\n",
       "      <th>25%</th>\n",
       "      <td>0.588575</td>\n",
       "      <td>0.592597</td>\n",
       "      <td>0.581958</td>\n",
       "    </tr>\n",
       "    <tr>\n",
       "      <th>50%</th>\n",
       "      <td>0.593066</td>\n",
       "      <td>0.593555</td>\n",
       "      <td>0.582228</td>\n",
       "    </tr>\n",
       "    <tr>\n",
       "      <th>75%</th>\n",
       "      <td>0.593139</td>\n",
       "      <td>0.599233</td>\n",
       "      <td>0.586693</td>\n",
       "    </tr>\n",
       "    <tr>\n",
       "      <th>max</th>\n",
       "      <td>0.603216</td>\n",
       "      <td>0.604264</td>\n",
       "      <td>0.592248</td>\n",
       "    </tr>\n",
       "  </tbody>\n",
       "</table>\n",
       "</div>"
      ],
      "text/plain": [
       "       Precision (Weighted)  Recall (Weighted)  F1 (Weighted)\n",
       "count              5.000000           5.000000       5.000000\n",
       "mean               0.591535           0.594567       0.582882\n",
       "std                0.008524           0.007910       0.007714\n",
       "min                0.579680           0.583184       0.571283\n",
       "25%                0.588575           0.592597       0.581958\n",
       "50%                0.593066           0.593555       0.582228\n",
       "75%                0.593139           0.599233       0.586693\n",
       "max                0.603216           0.604264       0.592248"
      ]
     },
     "execution_count": 99,
     "metadata": {},
     "output_type": "execute_result"
    }
   ],
   "source": [
    "%%time\n",
    "bc_tuned_scores = skfcv(bagging_classifier_tuned)\n",
    "bc_tuned_scores.describe()"
   ]
  },
  {
   "cell_type": "code",
   "execution_count": 100,
   "id": "37d22d19-9529-4da3-808f-8eae832ec770",
   "metadata": {
    "tags": []
   },
   "outputs": [
    {
     "name": "stdout",
     "output_type": "stream",
     "text": [
      "CPU times: total: 2min 32s\n",
      "Wall time: 2min 41s\n"
     ]
    },
    {
     "data": {
      "text/html": [
       "<div>\n",
       "<style scoped>\n",
       "    .dataframe tbody tr th:only-of-type {\n",
       "        vertical-align: middle;\n",
       "    }\n",
       "\n",
       "    .dataframe tbody tr th {\n",
       "        vertical-align: top;\n",
       "    }\n",
       "\n",
       "    .dataframe thead th {\n",
       "        text-align: right;\n",
       "    }\n",
       "</style>\n",
       "<table border=\"1\" class=\"dataframe\">\n",
       "  <thead>\n",
       "    <tr style=\"text-align: right;\">\n",
       "      <th></th>\n",
       "      <th>Precision (Weighted)</th>\n",
       "      <th>Recall (Weighted)</th>\n",
       "      <th>F1 (Weighted)</th>\n",
       "    </tr>\n",
       "  </thead>\n",
       "  <tbody>\n",
       "    <tr>\n",
       "      <th>count</th>\n",
       "      <td>5.000000</td>\n",
       "      <td>5.000000</td>\n",
       "      <td>5.000000</td>\n",
       "    </tr>\n",
       "    <tr>\n",
       "      <th>mean</th>\n",
       "      <td>0.597904</td>\n",
       "      <td>0.593848</td>\n",
       "      <td>0.576431</td>\n",
       "    </tr>\n",
       "    <tr>\n",
       "      <th>std</th>\n",
       "      <td>0.009319</td>\n",
       "      <td>0.005203</td>\n",
       "      <td>0.005607</td>\n",
       "    </tr>\n",
       "    <tr>\n",
       "      <th>min</th>\n",
       "      <td>0.582791</td>\n",
       "      <td>0.587207</td>\n",
       "      <td>0.570826</td>\n",
       "    </tr>\n",
       "    <tr>\n",
       "      <th>25%</th>\n",
       "      <td>0.596323</td>\n",
       "      <td>0.589532</td>\n",
       "      <td>0.570852</td>\n",
       "    </tr>\n",
       "    <tr>\n",
       "      <th>50%</th>\n",
       "      <td>0.601209</td>\n",
       "      <td>0.595760</td>\n",
       "      <td>0.576619</td>\n",
       "    </tr>\n",
       "    <tr>\n",
       "      <th>75%</th>\n",
       "      <td>0.601779</td>\n",
       "      <td>0.597676</td>\n",
       "      <td>0.580760</td>\n",
       "    </tr>\n",
       "    <tr>\n",
       "      <th>max</th>\n",
       "      <td>0.607418</td>\n",
       "      <td>0.599066</td>\n",
       "      <td>0.583099</td>\n",
       "    </tr>\n",
       "  </tbody>\n",
       "</table>\n",
       "</div>"
      ],
      "text/plain": [
       "       Precision (Weighted)  Recall (Weighted)  F1 (Weighted)\n",
       "count              5.000000           5.000000       5.000000\n",
       "mean               0.597904           0.593848       0.576431\n",
       "std                0.009319           0.005203       0.005607\n",
       "min                0.582791           0.587207       0.570826\n",
       "25%                0.596323           0.589532       0.570852\n",
       "50%                0.601209           0.595760       0.576619\n",
       "75%                0.601779           0.597676       0.580760\n",
       "max                0.607418           0.599066       0.583099"
      ]
     },
     "execution_count": 100,
     "metadata": {},
     "output_type": "execute_result"
    }
   ],
   "source": [
    "%%time\n",
    "abc_tuned_scores = skfcv(ada_boost_classifier_tuned)\n",
    "abc_tuned_scores.describe()"
   ]
  },
  {
   "cell_type": "code",
   "execution_count": 101,
   "id": "760a3700-b6a0-45c1-ac40-052f6d44bc1c",
   "metadata": {
    "tags": []
   },
   "outputs": [
    {
     "name": "stdout",
     "output_type": "stream",
     "text": [
      "CPU times: total: 1min 41s\n",
      "Wall time: 1min 48s\n"
     ]
    },
    {
     "data": {
      "text/html": [
       "<div>\n",
       "<style scoped>\n",
       "    .dataframe tbody tr th:only-of-type {\n",
       "        vertical-align: middle;\n",
       "    }\n",
       "\n",
       "    .dataframe tbody tr th {\n",
       "        vertical-align: top;\n",
       "    }\n",
       "\n",
       "    .dataframe thead th {\n",
       "        text-align: right;\n",
       "    }\n",
       "</style>\n",
       "<table border=\"1\" class=\"dataframe\">\n",
       "  <thead>\n",
       "    <tr style=\"text-align: right;\">\n",
       "      <th></th>\n",
       "      <th>Precision (Weighted)</th>\n",
       "      <th>Recall (Weighted)</th>\n",
       "      <th>F1 (Weighted)</th>\n",
       "    </tr>\n",
       "  </thead>\n",
       "  <tbody>\n",
       "    <tr>\n",
       "      <th>count</th>\n",
       "      <td>5.000000</td>\n",
       "      <td>5.000000</td>\n",
       "      <td>5.000000</td>\n",
       "    </tr>\n",
       "    <tr>\n",
       "      <th>mean</th>\n",
       "      <td>0.610068</td>\n",
       "      <td>0.601729</td>\n",
       "      <td>0.584578</td>\n",
       "    </tr>\n",
       "    <tr>\n",
       "      <th>std</th>\n",
       "      <td>0.012758</td>\n",
       "      <td>0.007971</td>\n",
       "      <td>0.007768</td>\n",
       "    </tr>\n",
       "    <tr>\n",
       "      <th>min</th>\n",
       "      <td>0.593310</td>\n",
       "      <td>0.591279</td>\n",
       "      <td>0.575015</td>\n",
       "    </tr>\n",
       "    <tr>\n",
       "      <th>25%</th>\n",
       "      <td>0.604301</td>\n",
       "      <td>0.595520</td>\n",
       "      <td>0.577582</td>\n",
       "    </tr>\n",
       "    <tr>\n",
       "      <th>50%</th>\n",
       "      <td>0.610737</td>\n",
       "      <td>0.604935</td>\n",
       "      <td>0.587969</td>\n",
       "    </tr>\n",
       "    <tr>\n",
       "      <th>75%</th>\n",
       "      <td>0.614005</td>\n",
       "      <td>0.606779</td>\n",
       "      <td>0.589977</td>\n",
       "    </tr>\n",
       "    <tr>\n",
       "      <th>max</th>\n",
       "      <td>0.627985</td>\n",
       "      <td>0.610133</td>\n",
       "      <td>0.592345</td>\n",
       "    </tr>\n",
       "  </tbody>\n",
       "</table>\n",
       "</div>"
      ],
      "text/plain": [
       "       Precision (Weighted)  Recall (Weighted)  F1 (Weighted)\n",
       "count              5.000000           5.000000       5.000000\n",
       "mean               0.610068           0.601729       0.584578\n",
       "std                0.012758           0.007971       0.007768\n",
       "min                0.593310           0.591279       0.575015\n",
       "25%                0.604301           0.595520       0.577582\n",
       "50%                0.610737           0.604935       0.587969\n",
       "75%                0.614005           0.606779       0.589977\n",
       "max                0.627985           0.610133       0.592345"
      ]
     },
     "execution_count": 101,
     "metadata": {},
     "output_type": "execute_result"
    }
   ],
   "source": [
    "%%time\n",
    "gbc_tuned_scores = skfcv(gradient_boosting_classifier_tuned)\n",
    "gbc_tuned_scores.describe()"
   ]
  },
  {
   "cell_type": "markdown",
   "id": "5ab74ff8-4da6-4451-bace-fb93ff5ca9fc",
   "metadata": {},
   "source": [
    "## Select a model and predict labels using the test set"
   ]
  },
  {
   "cell_type": "markdown",
   "id": "1d54288e-d0b8-420d-add6-7e69bef94329",
   "metadata": {},
   "source": [
    "### Prepare test data"
   ]
  },
  {
   "cell_type": "code",
   "execution_count": 102,
   "id": "ae6a5c97-5194-4988-a050-09bd8907fb4d",
   "metadata": {
    "tags": []
   },
   "outputs": [],
   "source": [
    "test_set_transformed = transform_dataframe(test_set)"
   ]
  },
  {
   "cell_type": "code",
   "execution_count": 103,
   "id": "9a5c1366-f0f7-433c-9fbb-9f8aafd15902",
   "metadata": {
    "tags": []
   },
   "outputs": [],
   "source": [
    "X_test = test_set_transformed.drop([\"disposition\"], axis = 1)"
   ]
  },
  {
   "cell_type": "code",
   "execution_count": 104,
   "id": "87db96f1-8df7-460a-ba47-675e35d2d071",
   "metadata": {
    "tags": []
   },
   "outputs": [],
   "source": [
    "y_test = test_set_transformed[\"disposition\"]"
   ]
  },
  {
   "cell_type": "markdown",
   "id": "1cb4c490-a836-493f-bfc2-e28f0ac26d87",
   "metadata": {},
   "source": [
    "### Fit models"
   ]
  },
  {
   "cell_type": "code",
   "execution_count": 105,
   "id": "b2a87646-c0a5-4f06-a2a6-3a456f53a0ca",
   "metadata": {
    "tags": []
   },
   "outputs": [
    {
     "data": {
      "text/html": [
       "<style>#sk-container-id-8 {color: black;background-color: white;}#sk-container-id-8 pre{padding: 0;}#sk-container-id-8 div.sk-toggleable {background-color: white;}#sk-container-id-8 label.sk-toggleable__label {cursor: pointer;display: block;width: 100%;margin-bottom: 0;padding: 0.3em;box-sizing: border-box;text-align: center;}#sk-container-id-8 label.sk-toggleable__label-arrow:before {content: \"▸\";float: left;margin-right: 0.25em;color: #696969;}#sk-container-id-8 label.sk-toggleable__label-arrow:hover:before {color: black;}#sk-container-id-8 div.sk-estimator:hover label.sk-toggleable__label-arrow:before {color: black;}#sk-container-id-8 div.sk-toggleable__content {max-height: 0;max-width: 0;overflow: hidden;text-align: left;background-color: #f0f8ff;}#sk-container-id-8 div.sk-toggleable__content pre {margin: 0.2em;color: black;border-radius: 0.25em;background-color: #f0f8ff;}#sk-container-id-8 input.sk-toggleable__control:checked~div.sk-toggleable__content {max-height: 200px;max-width: 100%;overflow: auto;}#sk-container-id-8 input.sk-toggleable__control:checked~label.sk-toggleable__label-arrow:before {content: \"▾\";}#sk-container-id-8 div.sk-estimator input.sk-toggleable__control:checked~label.sk-toggleable__label {background-color: #d4ebff;}#sk-container-id-8 div.sk-label input.sk-toggleable__control:checked~label.sk-toggleable__label {background-color: #d4ebff;}#sk-container-id-8 input.sk-hidden--visually {border: 0;clip: rect(1px 1px 1px 1px);clip: rect(1px, 1px, 1px, 1px);height: 1px;margin: -1px;overflow: hidden;padding: 0;position: absolute;width: 1px;}#sk-container-id-8 div.sk-estimator {font-family: monospace;background-color: #f0f8ff;border: 1px dotted black;border-radius: 0.25em;box-sizing: border-box;margin-bottom: 0.5em;}#sk-container-id-8 div.sk-estimator:hover {background-color: #d4ebff;}#sk-container-id-8 div.sk-parallel-item::after {content: \"\";width: 100%;border-bottom: 1px solid gray;flex-grow: 1;}#sk-container-id-8 div.sk-label:hover label.sk-toggleable__label {background-color: #d4ebff;}#sk-container-id-8 div.sk-serial::before {content: \"\";position: absolute;border-left: 1px solid gray;box-sizing: border-box;top: 0;bottom: 0;left: 50%;z-index: 0;}#sk-container-id-8 div.sk-serial {display: flex;flex-direction: column;align-items: center;background-color: white;padding-right: 0.2em;padding-left: 0.2em;position: relative;}#sk-container-id-8 div.sk-item {position: relative;z-index: 1;}#sk-container-id-8 div.sk-parallel {display: flex;align-items: stretch;justify-content: center;background-color: white;position: relative;}#sk-container-id-8 div.sk-item::before, #sk-container-id-8 div.sk-parallel-item::before {content: \"\";position: absolute;border-left: 1px solid gray;box-sizing: border-box;top: 0;bottom: 0;left: 50%;z-index: -1;}#sk-container-id-8 div.sk-parallel-item {display: flex;flex-direction: column;z-index: 1;position: relative;background-color: white;}#sk-container-id-8 div.sk-parallel-item:first-child::after {align-self: flex-end;width: 50%;}#sk-container-id-8 div.sk-parallel-item:last-child::after {align-self: flex-start;width: 50%;}#sk-container-id-8 div.sk-parallel-item:only-child::after {width: 0;}#sk-container-id-8 div.sk-dashed-wrapped {border: 1px dashed gray;margin: 0 0.4em 0.5em 0.4em;box-sizing: border-box;padding-bottom: 0.4em;background-color: white;}#sk-container-id-8 div.sk-label label {font-family: monospace;font-weight: bold;display: inline-block;line-height: 1.2em;}#sk-container-id-8 div.sk-label-container {text-align: center;}#sk-container-id-8 div.sk-container {/* jupyter's `normalize.less` sets `[hidden] { display: none; }` but bootstrap.min.css set `[hidden] { display: none !important; }` so we also need the `!important` here to be able to override the default hidden behavior on the sphinx rendered scikit-learn.org. See: https://github.com/scikit-learn/scikit-learn/issues/21755 */display: inline-block !important;position: relative;}#sk-container-id-8 div.sk-text-repr-fallback {display: none;}</style><div id=\"sk-container-id-8\" class=\"sk-top-container\"><div class=\"sk-text-repr-fallback\"><pre>Pipeline(steps=[(&#x27;preprocess&#x27;,\n",
       "                 ColumnTransformer(transformers=[(&#x27;numeric&#x27;,\n",
       "                                                  Pipeline(steps=[(&#x27;impute&#x27;,\n",
       "                                                                   SimpleImputer(strategy=&#x27;median&#x27;)),\n",
       "                                                                  (&#x27;normalize&#x27;,\n",
       "                                                                   MinMaxScaler())]),\n",
       "                                                  [&#x27;victim_age&#x27;, &#x27;lat&#x27;, &#x27;lon&#x27;,\n",
       "                                                   &#x27;delta_days&#x27;]),\n",
       "                                                 (&#x27;onehot&#x27;,\n",
       "                                                  Pipeline(steps=[(&#x27;onehot&#x27;,\n",
       "                                                                   OneHotEncoder(sparse_output=False))]),\n",
       "                                                  [&#x27;victim_race&#x27;, &#x27;victim_sex&#x27;,\n",
       "                                                   &#x27;month&#x27;, &#x27;weekday&#x27;])])),\n",
       "                (&#x27;train&#x27;, GradientBoostingClassifier(random_state=0))])</pre><b>In a Jupyter environment, please rerun this cell to show the HTML representation or trust the notebook. <br />On GitHub, the HTML representation is unable to render, please try loading this page with nbviewer.org.</b></div><div class=\"sk-container\" hidden><div class=\"sk-item sk-dashed-wrapped\"><div class=\"sk-label-container\"><div class=\"sk-label sk-toggleable\"><input class=\"sk-toggleable__control sk-hidden--visually\" id=\"sk-estimator-id-64\" type=\"checkbox\" ><label for=\"sk-estimator-id-64\" class=\"sk-toggleable__label sk-toggleable__label-arrow\">Pipeline</label><div class=\"sk-toggleable__content\"><pre>Pipeline(steps=[(&#x27;preprocess&#x27;,\n",
       "                 ColumnTransformer(transformers=[(&#x27;numeric&#x27;,\n",
       "                                                  Pipeline(steps=[(&#x27;impute&#x27;,\n",
       "                                                                   SimpleImputer(strategy=&#x27;median&#x27;)),\n",
       "                                                                  (&#x27;normalize&#x27;,\n",
       "                                                                   MinMaxScaler())]),\n",
       "                                                  [&#x27;victim_age&#x27;, &#x27;lat&#x27;, &#x27;lon&#x27;,\n",
       "                                                   &#x27;delta_days&#x27;]),\n",
       "                                                 (&#x27;onehot&#x27;,\n",
       "                                                  Pipeline(steps=[(&#x27;onehot&#x27;,\n",
       "                                                                   OneHotEncoder(sparse_output=False))]),\n",
       "                                                  [&#x27;victim_race&#x27;, &#x27;victim_sex&#x27;,\n",
       "                                                   &#x27;month&#x27;, &#x27;weekday&#x27;])])),\n",
       "                (&#x27;train&#x27;, GradientBoostingClassifier(random_state=0))])</pre></div></div></div><div class=\"sk-serial\"><div class=\"sk-item sk-dashed-wrapped\"><div class=\"sk-label-container\"><div class=\"sk-label sk-toggleable\"><input class=\"sk-toggleable__control sk-hidden--visually\" id=\"sk-estimator-id-65\" type=\"checkbox\" ><label for=\"sk-estimator-id-65\" class=\"sk-toggleable__label sk-toggleable__label-arrow\">preprocess: ColumnTransformer</label><div class=\"sk-toggleable__content\"><pre>ColumnTransformer(transformers=[(&#x27;numeric&#x27;,\n",
       "                                 Pipeline(steps=[(&#x27;impute&#x27;,\n",
       "                                                  SimpleImputer(strategy=&#x27;median&#x27;)),\n",
       "                                                 (&#x27;normalize&#x27;,\n",
       "                                                  MinMaxScaler())]),\n",
       "                                 [&#x27;victim_age&#x27;, &#x27;lat&#x27;, &#x27;lon&#x27;, &#x27;delta_days&#x27;]),\n",
       "                                (&#x27;onehot&#x27;,\n",
       "                                 Pipeline(steps=[(&#x27;onehot&#x27;,\n",
       "                                                  OneHotEncoder(sparse_output=False))]),\n",
       "                                 [&#x27;victim_race&#x27;, &#x27;victim_sex&#x27;, &#x27;month&#x27;,\n",
       "                                  &#x27;weekday&#x27;])])</pre></div></div></div><div class=\"sk-parallel\"><div class=\"sk-parallel-item\"><div class=\"sk-item\"><div class=\"sk-label-container\"><div class=\"sk-label sk-toggleable\"><input class=\"sk-toggleable__control sk-hidden--visually\" id=\"sk-estimator-id-66\" type=\"checkbox\" ><label for=\"sk-estimator-id-66\" class=\"sk-toggleable__label sk-toggleable__label-arrow\">numeric</label><div class=\"sk-toggleable__content\"><pre>[&#x27;victim_age&#x27;, &#x27;lat&#x27;, &#x27;lon&#x27;, &#x27;delta_days&#x27;]</pre></div></div></div><div class=\"sk-serial\"><div class=\"sk-item\"><div class=\"sk-serial\"><div class=\"sk-item\"><div class=\"sk-estimator sk-toggleable\"><input class=\"sk-toggleable__control sk-hidden--visually\" id=\"sk-estimator-id-67\" type=\"checkbox\" ><label for=\"sk-estimator-id-67\" class=\"sk-toggleable__label sk-toggleable__label-arrow\">SimpleImputer</label><div class=\"sk-toggleable__content\"><pre>SimpleImputer(strategy=&#x27;median&#x27;)</pre></div></div></div><div class=\"sk-item\"><div class=\"sk-estimator sk-toggleable\"><input class=\"sk-toggleable__control sk-hidden--visually\" id=\"sk-estimator-id-68\" type=\"checkbox\" ><label for=\"sk-estimator-id-68\" class=\"sk-toggleable__label sk-toggleable__label-arrow\">MinMaxScaler</label><div class=\"sk-toggleable__content\"><pre>MinMaxScaler()</pre></div></div></div></div></div></div></div></div><div class=\"sk-parallel-item\"><div class=\"sk-item\"><div class=\"sk-label-container\"><div class=\"sk-label sk-toggleable\"><input class=\"sk-toggleable__control sk-hidden--visually\" id=\"sk-estimator-id-69\" type=\"checkbox\" ><label for=\"sk-estimator-id-69\" class=\"sk-toggleable__label sk-toggleable__label-arrow\">onehot</label><div class=\"sk-toggleable__content\"><pre>[&#x27;victim_race&#x27;, &#x27;victim_sex&#x27;, &#x27;month&#x27;, &#x27;weekday&#x27;]</pre></div></div></div><div class=\"sk-serial\"><div class=\"sk-item\"><div class=\"sk-serial\"><div class=\"sk-item\"><div class=\"sk-estimator sk-toggleable\"><input class=\"sk-toggleable__control sk-hidden--visually\" id=\"sk-estimator-id-70\" type=\"checkbox\" ><label for=\"sk-estimator-id-70\" class=\"sk-toggleable__label sk-toggleable__label-arrow\">OneHotEncoder</label><div class=\"sk-toggleable__content\"><pre>OneHotEncoder(sparse_output=False)</pre></div></div></div></div></div></div></div></div></div></div><div class=\"sk-item\"><div class=\"sk-estimator sk-toggleable\"><input class=\"sk-toggleable__control sk-hidden--visually\" id=\"sk-estimator-id-71\" type=\"checkbox\" ><label for=\"sk-estimator-id-71\" class=\"sk-toggleable__label sk-toggleable__label-arrow\">GradientBoostingClassifier</label><div class=\"sk-toggleable__content\"><pre>GradientBoostingClassifier(random_state=0)</pre></div></div></div></div></div></div></div>"
      ],
      "text/plain": [
       "Pipeline(steps=[('preprocess',\n",
       "                 ColumnTransformer(transformers=[('numeric',\n",
       "                                                  Pipeline(steps=[('impute',\n",
       "                                                                   SimpleImputer(strategy='median')),\n",
       "                                                                  ('normalize',\n",
       "                                                                   MinMaxScaler())]),\n",
       "                                                  ['victim_age', 'lat', 'lon',\n",
       "                                                   'delta_days']),\n",
       "                                                 ('onehot',\n",
       "                                                  Pipeline(steps=[('onehot',\n",
       "                                                                   OneHotEncoder(sparse_output=False))]),\n",
       "                                                  ['victim_race', 'victim_sex',\n",
       "                                                   'month', 'weekday'])])),\n",
       "                ('train', GradientBoostingClassifier(random_state=0))])"
      ]
     },
     "execution_count": 105,
     "metadata": {},
     "output_type": "execute_result"
    }
   ],
   "source": [
    "decision_tree_classifier_tuned.fit(X_train, y_train)\n",
    "random_forest_classifier_tuned.fit(X_train, y_train)\n",
    "bagging_classifier_tuned.fit(X_train, y_train)\n",
    "ada_boost_classifier_tuned.fit(X_train, y_train)\n",
    "gradient_boosting_classifier_tuned.fit(X_train, y_train)"
   ]
  },
  {
   "cell_type": "markdown",
   "id": "e4ebb340-fa4c-40aa-817a-2e0fc2654892",
   "metadata": {},
   "source": [
    "### Predict"
   ]
  },
  {
   "cell_type": "markdown",
   "id": "d2ee1028-0960-4805-8fce-c6f27e2e0170",
   "metadata": {},
   "source": [
    "The gradient boosting classifier has the highest scores, but the tuned bagging classifier, AdaBoost classifier, and decision tree classifier have similar eprformance and are much, _much_ faster, especially the tuned decision tree classifier."
   ]
  },
  {
   "cell_type": "code",
   "execution_count": 106,
   "id": "e471dfeb-9e6c-4422-a1ce-c27b12b457b9",
   "metadata": {
    "tags": []
   },
   "outputs": [],
   "source": [
    "dtc_predictions = decision_tree_classifier_tuned.predict(X_test)\n",
    "rfc_predictions = random_forest_classifier_tuned.predict(X_test)\n",
    "bc_predictions = bagging_classifier_tuned.predict(X_test)\n",
    "abc_predictions = ada_boost_classifier_tuned.predict(X_test)\n",
    "gbc_predictions = gradient_boosting_classifier_tuned.predict(X_test)"
   ]
  },
  {
   "cell_type": "code",
   "execution_count": 107,
   "id": "a578a62c-7c0d-4c5c-957c-30f68665ce5c",
   "metadata": {
    "tags": []
   },
   "outputs": [],
   "source": [
    "preds = [ dtc_predictions, rfc_predictions, bc_predictions, abc_predictions, gbc_predictions ]\n",
    "accuracy_scores = [ accuracy_score(y_test, pred) for pred in preds ]\n",
    "precision_scores = [ precision_score(y_test, pred, average=\"weighted\") for pred in preds ]\n",
    "recall_scores = [ recall_score(y_test, pred, average=\"weighted\") for pred in preds ]\n",
    "f1_scores = [ f1_score(y_test, pred, average=\"weighted\") for pred in preds ]"
   ]
  },
  {
   "cell_type": "code",
   "execution_count": 110,
   "id": "c5dddeee-64f6-403e-a09d-c86a4835e0bf",
   "metadata": {
    "tags": []
   },
   "outputs": [],
   "source": [
    "metrics_df = pd.DataFrame(data = { \"Accuracy\": accuracy_scores, \"Precision (Weighted)\": precision_scores, \"Recall (Weighted)\": recall_scores, \"F1 (Weighted)\": f1_scores }, index = [ \"dtc\", \"rfc\", \"bc\", \"abc\", \"gbc\" ])"
   ]
  },
  {
   "cell_type": "code",
   "execution_count": 111,
   "id": "077eaa49-671b-4ce6-899c-e652955a52da",
   "metadata": {
    "tags": []
   },
   "outputs": [
    {
     "data": {
      "text/html": [
       "<div>\n",
       "<style scoped>\n",
       "    .dataframe tbody tr th:only-of-type {\n",
       "        vertical-align: middle;\n",
       "    }\n",
       "\n",
       "    .dataframe tbody tr th {\n",
       "        vertical-align: top;\n",
       "    }\n",
       "\n",
       "    .dataframe thead th {\n",
       "        text-align: right;\n",
       "    }\n",
       "</style>\n",
       "<table border=\"1\" class=\"dataframe\">\n",
       "  <thead>\n",
       "    <tr style=\"text-align: right;\">\n",
       "      <th></th>\n",
       "      <th>Accuracy</th>\n",
       "      <th>Precision (Weighted)</th>\n",
       "      <th>Recall (Weighted)</th>\n",
       "      <th>F1 (Weighted)</th>\n",
       "    </tr>\n",
       "  </thead>\n",
       "  <tbody>\n",
       "    <tr>\n",
       "      <th>dtc</th>\n",
       "      <td>0.588635</td>\n",
       "      <td>0.580501</td>\n",
       "      <td>0.588635</td>\n",
       "      <td>0.573259</td>\n",
       "    </tr>\n",
       "    <tr>\n",
       "      <th>rfc</th>\n",
       "      <td>0.598505</td>\n",
       "      <td>0.597911</td>\n",
       "      <td>0.598505</td>\n",
       "      <td>0.586962</td>\n",
       "    </tr>\n",
       "    <tr>\n",
       "      <th>bc</th>\n",
       "      <td>0.600709</td>\n",
       "      <td>0.599166</td>\n",
       "      <td>0.600709</td>\n",
       "      <td>0.588777</td>\n",
       "    </tr>\n",
       "    <tr>\n",
       "      <th>abc</th>\n",
       "      <td>0.596014</td>\n",
       "      <td>0.607804</td>\n",
       "      <td>0.596014</td>\n",
       "      <td>0.579171</td>\n",
       "    </tr>\n",
       "    <tr>\n",
       "      <th>gbc</th>\n",
       "      <td>0.601284</td>\n",
       "      <td>0.606245</td>\n",
       "      <td>0.601284</td>\n",
       "      <td>0.583989</td>\n",
       "    </tr>\n",
       "  </tbody>\n",
       "</table>\n",
       "</div>"
      ],
      "text/plain": [
       "     Accuracy  Precision (Weighted)  Recall (Weighted)  F1 (Weighted)\n",
       "dtc  0.588635              0.580501           0.588635       0.573259\n",
       "rfc  0.598505              0.597911           0.598505       0.586962\n",
       "bc   0.600709              0.599166           0.600709       0.588777\n",
       "abc  0.596014              0.607804           0.596014       0.579171\n",
       "gbc  0.601284              0.606245           0.601284       0.583989"
      ]
     },
     "execution_count": 111,
     "metadata": {},
     "output_type": "execute_result"
    }
   ],
   "source": [
    "metrics_df"
   ]
  },
  {
   "cell_type": "markdown",
   "id": "1c138566-d757-4b69-b825-b5dd89ffdc5f",
   "metadata": {},
   "source": [
    "## Comparison with random choice"
   ]
  },
  {
   "cell_type": "code",
   "execution_count": 112,
   "id": "2d1c7f50-ddae-4ffb-b63e-7cd43d8abe69",
   "metadata": {
    "tags": []
   },
   "outputs": [
    {
     "name": "stdout",
     "output_type": "stream",
     "text": [
      "Category Frequencies:\n",
      "Label: Closed by arrest, Count: 5135, Probability: 0.49\n",
      "Label: Closed without arrest, Count: 584, Probability: 0.06\n",
      "Label: Open/No arrest, Count: 4717, Probability: 0.45\n",
      "Overall Probability of Correct Guess: 0.49\n"
     ]
    }
   ],
   "source": [
    "# Sample dataset with categorical labels (replace with your dataset)\n",
    "labels = y_test\n",
    "\n",
    "# Calculate the frequency of each category\n",
    "unique_labels, label_counts = np.unique(labels, return_counts=True)\n",
    "\n",
    "# Total number of data points\n",
    "total_data_points = len(labels)\n",
    "\n",
    "# Calculate the probability of each category\n",
    "label_probabilities = label_counts / total_data_points\n",
    "\n",
    "# Calculate the overall probability of correctly guessing at random\n",
    "probability_correct_guess = np.max(label_probabilities)\n",
    "\n",
    "print(\"Category Frequencies:\")\n",
    "for label, count, probability in zip(unique_labels, label_counts, label_probabilities):\n",
    "    print(f\"Label: {label}, Count: {count}, Probability: {probability:.2f}\")\n",
    "\n",
    "print(f\"Overall Probability of Correct Guess: {probability_correct_guess:.2f}\")\n"
   ]
  }
 ],
 "metadata": {
  "kernelspec": {
   "display_name": "Python 3 (ipykernel)",
   "language": "python",
   "name": "python3"
  },
  "language_info": {
   "codemirror_mode": {
    "name": "ipython",
    "version": 3
   },
   "file_extension": ".py",
   "mimetype": "text/x-python",
   "name": "python",
   "nbconvert_exporter": "python",
   "pygments_lexer": "ipython3",
   "version": "3.9.17"
  }
 },
 "nbformat": 4,
 "nbformat_minor": 5
}
