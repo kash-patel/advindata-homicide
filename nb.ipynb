{
 "cells": [
  {
   "cell_type": "markdown",
   "id": "c5af9f5a-ae53-45b3-9c4b-128f324aa64b",
   "metadata": {},
   "source": [
    "# Homicide Police Response Prediction"
   ]
  },
  {
   "cell_type": "markdown",
   "id": "b5b2bf06-37a0-4d41-a040-5f2c7759c264",
   "metadata": {},
   "source": [
    "## Imports"
   ]
  },
  {
   "cell_type": "code",
   "execution_count": 1,
   "id": "bb882aae-30f0-4c47-8937-5e4f7dda7fa5",
   "metadata": {
    "tags": []
   },
   "outputs": [
    {
     "name": "stderr",
     "output_type": "stream",
     "text": [
      "Intel(R) Extension for Scikit-learn* enabled (https://github.com/intel/scikit-learn-intelex)\n"
     ]
    }
   ],
   "source": [
    "import utils\n",
    "\n",
    "import numpy as np\n",
    "import pandas as pd\n",
    "import matplotlib.pyplot as plt\n",
    "import seaborn as sns\n",
    "sns.set(style=\"whitegrid\")\n",
    "\n",
    "import sklearn\n",
    "from sklearn.model_selection import train_test_split\n",
    "from sklearn.preprocessing import StandardScaler\n",
    "from sklearn.preprocessing import OneHotEncoder\n",
    "from sklearn.impute import SimpleImputer\n",
    "from sklearn.pipeline import Pipeline\n",
    "from sklearn.compose import ColumnTransformer\n",
    "\n",
    "from sklearnex import patch_sklearn\n",
    "patch_sklearn()"
   ]
  },
  {
   "cell_type": "markdown",
   "id": "ef7b6fce-c121-4337-87dd-1e9eeeb1b234",
   "metadata": {},
   "source": [
    "## Import data"
   ]
  },
  {
   "cell_type": "code",
   "execution_count": 2,
   "id": "e181edcd-d29a-4762-b129-50042e451e16",
   "metadata": {
    "tags": []
   },
   "outputs": [],
   "source": [
    "df = pd.read_excel(\"./data/homicide-data.xlsx\")"
   ]
  },
  {
   "cell_type": "markdown",
   "id": "961fa367-14a7-4872-a20e-610cdcc6972a",
   "metadata": {},
   "source": [
    "## Shuffle and split the data"
   ]
  },
  {
   "cell_type": "code",
   "execution_count": 3,
   "id": "4bf6331a-a8fc-4755-8e10-8cc69d51b76e",
   "metadata": {
    "tags": []
   },
   "outputs": [],
   "source": [
    "train_and_valid_set, test_set = train_test_split(df, test_size = 0.2, random_state = 0)\n",
    "train_set, validation_sat = train_test_split(train_and_valid_set, test_size=0.2, random_state = 0)"
   ]
  },
  {
   "cell_type": "markdown",
   "id": "58fafc52-9de2-497b-9689-b198690cd881",
   "metadata": {},
   "source": [
    "## Exploratory data analysis"
   ]
  },
  {
   "cell_type": "code",
   "execution_count": 4,
   "id": "5e4ccdb1-282b-44f3-b840-7d7152b21fd4",
   "metadata": {
    "tags": []
   },
   "outputs": [
    {
     "data": {
      "text/html": [
       "<div>\n",
       "<style scoped>\n",
       "    .dataframe tbody tr th:only-of-type {\n",
       "        vertical-align: middle;\n",
       "    }\n",
       "\n",
       "    .dataframe tbody tr th {\n",
       "        vertical-align: top;\n",
       "    }\n",
       "\n",
       "    .dataframe thead th {\n",
       "        text-align: right;\n",
       "    }\n",
       "</style>\n",
       "<table border=\"1\" class=\"dataframe\">\n",
       "  <thead>\n",
       "    <tr style=\"text-align: right;\">\n",
       "      <th></th>\n",
       "      <th>uid</th>\n",
       "      <th>reported_date</th>\n",
       "      <th>victim_last</th>\n",
       "      <th>victim_first</th>\n",
       "      <th>victim_race</th>\n",
       "      <th>victim_age</th>\n",
       "      <th>victim_sex</th>\n",
       "      <th>city</th>\n",
       "      <th>state</th>\n",
       "      <th>lat</th>\n",
       "      <th>lon</th>\n",
       "      <th>disposition</th>\n",
       "    </tr>\n",
       "  </thead>\n",
       "  <tbody>\n",
       "    <tr>\n",
       "      <th>17206</th>\n",
       "      <td>Det-000792</td>\n",
       "      <td>20160210</td>\n",
       "      <td>WILLIAMS</td>\n",
       "      <td>JOHNATHON</td>\n",
       "      <td>Black</td>\n",
       "      <td>31</td>\n",
       "      <td>Male</td>\n",
       "      <td>Detroit</td>\n",
       "      <td>MI</td>\n",
       "      <td>42.375325</td>\n",
       "      <td>-83.178332</td>\n",
       "      <td>Closed by arrest</td>\n",
       "    </tr>\n",
       "    <tr>\n",
       "      <th>37226</th>\n",
       "      <td>NO-001269</td>\n",
       "      <td>20161204</td>\n",
       "      <td>SMITH</td>\n",
       "      <td>TYRE</td>\n",
       "      <td>Black</td>\n",
       "      <td>18</td>\n",
       "      <td>Male</td>\n",
       "      <td>New Orleans</td>\n",
       "      <td>LA</td>\n",
       "      <td>29.965034</td>\n",
       "      <td>-90.073101</td>\n",
       "      <td>Open/No arrest</td>\n",
       "    </tr>\n",
       "    <tr>\n",
       "      <th>955</th>\n",
       "      <td>Atl-001333</td>\n",
       "      <td>20130102</td>\n",
       "      <td>EDMONDSON</td>\n",
       "      <td>ELIJAH</td>\n",
       "      <td>White</td>\n",
       "      <td>23</td>\n",
       "      <td>Male</td>\n",
       "      <td>Atlanta</td>\n",
       "      <td>GA</td>\n",
       "      <td>33.761920</td>\n",
       "      <td>-84.416426</td>\n",
       "      <td>Closed by arrest</td>\n",
       "    </tr>\n",
       "    <tr>\n",
       "      <th>44253</th>\n",
       "      <td>Pit-000290</td>\n",
       "      <td>20130811</td>\n",
       "      <td>SMITH</td>\n",
       "      <td>DARREN</td>\n",
       "      <td>Black</td>\n",
       "      <td>34</td>\n",
       "      <td>Male</td>\n",
       "      <td>Pittsburgh</td>\n",
       "      <td>PA</td>\n",
       "      <td>40.417225</td>\n",
       "      <td>-79.999013</td>\n",
       "      <td>Open/No arrest</td>\n",
       "    </tr>\n",
       "    <tr>\n",
       "      <th>13675</th>\n",
       "      <td>Col-000224</td>\n",
       "      <td>20140325</td>\n",
       "      <td>ARMSTRONG</td>\n",
       "      <td>DRESAN</td>\n",
       "      <td>Black</td>\n",
       "      <td>18</td>\n",
       "      <td>Male</td>\n",
       "      <td>Columbus</td>\n",
       "      <td>OH</td>\n",
       "      <td>39.955433</td>\n",
       "      <td>-82.951059</td>\n",
       "      <td>Open/No arrest</td>\n",
       "    </tr>\n",
       "    <tr>\n",
       "      <th>33481</th>\n",
       "      <td>Mia-000540</td>\n",
       "      <td>20140622</td>\n",
       "      <td>GUZMAN</td>\n",
       "      <td>MARTHA</td>\n",
       "      <td>White</td>\n",
       "      <td>11</td>\n",
       "      <td>Female</td>\n",
       "      <td>Miami</td>\n",
       "      <td>FL</td>\n",
       "      <td>25.777260</td>\n",
       "      <td>-80.208623</td>\n",
       "      <td>Closed by arrest</td>\n",
       "    </tr>\n",
       "    <tr>\n",
       "      <th>13356</th>\n",
       "      <td>Cin-001055</td>\n",
       "      <td>20160723</td>\n",
       "      <td>ODNEAL</td>\n",
       "      <td>BOBBIE   III</td>\n",
       "      <td>Black</td>\n",
       "      <td>23</td>\n",
       "      <td>Male</td>\n",
       "      <td>Cincinnati</td>\n",
       "      <td>OH</td>\n",
       "      <td>39.149817</td>\n",
       "      <td>-84.551325</td>\n",
       "      <td>Open/No arrest</td>\n",
       "    </tr>\n",
       "    <tr>\n",
       "      <th>52024</th>\n",
       "      <td>Was-001222</td>\n",
       "      <td>20071109</td>\n",
       "      <td>HENSON</td>\n",
       "      <td>DEANTHONY</td>\n",
       "      <td>Black</td>\n",
       "      <td>20</td>\n",
       "      <td>Male</td>\n",
       "      <td>Washington</td>\n",
       "      <td>DC</td>\n",
       "      <td>38.875051</td>\n",
       "      <td>-77.010441</td>\n",
       "      <td>Closed by arrest</td>\n",
       "    </tr>\n",
       "    <tr>\n",
       "      <th>50257</th>\n",
       "      <td>Tul-000180</td>\n",
       "      <td>20070124</td>\n",
       "      <td>GILBERT</td>\n",
       "      <td>DAVID</td>\n",
       "      <td>White</td>\n",
       "      <td>26</td>\n",
       "      <td>Male</td>\n",
       "      <td>Tulsa</td>\n",
       "      <td>OK</td>\n",
       "      <td>36.165640</td>\n",
       "      <td>-95.971930</td>\n",
       "      <td>Closed by arrest</td>\n",
       "    </tr>\n",
       "    <tr>\n",
       "      <th>22281</th>\n",
       "      <td>Hou-003818</td>\n",
       "      <td>20141208</td>\n",
       "      <td>ROMERO-ALVAREZ</td>\n",
       "      <td>ANGELINA</td>\n",
       "      <td>Hispanic</td>\n",
       "      <td>50</td>\n",
       "      <td>Female</td>\n",
       "      <td>Houston</td>\n",
       "      <td>TX</td>\n",
       "      <td>29.678214</td>\n",
       "      <td>-95.415765</td>\n",
       "      <td>Closed by arrest</td>\n",
       "    </tr>\n",
       "  </tbody>\n",
       "</table>\n",
       "</div>"
      ],
      "text/plain": [
       "              uid  reported_date     victim_last  victim_first victim_race  \\\n",
       "17206  Det-000792       20160210        WILLIAMS     JOHNATHON       Black   \n",
       "37226   NO-001269       20161204           SMITH          TYRE       Black   \n",
       "955    Atl-001333       20130102       EDMONDSON        ELIJAH       White   \n",
       "44253  Pit-000290       20130811           SMITH        DARREN       Black   \n",
       "13675  Col-000224       20140325       ARMSTRONG        DRESAN       Black   \n",
       "33481  Mia-000540       20140622          GUZMAN        MARTHA       White   \n",
       "13356  Cin-001055       20160723          ODNEAL  BOBBIE   III       Black   \n",
       "52024  Was-001222       20071109          HENSON     DEANTHONY       Black   \n",
       "50257  Tul-000180       20070124         GILBERT         DAVID       White   \n",
       "22281  Hou-003818       20141208  ROMERO-ALVAREZ      ANGELINA    Hispanic   \n",
       "\n",
       "      victim_age victim_sex         city state        lat        lon  \\\n",
       "17206         31       Male      Detroit    MI  42.375325 -83.178332   \n",
       "37226         18       Male  New Orleans    LA  29.965034 -90.073101   \n",
       "955           23       Male      Atlanta    GA  33.761920 -84.416426   \n",
       "44253         34       Male   Pittsburgh    PA  40.417225 -79.999013   \n",
       "13675         18       Male     Columbus    OH  39.955433 -82.951059   \n",
       "33481         11     Female        Miami    FL  25.777260 -80.208623   \n",
       "13356         23       Male   Cincinnati    OH  39.149817 -84.551325   \n",
       "52024         20       Male   Washington    DC  38.875051 -77.010441   \n",
       "50257         26       Male        Tulsa    OK  36.165640 -95.971930   \n",
       "22281         50     Female      Houston    TX  29.678214 -95.415765   \n",
       "\n",
       "            disposition  \n",
       "17206  Closed by arrest  \n",
       "37226    Open/No arrest  \n",
       "955    Closed by arrest  \n",
       "44253    Open/No arrest  \n",
       "13675    Open/No arrest  \n",
       "33481  Closed by arrest  \n",
       "13356    Open/No arrest  \n",
       "52024  Closed by arrest  \n",
       "50257  Closed by arrest  \n",
       "22281  Closed by arrest  "
      ]
     },
     "execution_count": 4,
     "metadata": {},
     "output_type": "execute_result"
    }
   ],
   "source": [
    "train_set.sample(10)"
   ]
  },
  {
   "cell_type": "code",
   "execution_count": 5,
   "id": "8dadd0f1-2d51-4e4f-9c37-09fcae8ca57d",
   "metadata": {
    "tags": []
   },
   "outputs": [],
   "source": [
    "utils.transform_data(train_set)"
   ]
  },
  {
   "cell_type": "code",
   "execution_count": 6,
   "id": "04a62763-fd69-491a-bdf1-64c39e3daac5",
   "metadata": {
    "tags": []
   },
   "outputs": [
    {
     "name": "stdout",
     "output_type": "stream",
     "text": [
      "<class 'pandas.core.frame.DataFrame'>\n",
      "Index: 33394 entries, 6163 to 14544\n",
      "Data columns (total 10 columns):\n",
      " #   Column         Non-Null Count  Dtype         \n",
      "---  ------         --------------  -----         \n",
      " 0   reported_date  33394 non-null  datetime64[ns]\n",
      " 1   victim_race    33394 non-null  category      \n",
      " 2   victim_age     33394 non-null  int32         \n",
      " 3   victim_sex     33394 non-null  category      \n",
      " 4   lat            33359 non-null  float64       \n",
      " 5   lon            33359 non-null  float64       \n",
      " 6   disposition    33394 non-null  category      \n",
      " 7   month          33394 non-null  category      \n",
      " 8   weekday        33394 non-null  category      \n",
      " 9   delta_days     33394 non-null  float64       \n",
      "dtypes: category(5), datetime64[ns](1), float64(3), int32(1)\n",
      "memory usage: 1.6 MB\n"
     ]
    }
   ],
   "source": [
    "train_set.info()"
   ]
  },
  {
   "cell_type": "code",
   "execution_count": 7,
   "id": "230b7679-1c69-4398-a7e8-58976230da28",
   "metadata": {
    "tags": []
   },
   "outputs": [
    {
     "data": {
      "text/plain": [
       "<seaborn.axisgrid.FacetGrid at 0x250e20070a0>"
      ]
     },
     "execution_count": 7,
     "metadata": {},
     "output_type": "execute_result"
    },
    {
     "data": {
      "image/png": "[encoded data removed]",
      "text/plain": [
       "<Figure size 500x500 with 1 Axes>"
      ]
     },
     "metadata": {},
     "output_type": "display_data"
    }
   ],
   "source": [
    "sns.displot(data=train_set, x=\"victim_race\", shrink=0.8, alpha=1)"
   ]
  },
  {
   "cell_type": "code",
   "execution_count": 56,
   "id": "351dbf39-6753-4528-bfb4-487a4a92ef1b",
   "metadata": {
    "tags": []
   },
   "outputs": [
    {
     "data": {
      "text/plain": [
       "<seaborn.axisgrid.FacetGrid at 0x250f573c580>"
      ]
     },
     "execution_count": 56,
     "metadata": {},
     "output_type": "execute_result"
    },
    {
     "data": {
      "image/png": "[encoded data removed]",
      "text/plain": [
       "<Figure size 500x500 with 1 Axes>"
      ]
     },
     "metadata": {},
     "output_type": "display_data"
    }
   ],
   "source": [
    "sns.displot(data=train_set, x=\"victim_sex\", shrink=0.8, alpha=1)"
   ]
  },
  {
   "cell_type": "code",
   "execution_count": 61,
   "id": "73aaf691-9d09-43d7-93bf-5fe0cb694297",
   "metadata": {
    "tags": []
   },
   "outputs": [
    {
     "data": {
      "text/plain": [
       "<Axes: >"
      ]
     },
     "execution_count": 61,
     "metadata": {},
     "output_type": "execute_result"
    },
    {
     "data": {
      "image/png": "[encoded data removed]",
      "text/plain": [
       "<Figure size 640x480 with 1 Axes>"
      ]
     },
     "metadata": {},
     "output_type": "display_data"
    }
   ],
   "source": [
    "train_set[\"victim_age\"].hist()"
   ]
  },
  {
   "cell_type": "code",
   "execution_count": 8,
   "id": "f87a3047-4c42-4545-93cd-e5789b7ef15d",
   "metadata": {
    "tags": []
   },
   "outputs": [
    {
     "data": {
      "text/plain": [
       "<seaborn.axisgrid.FacetGrid at 0x250ea043130>"
      ]
     },
     "execution_count": 8,
     "metadata": {},
     "output_type": "execute_result"
    },
    {
     "data": {
      "image/png": "[encoded data removed]",
      "text/plain": [
       "<Figure size 500x500 with 1 Axes>"
      ]
     },
     "metadata": {},
     "output_type": "display_data"
    }
   ],
   "source": [
    "sns.displot(data=train_set, x=\"disposition\", shrink=0.4, alpha=1)"
   ]
  },
  {
   "cell_type": "code",
   "execution_count": 54,
   "id": "a00597be-597e-44bb-bc9f-90dcde30659a",
   "metadata": {
    "tags": []
   },
   "outputs": [
    {
     "data": {
      "text/plain": [
       "<seaborn.axisgrid.FacetGrid at 0x250f55da6b0>"
      ]
     },
     "execution_count": 54,
     "metadata": {},
     "output_type": "execute_result"
    },
    {
     "data": {
      "image/png": "[encoded data removed]",
      "text/plain": [
       "<Figure size 698.625x500 with 1 Axes>"
      ]
     },
     "metadata": {},
     "output_type": "display_data"
    }
   ],
   "source": [
    "sns.relplot(train_set, x=\"lon\", y=\"lat\", alpha=0.5, hue=\"disposition\", linewidth=0, s=10)"
   ]
  },
  {
   "cell_type": "code",
   "execution_count": 10,
   "id": "beb39e2f-9ea3-43a1-9a60-c5e5f948f7aa",
   "metadata": {
    "tags": []
   },
   "outputs": [
    {
     "data": {
      "text/html": [
       "<div>\n",
       "<style scoped>\n",
       "    .dataframe tbody tr th:only-of-type {\n",
       "        vertical-align: middle;\n",
       "    }\n",
       "\n",
       "    .dataframe tbody tr th {\n",
       "        vertical-align: top;\n",
       "    }\n",
       "\n",
       "    .dataframe thead th {\n",
       "        text-align: right;\n",
       "    }\n",
       "</style>\n",
       "<table border=\"1\" class=\"dataframe\">\n",
       "  <thead>\n",
       "    <tr style=\"text-align: right;\">\n",
       "      <th></th>\n",
       "      <th>reported_date</th>\n",
       "      <th>victim_age</th>\n",
       "      <th>lat</th>\n",
       "      <th>lon</th>\n",
       "      <th>delta_days</th>\n",
       "    </tr>\n",
       "  </thead>\n",
       "  <tbody>\n",
       "    <tr>\n",
       "      <th>count</th>\n",
       "      <td>33394</td>\n",
       "      <td>33394.000000</td>\n",
       "      <td>33359.000000</td>\n",
       "      <td>33359.000000</td>\n",
       "      <td>33394.000000</td>\n",
       "    </tr>\n",
       "    <tr>\n",
       "      <th>mean</th>\n",
       "      <td>2012-11-06 00:37:20.594118400</td>\n",
       "      <td>29.861233</td>\n",
       "      <td>37.028663</td>\n",
       "      <td>-91.482557</td>\n",
       "      <td>1880.974067</td>\n",
       "    </tr>\n",
       "    <tr>\n",
       "      <th>min</th>\n",
       "      <td>2007-01-01 00:00:00</td>\n",
       "      <td>-1.000000</td>\n",
       "      <td>25.725660</td>\n",
       "      <td>-122.503286</td>\n",
       "      <td>0.000000</td>\n",
       "    </tr>\n",
       "    <tr>\n",
       "      <th>25%</th>\n",
       "      <td>2010-03-17 00:00:00</td>\n",
       "      <td>21.000000</td>\n",
       "      <td>33.762503</td>\n",
       "      <td>-95.998378</td>\n",
       "      <td>838.000000</td>\n",
       "    </tr>\n",
       "    <tr>\n",
       "      <th>50%</th>\n",
       "      <td>2012-12-23 12:00:00</td>\n",
       "      <td>27.000000</td>\n",
       "      <td>38.538284</td>\n",
       "      <td>-87.709572</td>\n",
       "      <td>1833.500000</td>\n",
       "    </tr>\n",
       "    <tr>\n",
       "      <th>75%</th>\n",
       "      <td>2015-09-15 00:00:00</td>\n",
       "      <td>39.000000</td>\n",
       "      <td>40.029895</td>\n",
       "      <td>-81.748009</td>\n",
       "      <td>2846.000000</td>\n",
       "    </tr>\n",
       "    <tr>\n",
       "      <th>max</th>\n",
       "      <td>2017-12-31 00:00:00</td>\n",
       "      <td>101.000000</td>\n",
       "      <td>45.051190</td>\n",
       "      <td>-71.011519</td>\n",
       "      <td>4017.000000</td>\n",
       "    </tr>\n",
       "    <tr>\n",
       "      <th>std</th>\n",
       "      <td>NaN</td>\n",
       "      <td>15.962282</td>\n",
       "      <td>4.354980</td>\n",
       "      <td>13.766350</td>\n",
       "      <td>1163.620589</td>\n",
       "    </tr>\n",
       "  </tbody>\n",
       "</table>\n",
       "</div>"
      ],
      "text/plain": [
       "                       reported_date    victim_age           lat  \\\n",
       "count                          33394  33394.000000  33359.000000   \n",
       "mean   2012-11-06 00:37:20.594118400     29.861233     37.028663   \n",
       "min              2007-01-01 00:00:00     -1.000000     25.725660   \n",
       "25%              2010-03-17 00:00:00     21.000000     33.762503   \n",
       "50%              2012-12-23 12:00:00     27.000000     38.538284   \n",
       "75%              2015-09-15 00:00:00     39.000000     40.029895   \n",
       "max              2017-12-31 00:00:00    101.000000     45.051190   \n",
       "std                              NaN     15.962282      4.354980   \n",
       "\n",
       "                lon    delta_days  \n",
       "count  33359.000000  33394.000000  \n",
       "mean     -91.482557   1880.974067  \n",
       "min     -122.503286      0.000000  \n",
       "25%      -95.998378    838.000000  \n",
       "50%      -87.709572   1833.500000  \n",
       "75%      -81.748009   2846.000000  \n",
       "max      -71.011519   4017.000000  \n",
       "std       13.766350   1163.620589  "
      ]
     },
     "execution_count": 10,
     "metadata": {},
     "output_type": "execute_result"
    }
   ],
   "source": [
    "train_set.describe()"
   ]
  },
  {
   "cell_type": "code",
   "execution_count": 11,
   "id": "4d95fe43-79a7-4d95-9928-c141aaff642d",
   "metadata": {
    "tags": []
   },
   "outputs": [
    {
     "name": "stdout",
     "output_type": "stream",
     "text": [
      "<class 'pandas.core.frame.DataFrame'>\n",
      "Index: 33394 entries, 6163 to 14544\n",
      "Data columns (total 10 columns):\n",
      " #   Column         Non-Null Count  Dtype         \n",
      "---  ------         --------------  -----         \n",
      " 0   reported_date  33394 non-null  datetime64[ns]\n",
      " 1   victim_race    33394 non-null  category      \n",
      " 2   victim_age     33394 non-null  int32         \n",
      " 3   victim_sex     33394 non-null  category      \n",
      " 4   lat            33359 non-null  float64       \n",
      " 5   lon            33359 non-null  float64       \n",
      " 6   disposition    33394 non-null  category      \n",
      " 7   month          33394 non-null  category      \n",
      " 8   weekday        33394 non-null  category      \n",
      " 9   delta_days     33394 non-null  float64       \n",
      "dtypes: category(5), datetime64[ns](1), float64(3), int32(1)\n",
      "memory usage: 2.6 MB\n"
     ]
    }
   ],
   "source": [
    "train_set.info()"
   ]
  },
  {
   "cell_type": "markdown",
   "id": "33e4b98b-0569-4971-9ab7-cea0f12c99c4",
   "metadata": {},
   "source": [
    "## Impute and transform data"
   ]
  },
  {
   "cell_type": "code",
   "execution_count": 12,
   "id": "16bdadb1-a201-4978-97cf-9bf315031710",
   "metadata": {
    "tags": []
   },
   "outputs": [],
   "source": [
    "age_imputer = SimpleImputer(missing_values = -1, strategy = \"median\")"
   ]
  },
  {
   "cell_type": "code",
   "execution_count": 13,
   "id": "2dd3f33d-d708-4a35-8c1b-755de004831f",
   "metadata": {
    "tags": []
   },
   "outputs": [],
   "source": [
    "train_set[\"victim_age\"] = age_imputer.fit_transform(train_set[\"victim_age\"].values.reshape(-1, 1))[:, 0].astype(int)"
   ]
  },
  {
   "cell_type": "code",
   "execution_count": 14,
   "id": "5f80952c-f1c3-4f90-a5bd-121e4f8c2207",
   "metadata": {
    "tags": []
   },
   "outputs": [],
   "source": [
    "coordinate_imputer = SimpleImputer(missing_values = np.nan, strategy = \"median\")"
   ]
  },
  {
   "cell_type": "code",
   "execution_count": 15,
   "id": "75528464-7838-456b-84a8-cb4cc8c96f75",
   "metadata": {
    "tags": []
   },
   "outputs": [],
   "source": [
    "train_set[\"lat\"] = coordinate_imputer.fit_transform(train_set[\"lat\"].values.reshape(-1, 1))[:, 0]\n",
    "train_set[\"lon\"] = coordinate_imputer.fit_transform(train_set[\"lon\"].values.reshape(-1, 1))[:, 0]"
   ]
  },
  {
   "cell_type": "code",
   "execution_count": 16,
   "id": "c4777fe1-c74d-4cfb-8ff8-63a526d637ea",
   "metadata": {
    "tags": []
   },
   "outputs": [
    {
     "data": {
      "text/html": [
       "<div>\n",
       "<style scoped>\n",
       "    .dataframe tbody tr th:only-of-type {\n",
       "        vertical-align: middle;\n",
       "    }\n",
       "\n",
       "    .dataframe tbody tr th {\n",
       "        vertical-align: top;\n",
       "    }\n",
       "\n",
       "    .dataframe thead th {\n",
       "        text-align: right;\n",
       "    }\n",
       "</style>\n",
       "<table border=\"1\" class=\"dataframe\">\n",
       "  <thead>\n",
       "    <tr style=\"text-align: right;\">\n",
       "      <th></th>\n",
       "      <th>reported_date</th>\n",
       "      <th>victim_age</th>\n",
       "      <th>lat</th>\n",
       "      <th>lon</th>\n",
       "      <th>delta_days</th>\n",
       "    </tr>\n",
       "  </thead>\n",
       "  <tbody>\n",
       "    <tr>\n",
       "      <th>count</th>\n",
       "      <td>33394</td>\n",
       "      <td>33394.000000</td>\n",
       "      <td>33394.000000</td>\n",
       "      <td>33394.000000</td>\n",
       "      <td>33394.000000</td>\n",
       "    </tr>\n",
       "    <tr>\n",
       "      <th>mean</th>\n",
       "      <td>2012-11-06 00:37:20.594118400</td>\n",
       "      <td>31.554651</td>\n",
       "      <td>37.030245</td>\n",
       "      <td>-91.478603</td>\n",
       "      <td>1880.974067</td>\n",
       "    </tr>\n",
       "    <tr>\n",
       "      <th>min</th>\n",
       "      <td>2007-01-01 00:00:00</td>\n",
       "      <td>0.000000</td>\n",
       "      <td>25.725660</td>\n",
       "      <td>-122.503286</td>\n",
       "      <td>0.000000</td>\n",
       "    </tr>\n",
       "    <tr>\n",
       "      <th>25%</th>\n",
       "      <td>2010-03-17 00:00:00</td>\n",
       "      <td>22.000000</td>\n",
       "      <td>33.763686</td>\n",
       "      <td>-95.996832</td>\n",
       "      <td>838.000000</td>\n",
       "    </tr>\n",
       "    <tr>\n",
       "      <th>50%</th>\n",
       "      <td>2012-12-23 12:00:00</td>\n",
       "      <td>28.000000</td>\n",
       "      <td>38.538284</td>\n",
       "      <td>-87.709572</td>\n",
       "      <td>1833.500000</td>\n",
       "    </tr>\n",
       "    <tr>\n",
       "      <th>75%</th>\n",
       "      <td>2015-09-15 00:00:00</td>\n",
       "      <td>39.000000</td>\n",
       "      <td>40.029322</td>\n",
       "      <td>-81.752102</td>\n",
       "      <td>2846.000000</td>\n",
       "    </tr>\n",
       "    <tr>\n",
       "      <th>max</th>\n",
       "      <td>2017-12-31 00:00:00</td>\n",
       "      <td>101.000000</td>\n",
       "      <td>45.051190</td>\n",
       "      <td>-71.011519</td>\n",
       "      <td>4017.000000</td>\n",
       "    </tr>\n",
       "    <tr>\n",
       "      <th>std</th>\n",
       "      <td>NaN</td>\n",
       "      <td>14.018282</td>\n",
       "      <td>4.352971</td>\n",
       "      <td>13.759676</td>\n",
       "      <td>1163.620589</td>\n",
       "    </tr>\n",
       "  </tbody>\n",
       "</table>\n",
       "</div>"
      ],
      "text/plain": [
       "                       reported_date    victim_age           lat  \\\n",
       "count                          33394  33394.000000  33394.000000   \n",
       "mean   2012-11-06 00:37:20.594118400     31.554651     37.030245   \n",
       "min              2007-01-01 00:00:00      0.000000     25.725660   \n",
       "25%              2010-03-17 00:00:00     22.000000     33.763686   \n",
       "50%              2012-12-23 12:00:00     28.000000     38.538284   \n",
       "75%              2015-09-15 00:00:00     39.000000     40.029322   \n",
       "max              2017-12-31 00:00:00    101.000000     45.051190   \n",
       "std                              NaN     14.018282      4.352971   \n",
       "\n",
       "                lon    delta_days  \n",
       "count  33394.000000  33394.000000  \n",
       "mean     -91.478603   1880.974067  \n",
       "min     -122.503286      0.000000  \n",
       "25%      -95.996832    838.000000  \n",
       "50%      -87.709572   1833.500000  \n",
       "75%      -81.752102   2846.000000  \n",
       "max      -71.011519   4017.000000  \n",
       "std       13.759676   1163.620589  "
      ]
     },
     "execution_count": 16,
     "metadata": {},
     "output_type": "execute_result"
    }
   ],
   "source": [
    "train_set.describe()"
   ]
  },
  {
   "cell_type": "code",
   "execution_count": 17,
   "id": "70ab9265-5151-429e-b64c-f9c7134191d3",
   "metadata": {
    "tags": []
   },
   "outputs": [
    {
     "data": {
      "text/plain": [
       "<Axes: xlabel='month'>"
      ]
     },
     "execution_count": 17,
     "metadata": {},
     "output_type": "execute_result"
    },
    {
     "data": {
      "image/png": "[encoded data removed]",
      "text/plain": [
       "<Figure size 640x480 with 1 Axes>"
      ]
     },
     "metadata": {},
     "output_type": "display_data"
    }
   ],
   "source": [
    "train_set.groupby(\"month\").size().plot(kind=\"bar\")"
   ]
  },
  {
   "cell_type": "code",
   "execution_count": 18,
   "id": "217cc914-51df-4d97-bd7e-bdbe2e104a6d",
   "metadata": {
    "tags": []
   },
   "outputs": [
    {
     "data": {
      "text/plain": [
       "<Axes: xlabel='weekday'>"
      ]
     },
     "execution_count": 18,
     "metadata": {},
     "output_type": "execute_result"
    },
    {
     "data": {
      "image/png": "[encoded data removed]",
      "text/plain": [
       "<Figure size 640x480 with 1 Axes>"
      ]
     },
     "metadata": {},
     "output_type": "display_data"
    }
   ],
   "source": [
    "train_set.groupby(\"weekday\").size().plot(kind=\"bar\")"
   ]
  },
  {
   "cell_type": "code",
   "execution_count": 19,
   "id": "f4456f6f-5b20-46f7-825b-ee5be141e88b",
   "metadata": {
    "tags": []
   },
   "outputs": [
    {
     "data": {
      "text/plain": [
       "Closed by arrest              Axes(0.1,0.559091;0.363636x0.340909)\n",
       "Closed without arrest    Axes(0.536364,0.559091;0.363636x0.340909)\n",
       "Open/No arrest                    Axes(0.1,0.15;0.363636x0.340909)\n",
       "dtype: object"
      ]
     },
     "execution_count": 19,
     "metadata": {},
     "output_type": "execute_result"
    },
    {
     "data": {
      "image/png": "[encoded data removed]",
      "text/plain": [
       "<Figure size 640x480 with 4 Axes>"
      ]
     },
     "metadata": {},
     "output_type": "display_data"
    }
   ],
   "source": [
    "train_set[[\"delta_days\", \"disposition\"]].groupby(\"disposition\").boxplot()"
   ]
  },
  {
   "cell_type": "code",
   "execution_count": 20,
   "id": "5a64b7c3-066e-4aaf-8d50-27a559f3a6e6",
   "metadata": {
    "tags": []
   },
   "outputs": [],
   "source": [
    "train_set_onehot = train_set[[\"victim_race\", \"victim_sex\", \"month\", \"weekday\"]]"
   ]
  },
  {
   "cell_type": "code",
   "execution_count": 21,
   "id": "90189a25-6cfd-4d94-8c0d-2d137533c510",
   "metadata": {
    "tags": []
   },
   "outputs": [],
   "source": [
    "onehot_encoder = OneHotEncoder(sparse_output = False)"
   ]
  },
  {
   "cell_type": "code",
   "execution_count": 22,
   "id": "1ed2daaf-f50f-4af7-b669-91bedb052a1f",
   "metadata": {
    "tags": []
   },
   "outputs": [],
   "source": [
    "train_set_onehot_array = onehot_encoder.fit_transform(train_set_onehot)"
   ]
  },
  {
   "cell_type": "code",
   "execution_count": 23,
   "id": "d7786628-4ce2-45f4-a3ec-8eb3272eb04d",
   "metadata": {
    "tags": []
   },
   "outputs": [],
   "source": [
    "train_set_onehot = pd.DataFrame(train_set_onehot_array,\n",
    "                               columns = onehot_encoder.get_feature_names_out(),\n",
    "                               index = train_set_onehot.index).astype(int)"
   ]
  },
  {
   "cell_type": "code",
   "execution_count": 24,
   "id": "ec0219ca-0c95-40e5-8213-29fed3ffb360",
   "metadata": {
    "tags": []
   },
   "outputs": [
    {
     "data": {
      "text/html": [
       "<div>\n",
       "<style scoped>\n",
       "    .dataframe tbody tr th:only-of-type {\n",
       "        vertical-align: middle;\n",
       "    }\n",
       "\n",
       "    .dataframe tbody tr th {\n",
       "        vertical-align: top;\n",
       "    }\n",
       "\n",
       "    .dataframe thead th {\n",
       "        text-align: right;\n",
       "    }\n",
       "</style>\n",
       "<table border=\"1\" class=\"dataframe\">\n",
       "  <thead>\n",
       "    <tr style=\"text-align: right;\">\n",
       "      <th></th>\n",
       "      <th>victim_race_Asian</th>\n",
       "      <th>victim_race_Black</th>\n",
       "      <th>victim_race_Hispanic</th>\n",
       "      <th>victim_race_Other</th>\n",
       "      <th>victim_race_Unknown</th>\n",
       "      <th>victim_race_White</th>\n",
       "      <th>victim_sex_Female</th>\n",
       "      <th>victim_sex_Male</th>\n",
       "      <th>victim_sex_Unknown</th>\n",
       "      <th>month_April</th>\n",
       "      <th>...</th>\n",
       "      <th>month_November</th>\n",
       "      <th>month_October</th>\n",
       "      <th>month_September</th>\n",
       "      <th>weekday_Friday</th>\n",
       "      <th>weekday_Monday</th>\n",
       "      <th>weekday_Saturday</th>\n",
       "      <th>weekday_Sunday</th>\n",
       "      <th>weekday_Thursday</th>\n",
       "      <th>weekday_Tuesday</th>\n",
       "      <th>weekday_Wednesday</th>\n",
       "    </tr>\n",
       "  </thead>\n",
       "  <tbody>\n",
       "    <tr>\n",
       "      <th>6163</th>\n",
       "      <td>0</td>\n",
       "      <td>1</td>\n",
       "      <td>0</td>\n",
       "      <td>0</td>\n",
       "      <td>0</td>\n",
       "      <td>0</td>\n",
       "      <td>0</td>\n",
       "      <td>1</td>\n",
       "      <td>0</td>\n",
       "      <td>0</td>\n",
       "      <td>...</td>\n",
       "      <td>1</td>\n",
       "      <td>0</td>\n",
       "      <td>0</td>\n",
       "      <td>0</td>\n",
       "      <td>1</td>\n",
       "      <td>0</td>\n",
       "      <td>0</td>\n",
       "      <td>0</td>\n",
       "      <td>0</td>\n",
       "      <td>0</td>\n",
       "    </tr>\n",
       "    <tr>\n",
       "      <th>49505</th>\n",
       "      <td>0</td>\n",
       "      <td>1</td>\n",
       "      <td>0</td>\n",
       "      <td>0</td>\n",
       "      <td>0</td>\n",
       "      <td>0</td>\n",
       "      <td>0</td>\n",
       "      <td>1</td>\n",
       "      <td>0</td>\n",
       "      <td>0</td>\n",
       "      <td>...</td>\n",
       "      <td>0</td>\n",
       "      <td>0</td>\n",
       "      <td>0</td>\n",
       "      <td>0</td>\n",
       "      <td>0</td>\n",
       "      <td>0</td>\n",
       "      <td>0</td>\n",
       "      <td>0</td>\n",
       "      <td>0</td>\n",
       "      <td>1</td>\n",
       "    </tr>\n",
       "    <tr>\n",
       "      <th>32106</th>\n",
       "      <td>0</td>\n",
       "      <td>1</td>\n",
       "      <td>0</td>\n",
       "      <td>0</td>\n",
       "      <td>0</td>\n",
       "      <td>0</td>\n",
       "      <td>0</td>\n",
       "      <td>1</td>\n",
       "      <td>0</td>\n",
       "      <td>0</td>\n",
       "      <td>...</td>\n",
       "      <td>0</td>\n",
       "      <td>0</td>\n",
       "      <td>0</td>\n",
       "      <td>0</td>\n",
       "      <td>0</td>\n",
       "      <td>0</td>\n",
       "      <td>1</td>\n",
       "      <td>0</td>\n",
       "      <td>0</td>\n",
       "      <td>0</td>\n",
       "    </tr>\n",
       "    <tr>\n",
       "      <th>30512</th>\n",
       "      <td>0</td>\n",
       "      <td>0</td>\n",
       "      <td>1</td>\n",
       "      <td>0</td>\n",
       "      <td>0</td>\n",
       "      <td>0</td>\n",
       "      <td>0</td>\n",
       "      <td>1</td>\n",
       "      <td>0</td>\n",
       "      <td>0</td>\n",
       "      <td>...</td>\n",
       "      <td>0</td>\n",
       "      <td>0</td>\n",
       "      <td>0</td>\n",
       "      <td>0</td>\n",
       "      <td>0</td>\n",
       "      <td>0</td>\n",
       "      <td>0</td>\n",
       "      <td>0</td>\n",
       "      <td>0</td>\n",
       "      <td>1</td>\n",
       "    </tr>\n",
       "    <tr>\n",
       "      <th>10814</th>\n",
       "      <td>0</td>\n",
       "      <td>1</td>\n",
       "      <td>0</td>\n",
       "      <td>0</td>\n",
       "      <td>0</td>\n",
       "      <td>0</td>\n",
       "      <td>0</td>\n",
       "      <td>1</td>\n",
       "      <td>0</td>\n",
       "      <td>0</td>\n",
       "      <td>...</td>\n",
       "      <td>1</td>\n",
       "      <td>0</td>\n",
       "      <td>0</td>\n",
       "      <td>0</td>\n",
       "      <td>0</td>\n",
       "      <td>0</td>\n",
       "      <td>1</td>\n",
       "      <td>0</td>\n",
       "      <td>0</td>\n",
       "      <td>0</td>\n",
       "    </tr>\n",
       "    <tr>\n",
       "      <th>...</th>\n",
       "      <td>...</td>\n",
       "      <td>...</td>\n",
       "      <td>...</td>\n",
       "      <td>...</td>\n",
       "      <td>...</td>\n",
       "      <td>...</td>\n",
       "      <td>...</td>\n",
       "      <td>...</td>\n",
       "      <td>...</td>\n",
       "      <td>...</td>\n",
       "      <td>...</td>\n",
       "      <td>...</td>\n",
       "      <td>...</td>\n",
       "      <td>...</td>\n",
       "      <td>...</td>\n",
       "      <td>...</td>\n",
       "      <td>...</td>\n",
       "      <td>...</td>\n",
       "      <td>...</td>\n",
       "      <td>...</td>\n",
       "      <td>...</td>\n",
       "    </tr>\n",
       "    <tr>\n",
       "      <th>4367</th>\n",
       "      <td>0</td>\n",
       "      <td>1</td>\n",
       "      <td>0</td>\n",
       "      <td>0</td>\n",
       "      <td>0</td>\n",
       "      <td>0</td>\n",
       "      <td>0</td>\n",
       "      <td>1</td>\n",
       "      <td>0</td>\n",
       "      <td>0</td>\n",
       "      <td>...</td>\n",
       "      <td>0</td>\n",
       "      <td>0</td>\n",
       "      <td>0</td>\n",
       "      <td>1</td>\n",
       "      <td>0</td>\n",
       "      <td>0</td>\n",
       "      <td>0</td>\n",
       "      <td>0</td>\n",
       "      <td>0</td>\n",
       "      <td>0</td>\n",
       "    </tr>\n",
       "    <tr>\n",
       "      <th>8607</th>\n",
       "      <td>0</td>\n",
       "      <td>0</td>\n",
       "      <td>0</td>\n",
       "      <td>0</td>\n",
       "      <td>0</td>\n",
       "      <td>1</td>\n",
       "      <td>1</td>\n",
       "      <td>0</td>\n",
       "      <td>0</td>\n",
       "      <td>0</td>\n",
       "      <td>...</td>\n",
       "      <td>0</td>\n",
       "      <td>0</td>\n",
       "      <td>0</td>\n",
       "      <td>0</td>\n",
       "      <td>0</td>\n",
       "      <td>0</td>\n",
       "      <td>0</td>\n",
       "      <td>0</td>\n",
       "      <td>0</td>\n",
       "      <td>1</td>\n",
       "    </tr>\n",
       "    <tr>\n",
       "      <th>18397</th>\n",
       "      <td>0</td>\n",
       "      <td>1</td>\n",
       "      <td>0</td>\n",
       "      <td>0</td>\n",
       "      <td>0</td>\n",
       "      <td>0</td>\n",
       "      <td>0</td>\n",
       "      <td>1</td>\n",
       "      <td>0</td>\n",
       "      <td>1</td>\n",
       "      <td>...</td>\n",
       "      <td>0</td>\n",
       "      <td>0</td>\n",
       "      <td>0</td>\n",
       "      <td>0</td>\n",
       "      <td>0</td>\n",
       "      <td>0</td>\n",
       "      <td>0</td>\n",
       "      <td>0</td>\n",
       "      <td>0</td>\n",
       "      <td>1</td>\n",
       "    </tr>\n",
       "    <tr>\n",
       "      <th>34727</th>\n",
       "      <td>0</td>\n",
       "      <td>1</td>\n",
       "      <td>0</td>\n",
       "      <td>0</td>\n",
       "      <td>0</td>\n",
       "      <td>0</td>\n",
       "      <td>1</td>\n",
       "      <td>0</td>\n",
       "      <td>0</td>\n",
       "      <td>0</td>\n",
       "      <td>...</td>\n",
       "      <td>0</td>\n",
       "      <td>0</td>\n",
       "      <td>0</td>\n",
       "      <td>0</td>\n",
       "      <td>0</td>\n",
       "      <td>0</td>\n",
       "      <td>0</td>\n",
       "      <td>1</td>\n",
       "      <td>0</td>\n",
       "      <td>0</td>\n",
       "    </tr>\n",
       "    <tr>\n",
       "      <th>14544</th>\n",
       "      <td>0</td>\n",
       "      <td>0</td>\n",
       "      <td>0</td>\n",
       "      <td>0</td>\n",
       "      <td>1</td>\n",
       "      <td>0</td>\n",
       "      <td>0</td>\n",
       "      <td>0</td>\n",
       "      <td>1</td>\n",
       "      <td>0</td>\n",
       "      <td>...</td>\n",
       "      <td>0</td>\n",
       "      <td>0</td>\n",
       "      <td>0</td>\n",
       "      <td>0</td>\n",
       "      <td>0</td>\n",
       "      <td>1</td>\n",
       "      <td>0</td>\n",
       "      <td>0</td>\n",
       "      <td>0</td>\n",
       "      <td>0</td>\n",
       "    </tr>\n",
       "  </tbody>\n",
       "</table>\n",
       "<p>33394 rows × 28 columns</p>\n",
       "</div>"
      ],
      "text/plain": [
       "       victim_race_Asian  victim_race_Black  victim_race_Hispanic  \\\n",
       "6163                   0                  1                     0   \n",
       "49505                  0                  1                     0   \n",
       "32106                  0                  1                     0   \n",
       "30512                  0                  0                     1   \n",
       "10814                  0                  1                     0   \n",
       "...                  ...                ...                   ...   \n",
       "4367                   0                  1                     0   \n",
       "8607                   0                  0                     0   \n",
       "18397                  0                  1                     0   \n",
       "34727                  0                  1                     0   \n",
       "14544                  0                  0                     0   \n",
       "\n",
       "       victim_race_Other  victim_race_Unknown  victim_race_White  \\\n",
       "6163                   0                    0                  0   \n",
       "49505                  0                    0                  0   \n",
       "32106                  0                    0                  0   \n",
       "30512                  0                    0                  0   \n",
       "10814                  0                    0                  0   \n",
       "...                  ...                  ...                ...   \n",
       "4367                   0                    0                  0   \n",
       "8607                   0                    0                  1   \n",
       "18397                  0                    0                  0   \n",
       "34727                  0                    0                  0   \n",
       "14544                  0                    1                  0   \n",
       "\n",
       "       victim_sex_Female  victim_sex_Male  victim_sex_Unknown  month_April  \\\n",
       "6163                   0                1                   0            0   \n",
       "49505                  0                1                   0            0   \n",
       "32106                  0                1                   0            0   \n",
       "30512                  0                1                   0            0   \n",
       "10814                  0                1                   0            0   \n",
       "...                  ...              ...                 ...          ...   \n",
       "4367                   0                1                   0            0   \n",
       "8607                   1                0                   0            0   \n",
       "18397                  0                1                   0            1   \n",
       "34727                  1                0                   0            0   \n",
       "14544                  0                0                   1            0   \n",
       "\n",
       "       ...  month_November  month_October  month_September  weekday_Friday  \\\n",
       "6163   ...               1              0                0               0   \n",
       "49505  ...               0              0                0               0   \n",
       "32106  ...               0              0                0               0   \n",
       "30512  ...               0              0                0               0   \n",
       "10814  ...               1              0                0               0   \n",
       "...    ...             ...            ...              ...             ...   \n",
       "4367   ...               0              0                0               1   \n",
       "8607   ...               0              0                0               0   \n",
       "18397  ...               0              0                0               0   \n",
       "34727  ...               0              0                0               0   \n",
       "14544  ...               0              0                0               0   \n",
       "\n",
       "       weekday_Monday  weekday_Saturday  weekday_Sunday  weekday_Thursday  \\\n",
       "6163                1                 0               0                 0   \n",
       "49505               0                 0               0                 0   \n",
       "32106               0                 0               1                 0   \n",
       "30512               0                 0               0                 0   \n",
       "10814               0                 0               1                 0   \n",
       "...               ...               ...             ...               ...   \n",
       "4367                0                 0               0                 0   \n",
       "8607                0                 0               0                 0   \n",
       "18397               0                 0               0                 0   \n",
       "34727               0                 0               0                 1   \n",
       "14544               0                 1               0                 0   \n",
       "\n",
       "       weekday_Tuesday  weekday_Wednesday  \n",
       "6163                 0                  0  \n",
       "49505                0                  1  \n",
       "32106                0                  0  \n",
       "30512                0                  1  \n",
       "10814                0                  0  \n",
       "...                ...                ...  \n",
       "4367                 0                  0  \n",
       "8607                 0                  1  \n",
       "18397                0                  1  \n",
       "34727                0                  0  \n",
       "14544                0                  0  \n",
       "\n",
       "[33394 rows x 28 columns]"
      ]
     },
     "execution_count": 24,
     "metadata": {},
     "output_type": "execute_result"
    }
   ],
   "source": [
    "train_set_onehot"
   ]
  },
  {
   "cell_type": "code",
   "execution_count": 25,
   "id": "7b992edf-6121-4113-9269-1bce3d43a779",
   "metadata": {
    "tags": []
   },
   "outputs": [],
   "source": [
    "train_set_num = train_set[[\"victim_age\", \"lat\", \"lon\", \"delta_days\"]]"
   ]
  },
  {
   "cell_type": "code",
   "execution_count": 26,
   "id": "33dac4ad-2347-4c0a-b236-6bde1b14e457",
   "metadata": {
    "tags": []
   },
   "outputs": [],
   "source": [
    "std_scaler = StandardScaler()"
   ]
  },
  {
   "cell_type": "code",
   "execution_count": 27,
   "id": "609d13a1-286a-4de4-a20c-42ce754e4358",
   "metadata": {
    "tags": []
   },
   "outputs": [],
   "source": [
    "train_set_num_scaled = std_scaler.fit_transform(train_set_num)"
   ]
  },
  {
   "cell_type": "code",
   "execution_count": 28,
   "id": "e4e901c2-6cf2-43b3-89ed-f73d9cd946b4",
   "metadata": {
    "tags": []
   },
   "outputs": [
    {
     "data": {
      "text/plain": [
       "array([[-0.46758574,  1.34950783,  0.92026706,  0.92731437],\n",
       "       [ 0.60246156,  0.3592794 ,  0.08834186, -1.48072308],\n",
       "       [ 1.60117237, -0.44393924,  0.10202153, -0.0283379 ],\n",
       "       ...,\n",
       "       [-0.25357628,  1.23972113,  0.59619127, -0.77687488],\n",
       "       [ 0.95914399,  1.39924612,  0.25362901,  0.70215169],\n",
       "       [-0.25357628, -0.99320504, -0.38997934,  1.83140266]])"
      ]
     },
     "execution_count": 28,
     "metadata": {},
     "output_type": "execute_result"
    }
   ],
   "source": [
    "train_set_num_scaled"
   ]
  },
  {
   "cell_type": "code",
   "execution_count": 29,
   "id": "e5555524-3685-4ea2-8f93-2acfed57b946",
   "metadata": {
    "tags": []
   },
   "outputs": [],
   "source": [
    "train_set_num = pd.DataFrame(train_set_num_scaled,\n",
    "                            columns = std_scaler.get_feature_names_out(),\n",
    "                            index = train_set_num.index)"
   ]
  },
  {
   "cell_type": "code",
   "execution_count": 30,
   "id": "17385e58-5cbd-4df7-91f0-e94d168e7836",
   "metadata": {
    "tags": []
   },
   "outputs": [
    {
     "data": {
      "text/html": [
       "<div>\n",
       "<style scoped>\n",
       "    .dataframe tbody tr th:only-of-type {\n",
       "        vertical-align: middle;\n",
       "    }\n",
       "\n",
       "    .dataframe tbody tr th {\n",
       "        vertical-align: top;\n",
       "    }\n",
       "\n",
       "    .dataframe thead th {\n",
       "        text-align: right;\n",
       "    }\n",
       "</style>\n",
       "<table border=\"1\" class=\"dataframe\">\n",
       "  <thead>\n",
       "    <tr style=\"text-align: right;\">\n",
       "      <th></th>\n",
       "      <th>victim_age</th>\n",
       "      <th>lat</th>\n",
       "      <th>lon</th>\n",
       "      <th>delta_days</th>\n",
       "    </tr>\n",
       "  </thead>\n",
       "  <tbody>\n",
       "    <tr>\n",
       "      <th>6163</th>\n",
       "      <td>-0.467586</td>\n",
       "      <td>1.349508</td>\n",
       "      <td>0.920267</td>\n",
       "      <td>0.927314</td>\n",
       "    </tr>\n",
       "    <tr>\n",
       "      <th>49505</th>\n",
       "      <td>0.602462</td>\n",
       "      <td>0.359279</td>\n",
       "      <td>0.088342</td>\n",
       "      <td>-1.480723</td>\n",
       "    </tr>\n",
       "    <tr>\n",
       "      <th>32106</th>\n",
       "      <td>1.601172</td>\n",
       "      <td>-0.443939</td>\n",
       "      <td>0.102022</td>\n",
       "      <td>-0.028338</td>\n",
       "    </tr>\n",
       "    <tr>\n",
       "      <th>30512</th>\n",
       "      <td>0.388452</td>\n",
       "      <td>-0.696878</td>\n",
       "      <td>-1.961384</td>\n",
       "      <td>-1.173917</td>\n",
       "    </tr>\n",
       "    <tr>\n",
       "      <th>10814</th>\n",
       "      <td>-0.681595</td>\n",
       "      <td>1.087272</td>\n",
       "      <td>0.279769</td>\n",
       "      <td>-0.647965</td>\n",
       "    </tr>\n",
       "    <tr>\n",
       "      <th>...</th>\n",
       "      <td>...</td>\n",
       "      <td>...</td>\n",
       "      <td>...</td>\n",
       "      <td>...</td>\n",
       "    </tr>\n",
       "    <tr>\n",
       "      <th>4367</th>\n",
       "      <td>-0.681595</td>\n",
       "      <td>-1.515048</td>\n",
       "      <td>0.021951</td>\n",
       "      <td>-0.471788</td>\n",
       "    </tr>\n",
       "    <tr>\n",
       "      <th>8607</th>\n",
       "      <td>0.031770</td>\n",
       "      <td>1.135495</td>\n",
       "      <td>0.273260</td>\n",
       "      <td>0.913564</td>\n",
       "    </tr>\n",
       "    <tr>\n",
       "      <th>18397</th>\n",
       "      <td>-0.253576</td>\n",
       "      <td>1.239721</td>\n",
       "      <td>0.596191</td>\n",
       "      <td>-0.776875</td>\n",
       "    </tr>\n",
       "    <tr>\n",
       "      <th>34727</th>\n",
       "      <td>0.959144</td>\n",
       "      <td>1.399246</td>\n",
       "      <td>0.253629</td>\n",
       "      <td>0.702152</td>\n",
       "    </tr>\n",
       "    <tr>\n",
       "      <th>14544</th>\n",
       "      <td>-0.253576</td>\n",
       "      <td>-0.993205</td>\n",
       "      <td>-0.389979</td>\n",
       "      <td>1.831403</td>\n",
       "    </tr>\n",
       "  </tbody>\n",
       "</table>\n",
       "<p>33394 rows × 4 columns</p>\n",
       "</div>"
      ],
      "text/plain": [
       "       victim_age       lat       lon  delta_days\n",
       "6163    -0.467586  1.349508  0.920267    0.927314\n",
       "49505    0.602462  0.359279  0.088342   -1.480723\n",
       "32106    1.601172 -0.443939  0.102022   -0.028338\n",
       "30512    0.388452 -0.696878 -1.961384   -1.173917\n",
       "10814   -0.681595  1.087272  0.279769   -0.647965\n",
       "...           ...       ...       ...         ...\n",
       "4367    -0.681595 -1.515048  0.021951   -0.471788\n",
       "8607     0.031770  1.135495  0.273260    0.913564\n",
       "18397   -0.253576  1.239721  0.596191   -0.776875\n",
       "34727    0.959144  1.399246  0.253629    0.702152\n",
       "14544   -0.253576 -0.993205 -0.389979    1.831403\n",
       "\n",
       "[33394 rows x 4 columns]"
      ]
     },
     "execution_count": 30,
     "metadata": {},
     "output_type": "execute_result"
    }
   ],
   "source": [
    "train_set_num"
   ]
  },
  {
   "cell_type": "code",
   "execution_count": 31,
   "id": "5973f65d-78ae-44a3-9aaa-7755c971a7f8",
   "metadata": {
    "tags": []
   },
   "outputs": [],
   "source": [
    "train_set_transformed = pd.concat((train_set_onehot, train_set_num), axis = 1)"
   ]
  },
  {
   "cell_type": "code",
   "execution_count": 32,
   "id": "3b53fb8d-b776-4e33-b482-62cebfab9bb1",
   "metadata": {
    "tags": []
   },
   "outputs": [
    {
     "data": {
      "text/html": [
       "<div>\n",
       "<style scoped>\n",
       "    .dataframe tbody tr th:only-of-type {\n",
       "        vertical-align: middle;\n",
       "    }\n",
       "\n",
       "    .dataframe tbody tr th {\n",
       "        vertical-align: top;\n",
       "    }\n",
       "\n",
       "    .dataframe thead th {\n",
       "        text-align: right;\n",
       "    }\n",
       "</style>\n",
       "<table border=\"1\" class=\"dataframe\">\n",
       "  <thead>\n",
       "    <tr style=\"text-align: right;\">\n",
       "      <th></th>\n",
       "      <th>victim_race_Asian</th>\n",
       "      <th>victim_race_Black</th>\n",
       "      <th>victim_race_Hispanic</th>\n",
       "      <th>victim_race_Other</th>\n",
       "      <th>victim_race_Unknown</th>\n",
       "      <th>victim_race_White</th>\n",
       "      <th>victim_sex_Female</th>\n",
       "      <th>victim_sex_Male</th>\n",
       "      <th>victim_sex_Unknown</th>\n",
       "      <th>month_April</th>\n",
       "      <th>...</th>\n",
       "      <th>weekday_Monday</th>\n",
       "      <th>weekday_Saturday</th>\n",
       "      <th>weekday_Sunday</th>\n",
       "      <th>weekday_Thursday</th>\n",
       "      <th>weekday_Tuesday</th>\n",
       "      <th>weekday_Wednesday</th>\n",
       "      <th>victim_age</th>\n",
       "      <th>lat</th>\n",
       "      <th>lon</th>\n",
       "      <th>delta_days</th>\n",
       "    </tr>\n",
       "  </thead>\n",
       "  <tbody>\n",
       "    <tr>\n",
       "      <th>6163</th>\n",
       "      <td>0</td>\n",
       "      <td>1</td>\n",
       "      <td>0</td>\n",
       "      <td>0</td>\n",
       "      <td>0</td>\n",
       "      <td>0</td>\n",
       "      <td>0</td>\n",
       "      <td>1</td>\n",
       "      <td>0</td>\n",
       "      <td>0</td>\n",
       "      <td>...</td>\n",
       "      <td>1</td>\n",
       "      <td>0</td>\n",
       "      <td>0</td>\n",
       "      <td>0</td>\n",
       "      <td>0</td>\n",
       "      <td>0</td>\n",
       "      <td>-0.467586</td>\n",
       "      <td>1.349508</td>\n",
       "      <td>0.920267</td>\n",
       "      <td>0.927314</td>\n",
       "    </tr>\n",
       "    <tr>\n",
       "      <th>49505</th>\n",
       "      <td>0</td>\n",
       "      <td>1</td>\n",
       "      <td>0</td>\n",
       "      <td>0</td>\n",
       "      <td>0</td>\n",
       "      <td>0</td>\n",
       "      <td>0</td>\n",
       "      <td>1</td>\n",
       "      <td>0</td>\n",
       "      <td>0</td>\n",
       "      <td>...</td>\n",
       "      <td>0</td>\n",
       "      <td>0</td>\n",
       "      <td>0</td>\n",
       "      <td>0</td>\n",
       "      <td>0</td>\n",
       "      <td>1</td>\n",
       "      <td>0.602462</td>\n",
       "      <td>0.359279</td>\n",
       "      <td>0.088342</td>\n",
       "      <td>-1.480723</td>\n",
       "    </tr>\n",
       "    <tr>\n",
       "      <th>32106</th>\n",
       "      <td>0</td>\n",
       "      <td>1</td>\n",
       "      <td>0</td>\n",
       "      <td>0</td>\n",
       "      <td>0</td>\n",
       "      <td>0</td>\n",
       "      <td>0</td>\n",
       "      <td>1</td>\n",
       "      <td>0</td>\n",
       "      <td>0</td>\n",
       "      <td>...</td>\n",
       "      <td>0</td>\n",
       "      <td>0</td>\n",
       "      <td>1</td>\n",
       "      <td>0</td>\n",
       "      <td>0</td>\n",
       "      <td>0</td>\n",
       "      <td>1.601172</td>\n",
       "      <td>-0.443939</td>\n",
       "      <td>0.102022</td>\n",
       "      <td>-0.028338</td>\n",
       "    </tr>\n",
       "    <tr>\n",
       "      <th>30512</th>\n",
       "      <td>0</td>\n",
       "      <td>0</td>\n",
       "      <td>1</td>\n",
       "      <td>0</td>\n",
       "      <td>0</td>\n",
       "      <td>0</td>\n",
       "      <td>0</td>\n",
       "      <td>1</td>\n",
       "      <td>0</td>\n",
       "      <td>0</td>\n",
       "      <td>...</td>\n",
       "      <td>0</td>\n",
       "      <td>0</td>\n",
       "      <td>0</td>\n",
       "      <td>0</td>\n",
       "      <td>0</td>\n",
       "      <td>1</td>\n",
       "      <td>0.388452</td>\n",
       "      <td>-0.696878</td>\n",
       "      <td>-1.961384</td>\n",
       "      <td>-1.173917</td>\n",
       "    </tr>\n",
       "    <tr>\n",
       "      <th>10814</th>\n",
       "      <td>0</td>\n",
       "      <td>1</td>\n",
       "      <td>0</td>\n",
       "      <td>0</td>\n",
       "      <td>0</td>\n",
       "      <td>0</td>\n",
       "      <td>0</td>\n",
       "      <td>1</td>\n",
       "      <td>0</td>\n",
       "      <td>0</td>\n",
       "      <td>...</td>\n",
       "      <td>0</td>\n",
       "      <td>0</td>\n",
       "      <td>1</td>\n",
       "      <td>0</td>\n",
       "      <td>0</td>\n",
       "      <td>0</td>\n",
       "      <td>-0.681595</td>\n",
       "      <td>1.087272</td>\n",
       "      <td>0.279769</td>\n",
       "      <td>-0.647965</td>\n",
       "    </tr>\n",
       "    <tr>\n",
       "      <th>...</th>\n",
       "      <td>...</td>\n",
       "      <td>...</td>\n",
       "      <td>...</td>\n",
       "      <td>...</td>\n",
       "      <td>...</td>\n",
       "      <td>...</td>\n",
       "      <td>...</td>\n",
       "      <td>...</td>\n",
       "      <td>...</td>\n",
       "      <td>...</td>\n",
       "      <td>...</td>\n",
       "      <td>...</td>\n",
       "      <td>...</td>\n",
       "      <td>...</td>\n",
       "      <td>...</td>\n",
       "      <td>...</td>\n",
       "      <td>...</td>\n",
       "      <td>...</td>\n",
       "      <td>...</td>\n",
       "      <td>...</td>\n",
       "      <td>...</td>\n",
       "    </tr>\n",
       "    <tr>\n",
       "      <th>4367</th>\n",
       "      <td>0</td>\n",
       "      <td>1</td>\n",
       "      <td>0</td>\n",
       "      <td>0</td>\n",
       "      <td>0</td>\n",
       "      <td>0</td>\n",
       "      <td>0</td>\n",
       "      <td>1</td>\n",
       "      <td>0</td>\n",
       "      <td>0</td>\n",
       "      <td>...</td>\n",
       "      <td>0</td>\n",
       "      <td>0</td>\n",
       "      <td>0</td>\n",
       "      <td>0</td>\n",
       "      <td>0</td>\n",
       "      <td>0</td>\n",
       "      <td>-0.681595</td>\n",
       "      <td>-1.515048</td>\n",
       "      <td>0.021951</td>\n",
       "      <td>-0.471788</td>\n",
       "    </tr>\n",
       "    <tr>\n",
       "      <th>8607</th>\n",
       "      <td>0</td>\n",
       "      <td>0</td>\n",
       "      <td>0</td>\n",
       "      <td>0</td>\n",
       "      <td>0</td>\n",
       "      <td>1</td>\n",
       "      <td>1</td>\n",
       "      <td>0</td>\n",
       "      <td>0</td>\n",
       "      <td>0</td>\n",
       "      <td>...</td>\n",
       "      <td>0</td>\n",
       "      <td>0</td>\n",
       "      <td>0</td>\n",
       "      <td>0</td>\n",
       "      <td>0</td>\n",
       "      <td>1</td>\n",
       "      <td>0.031770</td>\n",
       "      <td>1.135495</td>\n",
       "      <td>0.273260</td>\n",
       "      <td>0.913564</td>\n",
       "    </tr>\n",
       "    <tr>\n",
       "      <th>18397</th>\n",
       "      <td>0</td>\n",
       "      <td>1</td>\n",
       "      <td>0</td>\n",
       "      <td>0</td>\n",
       "      <td>0</td>\n",
       "      <td>0</td>\n",
       "      <td>0</td>\n",
       "      <td>1</td>\n",
       "      <td>0</td>\n",
       "      <td>1</td>\n",
       "      <td>...</td>\n",
       "      <td>0</td>\n",
       "      <td>0</td>\n",
       "      <td>0</td>\n",
       "      <td>0</td>\n",
       "      <td>0</td>\n",
       "      <td>1</td>\n",
       "      <td>-0.253576</td>\n",
       "      <td>1.239721</td>\n",
       "      <td>0.596191</td>\n",
       "      <td>-0.776875</td>\n",
       "    </tr>\n",
       "    <tr>\n",
       "      <th>34727</th>\n",
       "      <td>0</td>\n",
       "      <td>1</td>\n",
       "      <td>0</td>\n",
       "      <td>0</td>\n",
       "      <td>0</td>\n",
       "      <td>0</td>\n",
       "      <td>1</td>\n",
       "      <td>0</td>\n",
       "      <td>0</td>\n",
       "      <td>0</td>\n",
       "      <td>...</td>\n",
       "      <td>0</td>\n",
       "      <td>0</td>\n",
       "      <td>0</td>\n",
       "      <td>1</td>\n",
       "      <td>0</td>\n",
       "      <td>0</td>\n",
       "      <td>0.959144</td>\n",
       "      <td>1.399246</td>\n",
       "      <td>0.253629</td>\n",
       "      <td>0.702152</td>\n",
       "    </tr>\n",
       "    <tr>\n",
       "      <th>14544</th>\n",
       "      <td>0</td>\n",
       "      <td>0</td>\n",
       "      <td>0</td>\n",
       "      <td>0</td>\n",
       "      <td>1</td>\n",
       "      <td>0</td>\n",
       "      <td>0</td>\n",
       "      <td>0</td>\n",
       "      <td>1</td>\n",
       "      <td>0</td>\n",
       "      <td>...</td>\n",
       "      <td>0</td>\n",
       "      <td>1</td>\n",
       "      <td>0</td>\n",
       "      <td>0</td>\n",
       "      <td>0</td>\n",
       "      <td>0</td>\n",
       "      <td>-0.253576</td>\n",
       "      <td>-0.993205</td>\n",
       "      <td>-0.389979</td>\n",
       "      <td>1.831403</td>\n",
       "    </tr>\n",
       "  </tbody>\n",
       "</table>\n",
       "<p>33394 rows × 32 columns</p>\n",
       "</div>"
      ],
      "text/plain": [
       "       victim_race_Asian  victim_race_Black  victim_race_Hispanic  \\\n",
       "6163                   0                  1                     0   \n",
       "49505                  0                  1                     0   \n",
       "32106                  0                  1                     0   \n",
       "30512                  0                  0                     1   \n",
       "10814                  0                  1                     0   \n",
       "...                  ...                ...                   ...   \n",
       "4367                   0                  1                     0   \n",
       "8607                   0                  0                     0   \n",
       "18397                  0                  1                     0   \n",
       "34727                  0                  1                     0   \n",
       "14544                  0                  0                     0   \n",
       "\n",
       "       victim_race_Other  victim_race_Unknown  victim_race_White  \\\n",
       "6163                   0                    0                  0   \n",
       "49505                  0                    0                  0   \n",
       "32106                  0                    0                  0   \n",
       "30512                  0                    0                  0   \n",
       "10814                  0                    0                  0   \n",
       "...                  ...                  ...                ...   \n",
       "4367                   0                    0                  0   \n",
       "8607                   0                    0                  1   \n",
       "18397                  0                    0                  0   \n",
       "34727                  0                    0                  0   \n",
       "14544                  0                    1                  0   \n",
       "\n",
       "       victim_sex_Female  victim_sex_Male  victim_sex_Unknown  month_April  \\\n",
       "6163                   0                1                   0            0   \n",
       "49505                  0                1                   0            0   \n",
       "32106                  0                1                   0            0   \n",
       "30512                  0                1                   0            0   \n",
       "10814                  0                1                   0            0   \n",
       "...                  ...              ...                 ...          ...   \n",
       "4367                   0                1                   0            0   \n",
       "8607                   1                0                   0            0   \n",
       "18397                  0                1                   0            1   \n",
       "34727                  1                0                   0            0   \n",
       "14544                  0                0                   1            0   \n",
       "\n",
       "       ...  weekday_Monday  weekday_Saturday  weekday_Sunday  \\\n",
       "6163   ...               1                 0               0   \n",
       "49505  ...               0                 0               0   \n",
       "32106  ...               0                 0               1   \n",
       "30512  ...               0                 0               0   \n",
       "10814  ...               0                 0               1   \n",
       "...    ...             ...               ...             ...   \n",
       "4367   ...               0                 0               0   \n",
       "8607   ...               0                 0               0   \n",
       "18397  ...               0                 0               0   \n",
       "34727  ...               0                 0               0   \n",
       "14544  ...               0                 1               0   \n",
       "\n",
       "       weekday_Thursday  weekday_Tuesday  weekday_Wednesday  victim_age  \\\n",
       "6163                  0                0                  0   -0.467586   \n",
       "49505                 0                0                  1    0.602462   \n",
       "32106                 0                0                  0    1.601172   \n",
       "30512                 0                0                  1    0.388452   \n",
       "10814                 0                0                  0   -0.681595   \n",
       "...                 ...              ...                ...         ...   \n",
       "4367                  0                0                  0   -0.681595   \n",
       "8607                  0                0                  1    0.031770   \n",
       "18397                 0                0                  1   -0.253576   \n",
       "34727                 1                0                  0    0.959144   \n",
       "14544                 0                0                  0   -0.253576   \n",
       "\n",
       "            lat       lon  delta_days  \n",
       "6163   1.349508  0.920267    0.927314  \n",
       "49505  0.359279  0.088342   -1.480723  \n",
       "32106 -0.443939  0.102022   -0.028338  \n",
       "30512 -0.696878 -1.961384   -1.173917  \n",
       "10814  1.087272  0.279769   -0.647965  \n",
       "...         ...       ...         ...  \n",
       "4367  -1.515048  0.021951   -0.471788  \n",
       "8607   1.135495  0.273260    0.913564  \n",
       "18397  1.239721  0.596191   -0.776875  \n",
       "34727  1.399246  0.253629    0.702152  \n",
       "14544 -0.993205 -0.389979    1.831403  \n",
       "\n",
       "[33394 rows x 32 columns]"
      ]
     },
     "execution_count": 32,
     "metadata": {},
     "output_type": "execute_result"
    }
   ],
   "source": [
    "train_set_transformed"
   ]
  },
  {
   "cell_type": "markdown",
   "id": "babcec9f-a4a6-428d-9513-60822381c9c2",
   "metadata": {},
   "source": [
    "## Make pipelines"
   ]
  },
  {
   "cell_type": "code",
   "execution_count": 35,
   "id": "189a4a44-f9a9-426f-bfc5-4a3b478130bc",
   "metadata": {
    "tags": []
   },
   "outputs": [],
   "source": [
    "age_pipeline = Pipeline([\n",
    "    (\"impute\", age_imputer),\n",
    "    (\"standardize\", std_scaler),\n",
    "])\n",
    "\n",
    "coordinate_pipeline = Pipeline([\n",
    "    (\"impute\", coordinate_imputer),\n",
    "    (\"standardize\", std_scaler)\n",
    "])\n",
    "\n",
    "delta_days_pipeline = Pipeline([\n",
    "    (\"standardize\", std_scaler)\n",
    "])\n",
    "\n",
    "onehot_pipeline  = Pipeline([\n",
    "    (\"onehot\", onehot_encoder)\n",
    "])\n",
    "\n",
    "preprocessing = ColumnTransformer([\n",
    "    (\"age\", age_pipeline, [\"victim_age\"]),\n",
    "    (\"coordinates\", coordinate_pipeline, [\"lat\", \"lon\"]),\n",
    "    (\"delta_days\", delta_days_pipeline, [\"delta_days\"]),\n",
    "    (\"onehot\", onehot_pipeline, [\"victim_race\", \"victim_sex\", \"month\", \"weekday\"])\n",
    "])"
   ]
  },
  {
   "cell_type": "code",
   "execution_count": 36,
   "id": "df302a14-6b96-4441-acbd-7ff6c0f636ee",
   "metadata": {
    "tags": []
   },
   "outputs": [],
   "source": [
    "train_set_prepared = preprocessing.fit_transform(train_set.drop(\"disposition\", axis=1))"
   ]
  },
  {
   "cell_type": "code",
   "execution_count": 37,
   "id": "ad0b8204-8285-4c6d-8cad-389b39b1f245",
   "metadata": {
    "tags": []
   },
   "outputs": [
    {
     "data": {
      "text/plain": [
       "(33394, 32)"
      ]
     },
     "execution_count": 37,
     "metadata": {},
     "output_type": "execute_result"
    }
   ],
   "source": [
    "train_set_prepared.shape"
   ]
  },
  {
   "cell_type": "code",
   "execution_count": 38,
   "id": "510d622c-8b09-4568-b9e0-de21eebec027",
   "metadata": {
    "tags": []
   },
   "outputs": [
    {
     "data": {
      "text/plain": [
       "array(['age__victim_age', 'coordinates__lat', 'coordinates__lon',\n",
       "       'delta_days__delta_days', 'onehot__victim_race_Asian',\n",
       "       'onehot__victim_race_Black', 'onehot__victim_race_Hispanic',\n",
       "       'onehot__victim_race_Other', 'onehot__victim_race_Unknown',\n",
       "       'onehot__victim_race_White', 'onehot__victim_sex_Female',\n",
       "       'onehot__victim_sex_Male', 'onehot__victim_sex_Unknown',\n",
       "       'onehot__month_April', 'onehot__month_August',\n",
       "       'onehot__month_December', 'onehot__month_February',\n",
       "       'onehot__month_January', 'onehot__month_July',\n",
       "       'onehot__month_June', 'onehot__month_March', 'onehot__month_May',\n",
       "       'onehot__month_November', 'onehot__month_October',\n",
       "       'onehot__month_September', 'onehot__weekday_Friday',\n",
       "       'onehot__weekday_Monday', 'onehot__weekday_Saturday',\n",
       "       'onehot__weekday_Sunday', 'onehot__weekday_Thursday',\n",
       "       'onehot__weekday_Tuesday', 'onehot__weekday_Wednesday'],\n",
       "      dtype=object)"
      ]
     },
     "execution_count": 38,
     "metadata": {},
     "output_type": "execute_result"
    }
   ],
   "source": [
    "preprocessing.get_feature_names_out()"
   ]
  },
  {
   "cell_type": "markdown",
   "id": "dc70a983-1edf-4a1a-b3f1-5b05751b9036",
   "metadata": {},
   "source": [
    "## Select and train a model"
   ]
  },
  {
   "cell_type": "code",
   "execution_count": 116,
   "id": "0628c413-1122-4d8a-a163-d6c1f508417d",
   "metadata": {
    "tags": []
   },
   "outputs": [],
   "source": [
    "from sklearn import set_config\n",
    "from sklearn.tree import DecisionTreeClassifier\n",
    "from sklearn.ensemble import BaggingClassifier\n",
    "from sklearn.ensemble import GradientBoostingClassifier\n",
    "from sklearn.naive_bayes import CategoricalNB\n",
    "from sklearn.linear_model import LogisticRegression\n",
    "from sklearn.model_selection import cross_val_score"
   ]
  },
  {
   "cell_type": "code",
   "execution_count": 40,
   "id": "daa353bd-8a50-4784-ac52-58928e397e28",
   "metadata": {
    "tags": []
   },
   "outputs": [],
   "source": [
    "set_config(transform_output=\"pandas\")"
   ]
  },
  {
   "cell_type": "code",
   "execution_count": 41,
   "id": "0e7669d2-b131-40c0-9fc1-e8d0938a9222",
   "metadata": {
    "tags": []
   },
   "outputs": [],
   "source": [
    "tree_classifier = Pipeline([\n",
    "    (\"preprocess\", preprocessing),\n",
    "    (\"train\", DecisionTreeClassifier())\n",
    "])"
   ]
  },
  {
   "cell_type": "code",
   "execution_count": 42,
   "id": "60edf4ef-1acd-4377-a9c3-e4eca237a8d6",
   "metadata": {
    "tags": []
   },
   "outputs": [],
   "source": [
    "bagging_classifier = Pipeline([\n",
    "    (\"preprocess\", preprocessing),\n",
    "    (\"train\", BaggingClassifier())\n",
    "])"
   ]
  },
  {
   "cell_type": "code",
   "execution_count": 112,
   "id": "ccb19a0e-8a6f-47e6-af4c-c81af2a18ad5",
   "metadata": {
    "tags": []
   },
   "outputs": [],
   "source": [
    "gradient_boosting_classifier = Pipeline([\n",
    "    (\"preprocess\", preprocessing),\n",
    "    (\"train\", GradientBoostingClassifier(learning_rate=0.2))\n",
    "])"
   ]
  },
  {
   "cell_type": "code",
   "execution_count": 117,
   "id": "287ede2a-530b-4919-853a-d0b87d2dab62",
   "metadata": {
    "tags": []
   },
   "outputs": [],
   "source": [
    "categorical_naive_bayes_classifier = Pipeline([\n",
    "    (\"preprocess\", preprocessing),\n",
    "    (\"train\", GradientBoostingClassifier())\n",
    "])"
   ]
  },
  {
   "cell_type": "code",
   "execution_count": 44,
   "id": "3f32e923-dfae-4d7e-8dce-c367faf879f7",
   "metadata": {
    "tags": []
   },
   "outputs": [
    {
     "data": {
      "text/html": [
       "<style>#sk-container-id-1 {color: black;}#sk-container-id-1 pre{padding: 0;}#sk-container-id-1 div.sk-toggleable {background-color: white;}#sk-container-id-1 label.sk-toggleable__label {cursor: pointer;display: block;width: 100%;margin-bottom: 0;padding: 0.3em;box-sizing: border-box;text-align: center;}#sk-container-id-1 label.sk-toggleable__label-arrow:before {content: \"▸\";float: left;margin-right: 0.25em;color: #696969;}#sk-container-id-1 label.sk-toggleable__label-arrow:hover:before {color: black;}#sk-container-id-1 div.sk-estimator:hover label.sk-toggleable__label-arrow:before {color: black;}#sk-container-id-1 div.sk-toggleable__content {max-height: 0;max-width: 0;overflow: hidden;text-align: left;background-color: #f0f8ff;}#sk-container-id-1 div.sk-toggleable__content pre {margin: 0.2em;color: black;border-radius: 0.25em;background-color: #f0f8ff;}#sk-container-id-1 input.sk-toggleable__control:checked~div.sk-toggleable__content {max-height: 200px;max-width: 100%;overflow: auto;}#sk-container-id-1 input.sk-toggleable__control:checked~label.sk-toggleable__label-arrow:before {content: \"▾\";}#sk-container-id-1 div.sk-estimator input.sk-toggleable__control:checked~label.sk-toggleable__label {background-color: #d4ebff;}#sk-container-id-1 div.sk-label input.sk-toggleable__control:checked~label.sk-toggleable__label {background-color: #d4ebff;}#sk-container-id-1 input.sk-hidden--visually {border: 0;clip: rect(1px 1px 1px 1px);clip: rect(1px, 1px, 1px, 1px);height: 1px;margin: -1px;overflow: hidden;padding: 0;position: absolute;width: 1px;}#sk-container-id-1 div.sk-estimator {font-family: monospace;background-color: #f0f8ff;border: 1px dotted black;border-radius: 0.25em;box-sizing: border-box;margin-bottom: 0.5em;}#sk-container-id-1 div.sk-estimator:hover {background-color: #d4ebff;}#sk-container-id-1 div.sk-parallel-item::after {content: \"\";width: 100%;border-bottom: 1px solid gray;flex-grow: 1;}#sk-container-id-1 div.sk-label:hover label.sk-toggleable__label {background-color: #d4ebff;}#sk-container-id-1 div.sk-serial::before {content: \"\";position: absolute;border-left: 1px solid gray;box-sizing: border-box;top: 0;bottom: 0;left: 50%;z-index: 0;}#sk-container-id-1 div.sk-serial {display: flex;flex-direction: column;align-items: center;background-color: white;padding-right: 0.2em;padding-left: 0.2em;position: relative;}#sk-container-id-1 div.sk-item {position: relative;z-index: 1;}#sk-container-id-1 div.sk-parallel {display: flex;align-items: stretch;justify-content: center;background-color: white;position: relative;}#sk-container-id-1 div.sk-item::before, #sk-container-id-1 div.sk-parallel-item::before {content: \"\";position: absolute;border-left: 1px solid gray;box-sizing: border-box;top: 0;bottom: 0;left: 50%;z-index: -1;}#sk-container-id-1 div.sk-parallel-item {display: flex;flex-direction: column;z-index: 1;position: relative;background-color: white;}#sk-container-id-1 div.sk-parallel-item:first-child::after {align-self: flex-end;width: 50%;}#sk-container-id-1 div.sk-parallel-item:last-child::after {align-self: flex-start;width: 50%;}#sk-container-id-1 div.sk-parallel-item:only-child::after {width: 0;}#sk-container-id-1 div.sk-dashed-wrapped {border: 1px dashed gray;margin: 0 0.4em 0.5em 0.4em;box-sizing: border-box;padding-bottom: 0.4em;background-color: white;}#sk-container-id-1 div.sk-label label {font-family: monospace;font-weight: bold;display: inline-block;line-height: 1.2em;}#sk-container-id-1 div.sk-label-container {text-align: center;}#sk-container-id-1 div.sk-container {/* jupyter's `normalize.less` sets `[hidden] { display: none; }` but bootstrap.min.css set `[hidden] { display: none !important; }` so we also need the `!important` here to be able to override the default hidden behavior on the sphinx rendered scikit-learn.org. See: https://github.com/scikit-learn/scikit-learn/issues/21755 */display: inline-block !important;position: relative;}#sk-container-id-1 div.sk-text-repr-fallback {display: none;}</style><div id=\"sk-container-id-1\" class=\"sk-top-container\"><div class=\"sk-text-repr-fallback\"><pre>Pipeline(steps=[(&#x27;preprocess&#x27;,\n",
       "                 ColumnTransformer(transformers=[(&#x27;age&#x27;,\n",
       "                                                  Pipeline(steps=[(&#x27;impute&#x27;,\n",
       "                                                                   SimpleImputer(missing_values=-1,\n",
       "                                                                                 strategy=&#x27;median&#x27;)),\n",
       "                                                                  (&#x27;standardize&#x27;,\n",
       "                                                                   StandardScaler())]),\n",
       "                                                  [&#x27;victim_age&#x27;]),\n",
       "                                                 (&#x27;coordinates&#x27;,\n",
       "                                                  Pipeline(steps=[(&#x27;impute&#x27;,\n",
       "                                                                   SimpleImputer(strategy=&#x27;median&#x27;)),\n",
       "                                                                  (&#x27;standardize&#x27;,\n",
       "                                                                   StandardScaler())]),\n",
       "                                                  [&#x27;lat&#x27;, &#x27;lon&#x27;]),\n",
       "                                                 (&#x27;delta_days&#x27;,\n",
       "                                                  Pipeline(steps=[(&#x27;standardize&#x27;,\n",
       "                                                                   StandardScaler())]),\n",
       "                                                  [&#x27;delta_days&#x27;]),\n",
       "                                                 (&#x27;onehot&#x27;,\n",
       "                                                  Pipeline(steps=[(&#x27;onehot&#x27;,\n",
       "                                                                   OneHotEncoder(sparse_output=False))]),\n",
       "                                                  [&#x27;victim_race&#x27;, &#x27;victim_sex&#x27;,\n",
       "                                                   &#x27;month&#x27;, &#x27;weekday&#x27;])])),\n",
       "                (&#x27;train&#x27;, DecisionTreeClassifier())])</pre><b>In a Jupyter environment, please rerun this cell to show the HTML representation or trust the notebook. <br />On GitHub, the HTML representation is unable to render, please try loading this page with nbviewer.org.</b></div><div class=\"sk-container\" hidden><div class=\"sk-item sk-dashed-wrapped\"><div class=\"sk-label-container\"><div class=\"sk-label sk-toggleable\"><input class=\"sk-toggleable__control sk-hidden--visually\" id=\"sk-estimator-id-1\" type=\"checkbox\" ><label for=\"sk-estimator-id-1\" class=\"sk-toggleable__label sk-toggleable__label-arrow\">Pipeline</label><div class=\"sk-toggleable__content\"><pre>Pipeline(steps=[(&#x27;preprocess&#x27;,\n",
       "                 ColumnTransformer(transformers=[(&#x27;age&#x27;,\n",
       "                                                  Pipeline(steps=[(&#x27;impute&#x27;,\n",
       "                                                                   SimpleImputer(missing_values=-1,\n",
       "                                                                                 strategy=&#x27;median&#x27;)),\n",
       "                                                                  (&#x27;standardize&#x27;,\n",
       "                                                                   StandardScaler())]),\n",
       "                                                  [&#x27;victim_age&#x27;]),\n",
       "                                                 (&#x27;coordinates&#x27;,\n",
       "                                                  Pipeline(steps=[(&#x27;impute&#x27;,\n",
       "                                                                   SimpleImputer(strategy=&#x27;median&#x27;)),\n",
       "                                                                  (&#x27;standardize&#x27;,\n",
       "                                                                   StandardScaler())]),\n",
       "                                                  [&#x27;lat&#x27;, &#x27;lon&#x27;]),\n",
       "                                                 (&#x27;delta_days&#x27;,\n",
       "                                                  Pipeline(steps=[(&#x27;standardize&#x27;,\n",
       "                                                                   StandardScaler())]),\n",
       "                                                  [&#x27;delta_days&#x27;]),\n",
       "                                                 (&#x27;onehot&#x27;,\n",
       "                                                  Pipeline(steps=[(&#x27;onehot&#x27;,\n",
       "                                                                   OneHotEncoder(sparse_output=False))]),\n",
       "                                                  [&#x27;victim_race&#x27;, &#x27;victim_sex&#x27;,\n",
       "                                                   &#x27;month&#x27;, &#x27;weekday&#x27;])])),\n",
       "                (&#x27;train&#x27;, DecisionTreeClassifier())])</pre></div></div></div><div class=\"sk-serial\"><div class=\"sk-item sk-dashed-wrapped\"><div class=\"sk-label-container\"><div class=\"sk-label sk-toggleable\"><input class=\"sk-toggleable__control sk-hidden--visually\" id=\"sk-estimator-id-2\" type=\"checkbox\" ><label for=\"sk-estimator-id-2\" class=\"sk-toggleable__label sk-toggleable__label-arrow\">preprocess: ColumnTransformer</label><div class=\"sk-toggleable__content\"><pre>ColumnTransformer(transformers=[(&#x27;age&#x27;,\n",
       "                                 Pipeline(steps=[(&#x27;impute&#x27;,\n",
       "                                                  SimpleImputer(missing_values=-1,\n",
       "                                                                strategy=&#x27;median&#x27;)),\n",
       "                                                 (&#x27;standardize&#x27;,\n",
       "                                                  StandardScaler())]),\n",
       "                                 [&#x27;victim_age&#x27;]),\n",
       "                                (&#x27;coordinates&#x27;,\n",
       "                                 Pipeline(steps=[(&#x27;impute&#x27;,\n",
       "                                                  SimpleImputer(strategy=&#x27;median&#x27;)),\n",
       "                                                 (&#x27;standardize&#x27;,\n",
       "                                                  StandardScaler())]),\n",
       "                                 [&#x27;lat&#x27;, &#x27;lon&#x27;]),\n",
       "                                (&#x27;delta_days&#x27;,\n",
       "                                 Pipeline(steps=[(&#x27;standardize&#x27;,\n",
       "                                                  StandardScaler())]),\n",
       "                                 [&#x27;delta_days&#x27;]),\n",
       "                                (&#x27;onehot&#x27;,\n",
       "                                 Pipeline(steps=[(&#x27;onehot&#x27;,\n",
       "                                                  OneHotEncoder(sparse_output=False))]),\n",
       "                                 [&#x27;victim_race&#x27;, &#x27;victim_sex&#x27;, &#x27;month&#x27;,\n",
       "                                  &#x27;weekday&#x27;])])</pre></div></div></div><div class=\"sk-parallel\"><div class=\"sk-parallel-item\"><div class=\"sk-item\"><div class=\"sk-label-container\"><div class=\"sk-label sk-toggleable\"><input class=\"sk-toggleable__control sk-hidden--visually\" id=\"sk-estimator-id-3\" type=\"checkbox\" ><label for=\"sk-estimator-id-3\" class=\"sk-toggleable__label sk-toggleable__label-arrow\">age</label><div class=\"sk-toggleable__content\"><pre>[&#x27;victim_age&#x27;]</pre></div></div></div><div class=\"sk-serial\"><div class=\"sk-item\"><div class=\"sk-serial\"><div class=\"sk-item\"><div class=\"sk-estimator sk-toggleable\"><input class=\"sk-toggleable__control sk-hidden--visually\" id=\"sk-estimator-id-4\" type=\"checkbox\" ><label for=\"sk-estimator-id-4\" class=\"sk-toggleable__label sk-toggleable__label-arrow\">SimpleImputer</label><div class=\"sk-toggleable__content\"><pre>SimpleImputer(missing_values=-1, strategy=&#x27;median&#x27;)</pre></div></div></div><div class=\"sk-item\"><div class=\"sk-estimator sk-toggleable\"><input class=\"sk-toggleable__control sk-hidden--visually\" id=\"sk-estimator-id-5\" type=\"checkbox\" ><label for=\"sk-estimator-id-5\" class=\"sk-toggleable__label sk-toggleable__label-arrow\">StandardScaler</label><div class=\"sk-toggleable__content\"><pre>StandardScaler()</pre></div></div></div></div></div></div></div></div><div class=\"sk-parallel-item\"><div class=\"sk-item\"><div class=\"sk-label-container\"><div class=\"sk-label sk-toggleable\"><input class=\"sk-toggleable__control sk-hidden--visually\" id=\"sk-estimator-id-6\" type=\"checkbox\" ><label for=\"sk-estimator-id-6\" class=\"sk-toggleable__label sk-toggleable__label-arrow\">coordinates</label><div class=\"sk-toggleable__content\"><pre>[&#x27;lat&#x27;, &#x27;lon&#x27;]</pre></div></div></div><div class=\"sk-serial\"><div class=\"sk-item\"><div class=\"sk-serial\"><div class=\"sk-item\"><div class=\"sk-estimator sk-toggleable\"><input class=\"sk-toggleable__control sk-hidden--visually\" id=\"sk-estimator-id-7\" type=\"checkbox\" ><label for=\"sk-estimator-id-7\" class=\"sk-toggleable__label sk-toggleable__label-arrow\">SimpleImputer</label><div class=\"sk-toggleable__content\"><pre>SimpleImputer(strategy=&#x27;median&#x27;)</pre></div></div></div><div class=\"sk-item\"><div class=\"sk-estimator sk-toggleable\"><input class=\"sk-toggleable__control sk-hidden--visually\" id=\"sk-estimator-id-8\" type=\"checkbox\" ><label for=\"sk-estimator-id-8\" class=\"sk-toggleable__label sk-toggleable__label-arrow\">StandardScaler</label><div class=\"sk-toggleable__content\"><pre>StandardScaler()</pre></div></div></div></div></div></div></div></div><div class=\"sk-parallel-item\"><div class=\"sk-item\"><div class=\"sk-label-container\"><div class=\"sk-label sk-toggleable\"><input class=\"sk-toggleable__control sk-hidden--visually\" id=\"sk-estimator-id-9\" type=\"checkbox\" ><label for=\"sk-estimator-id-9\" class=\"sk-toggleable__label sk-toggleable__label-arrow\">delta_days</label><div class=\"sk-toggleable__content\"><pre>[&#x27;delta_days&#x27;]</pre></div></div></div><div class=\"sk-serial\"><div class=\"sk-item\"><div class=\"sk-serial\"><div class=\"sk-item\"><div class=\"sk-estimator sk-toggleable\"><input class=\"sk-toggleable__control sk-hidden--visually\" id=\"sk-estimator-id-10\" type=\"checkbox\" ><label for=\"sk-estimator-id-10\" class=\"sk-toggleable__label sk-toggleable__label-arrow\">StandardScaler</label><div class=\"sk-toggleable__content\"><pre>StandardScaler()</pre></div></div></div></div></div></div></div></div><div class=\"sk-parallel-item\"><div class=\"sk-item\"><div class=\"sk-label-container\"><div class=\"sk-label sk-toggleable\"><input class=\"sk-toggleable__control sk-hidden--visually\" id=\"sk-estimator-id-11\" type=\"checkbox\" ><label for=\"sk-estimator-id-11\" class=\"sk-toggleable__label sk-toggleable__label-arrow\">onehot</label><div class=\"sk-toggleable__content\"><pre>[&#x27;victim_race&#x27;, &#x27;victim_sex&#x27;, &#x27;month&#x27;, &#x27;weekday&#x27;]</pre></div></div></div><div class=\"sk-serial\"><div class=\"sk-item\"><div class=\"sk-serial\"><div class=\"sk-item\"><div class=\"sk-estimator sk-toggleable\"><input class=\"sk-toggleable__control sk-hidden--visually\" id=\"sk-estimator-id-12\" type=\"checkbox\" ><label for=\"sk-estimator-id-12\" class=\"sk-toggleable__label sk-toggleable__label-arrow\">OneHotEncoder</label><div class=\"sk-toggleable__content\"><pre>OneHotEncoder(sparse_output=False)</pre></div></div></div></div></div></div></div></div></div></div><div class=\"sk-item\"><div class=\"sk-estimator sk-toggleable\"><input class=\"sk-toggleable__control sk-hidden--visually\" id=\"sk-estimator-id-13\" type=\"checkbox\" ><label for=\"sk-estimator-id-13\" class=\"sk-toggleable__label sk-toggleable__label-arrow\">DecisionTreeClassifier</label><div class=\"sk-toggleable__content\"><pre>DecisionTreeClassifier()</pre></div></div></div></div></div></div></div>"
      ],
      "text/plain": [
       "Pipeline(steps=[('preprocess',\n",
       "                 ColumnTransformer(transformers=[('age',\n",
       "                                                  Pipeline(steps=[('impute',\n",
       "                                                                   SimpleImputer(missing_values=-1,\n",
       "                                                                                 strategy='median')),\n",
       "                                                                  ('standardize',\n",
       "                                                                   StandardScaler())]),\n",
       "                                                  ['victim_age']),\n",
       "                                                 ('coordinates',\n",
       "                                                  Pipeline(steps=[('impute',\n",
       "                                                                   SimpleImputer(strategy='median')),\n",
       "                                                                  ('standardize',\n",
       "                                                                   StandardScaler())]),\n",
       "                                                  ['lat', 'lon']),\n",
       "                                                 ('delta_days',\n",
       "                                                  Pipeline(steps=[('standardize',\n",
       "                                                                   StandardScaler())]),\n",
       "                                                  ['delta_days']),\n",
       "                                                 ('onehot',\n",
       "                                                  Pipeline(steps=[('onehot',\n",
       "                                                                   OneHotEncoder(sparse_output=False))]),\n",
       "                                                  ['victim_race', 'victim_sex',\n",
       "                                                   'month', 'weekday'])])),\n",
       "                ('train', DecisionTreeClassifier())])"
      ]
     },
     "execution_count": 44,
     "metadata": {},
     "output_type": "execute_result"
    }
   ],
   "source": [
    "tree_classifier.fit(X=train_set, y=train_set.loc[:, \"disposition\"])"
   ]
  },
  {
   "cell_type": "code",
   "execution_count": 45,
   "id": "c1cbc6c2-36f9-4e35-bb93-bcaccc911947",
   "metadata": {
    "tags": []
   },
   "outputs": [
    {
     "data": {
      "text/html": [
       "<style>#sk-container-id-2 {color: black;}#sk-container-id-2 pre{padding: 0;}#sk-container-id-2 div.sk-toggleable {background-color: white;}#sk-container-id-2 label.sk-toggleable__label {cursor: pointer;display: block;width: 100%;margin-bottom: 0;padding: 0.3em;box-sizing: border-box;text-align: center;}#sk-container-id-2 label.sk-toggleable__label-arrow:before {content: \"▸\";float: left;margin-right: 0.25em;color: #696969;}#sk-container-id-2 label.sk-toggleable__label-arrow:hover:before {color: black;}#sk-container-id-2 div.sk-estimator:hover label.sk-toggleable__label-arrow:before {color: black;}#sk-container-id-2 div.sk-toggleable__content {max-height: 0;max-width: 0;overflow: hidden;text-align: left;background-color: #f0f8ff;}#sk-container-id-2 div.sk-toggleable__content pre {margin: 0.2em;color: black;border-radius: 0.25em;background-color: #f0f8ff;}#sk-container-id-2 input.sk-toggleable__control:checked~div.sk-toggleable__content {max-height: 200px;max-width: 100%;overflow: auto;}#sk-container-id-2 input.sk-toggleable__control:checked~label.sk-toggleable__label-arrow:before {content: \"▾\";}#sk-container-id-2 div.sk-estimator input.sk-toggleable__control:checked~label.sk-toggleable__label {background-color: #d4ebff;}#sk-container-id-2 div.sk-label input.sk-toggleable__control:checked~label.sk-toggleable__label {background-color: #d4ebff;}#sk-container-id-2 input.sk-hidden--visually {border: 0;clip: rect(1px 1px 1px 1px);clip: rect(1px, 1px, 1px, 1px);height: 1px;margin: -1px;overflow: hidden;padding: 0;position: absolute;width: 1px;}#sk-container-id-2 div.sk-estimator {font-family: monospace;background-color: #f0f8ff;border: 1px dotted black;border-radius: 0.25em;box-sizing: border-box;margin-bottom: 0.5em;}#sk-container-id-2 div.sk-estimator:hover {background-color: #d4ebff;}#sk-container-id-2 div.sk-parallel-item::after {content: \"\";width: 100%;border-bottom: 1px solid gray;flex-grow: 1;}#sk-container-id-2 div.sk-label:hover label.sk-toggleable__label {background-color: #d4ebff;}#sk-container-id-2 div.sk-serial::before {content: \"\";position: absolute;border-left: 1px solid gray;box-sizing: border-box;top: 0;bottom: 0;left: 50%;z-index: 0;}#sk-container-id-2 div.sk-serial {display: flex;flex-direction: column;align-items: center;background-color: white;padding-right: 0.2em;padding-left: 0.2em;position: relative;}#sk-container-id-2 div.sk-item {position: relative;z-index: 1;}#sk-container-id-2 div.sk-parallel {display: flex;align-items: stretch;justify-content: center;background-color: white;position: relative;}#sk-container-id-2 div.sk-item::before, #sk-container-id-2 div.sk-parallel-item::before {content: \"\";position: absolute;border-left: 1px solid gray;box-sizing: border-box;top: 0;bottom: 0;left: 50%;z-index: -1;}#sk-container-id-2 div.sk-parallel-item {display: flex;flex-direction: column;z-index: 1;position: relative;background-color: white;}#sk-container-id-2 div.sk-parallel-item:first-child::after {align-self: flex-end;width: 50%;}#sk-container-id-2 div.sk-parallel-item:last-child::after {align-self: flex-start;width: 50%;}#sk-container-id-2 div.sk-parallel-item:only-child::after {width: 0;}#sk-container-id-2 div.sk-dashed-wrapped {border: 1px dashed gray;margin: 0 0.4em 0.5em 0.4em;box-sizing: border-box;padding-bottom: 0.4em;background-color: white;}#sk-container-id-2 div.sk-label label {font-family: monospace;font-weight: bold;display: inline-block;line-height: 1.2em;}#sk-container-id-2 div.sk-label-container {text-align: center;}#sk-container-id-2 div.sk-container {/* jupyter's `normalize.less` sets `[hidden] { display: none; }` but bootstrap.min.css set `[hidden] { display: none !important; }` so we also need the `!important` here to be able to override the default hidden behavior on the sphinx rendered scikit-learn.org. See: https://github.com/scikit-learn/scikit-learn/issues/21755 */display: inline-block !important;position: relative;}#sk-container-id-2 div.sk-text-repr-fallback {display: none;}</style><div id=\"sk-container-id-2\" class=\"sk-top-container\"><div class=\"sk-text-repr-fallback\"><pre>Pipeline(steps=[(&#x27;preprocess&#x27;,\n",
       "                 ColumnTransformer(transformers=[(&#x27;age&#x27;,\n",
       "                                                  Pipeline(steps=[(&#x27;impute&#x27;,\n",
       "                                                                   SimpleImputer(missing_values=-1,\n",
       "                                                                                 strategy=&#x27;median&#x27;)),\n",
       "                                                                  (&#x27;standardize&#x27;,\n",
       "                                                                   StandardScaler())]),\n",
       "                                                  [&#x27;victim_age&#x27;]),\n",
       "                                                 (&#x27;coordinates&#x27;,\n",
       "                                                  Pipeline(steps=[(&#x27;impute&#x27;,\n",
       "                                                                   SimpleImputer(strategy=&#x27;median&#x27;)),\n",
       "                                                                  (&#x27;standardize&#x27;,\n",
       "                                                                   StandardScaler())]),\n",
       "                                                  [&#x27;lat&#x27;, &#x27;lon&#x27;]),\n",
       "                                                 (&#x27;delta_days&#x27;,\n",
       "                                                  Pipeline(steps=[(&#x27;standardize&#x27;,\n",
       "                                                                   StandardScaler())]),\n",
       "                                                  [&#x27;delta_days&#x27;]),\n",
       "                                                 (&#x27;onehot&#x27;,\n",
       "                                                  Pipeline(steps=[(&#x27;onehot&#x27;,\n",
       "                                                                   OneHotEncoder(sparse_output=False))]),\n",
       "                                                  [&#x27;victim_race&#x27;, &#x27;victim_sex&#x27;,\n",
       "                                                   &#x27;month&#x27;, &#x27;weekday&#x27;])])),\n",
       "                (&#x27;train&#x27;, BaggingClassifier())])</pre><b>In a Jupyter environment, please rerun this cell to show the HTML representation or trust the notebook. <br />On GitHub, the HTML representation is unable to render, please try loading this page with nbviewer.org.</b></div><div class=\"sk-container\" hidden><div class=\"sk-item sk-dashed-wrapped\"><div class=\"sk-label-container\"><div class=\"sk-label sk-toggleable\"><input class=\"sk-toggleable__control sk-hidden--visually\" id=\"sk-estimator-id-14\" type=\"checkbox\" ><label for=\"sk-estimator-id-14\" class=\"sk-toggleable__label sk-toggleable__label-arrow\">Pipeline</label><div class=\"sk-toggleable__content\"><pre>Pipeline(steps=[(&#x27;preprocess&#x27;,\n",
       "                 ColumnTransformer(transformers=[(&#x27;age&#x27;,\n",
       "                                                  Pipeline(steps=[(&#x27;impute&#x27;,\n",
       "                                                                   SimpleImputer(missing_values=-1,\n",
       "                                                                                 strategy=&#x27;median&#x27;)),\n",
       "                                                                  (&#x27;standardize&#x27;,\n",
       "                                                                   StandardScaler())]),\n",
       "                                                  [&#x27;victim_age&#x27;]),\n",
       "                                                 (&#x27;coordinates&#x27;,\n",
       "                                                  Pipeline(steps=[(&#x27;impute&#x27;,\n",
       "                                                                   SimpleImputer(strategy=&#x27;median&#x27;)),\n",
       "                                                                  (&#x27;standardize&#x27;,\n",
       "                                                                   StandardScaler())]),\n",
       "                                                  [&#x27;lat&#x27;, &#x27;lon&#x27;]),\n",
       "                                                 (&#x27;delta_days&#x27;,\n",
       "                                                  Pipeline(steps=[(&#x27;standardize&#x27;,\n",
       "                                                                   StandardScaler())]),\n",
       "                                                  [&#x27;delta_days&#x27;]),\n",
       "                                                 (&#x27;onehot&#x27;,\n",
       "                                                  Pipeline(steps=[(&#x27;onehot&#x27;,\n",
       "                                                                   OneHotEncoder(sparse_output=False))]),\n",
       "                                                  [&#x27;victim_race&#x27;, &#x27;victim_sex&#x27;,\n",
       "                                                   &#x27;month&#x27;, &#x27;weekday&#x27;])])),\n",
       "                (&#x27;train&#x27;, BaggingClassifier())])</pre></div></div></div><div class=\"sk-serial\"><div class=\"sk-item sk-dashed-wrapped\"><div class=\"sk-label-container\"><div class=\"sk-label sk-toggleable\"><input class=\"sk-toggleable__control sk-hidden--visually\" id=\"sk-estimator-id-15\" type=\"checkbox\" ><label for=\"sk-estimator-id-15\" class=\"sk-toggleable__label sk-toggleable__label-arrow\">preprocess: ColumnTransformer</label><div class=\"sk-toggleable__content\"><pre>ColumnTransformer(transformers=[(&#x27;age&#x27;,\n",
       "                                 Pipeline(steps=[(&#x27;impute&#x27;,\n",
       "                                                  SimpleImputer(missing_values=-1,\n",
       "                                                                strategy=&#x27;median&#x27;)),\n",
       "                                                 (&#x27;standardize&#x27;,\n",
       "                                                  StandardScaler())]),\n",
       "                                 [&#x27;victim_age&#x27;]),\n",
       "                                (&#x27;coordinates&#x27;,\n",
       "                                 Pipeline(steps=[(&#x27;impute&#x27;,\n",
       "                                                  SimpleImputer(strategy=&#x27;median&#x27;)),\n",
       "                                                 (&#x27;standardize&#x27;,\n",
       "                                                  StandardScaler())]),\n",
       "                                 [&#x27;lat&#x27;, &#x27;lon&#x27;]),\n",
       "                                (&#x27;delta_days&#x27;,\n",
       "                                 Pipeline(steps=[(&#x27;standardize&#x27;,\n",
       "                                                  StandardScaler())]),\n",
       "                                 [&#x27;delta_days&#x27;]),\n",
       "                                (&#x27;onehot&#x27;,\n",
       "                                 Pipeline(steps=[(&#x27;onehot&#x27;,\n",
       "                                                  OneHotEncoder(sparse_output=False))]),\n",
       "                                 [&#x27;victim_race&#x27;, &#x27;victim_sex&#x27;, &#x27;month&#x27;,\n",
       "                                  &#x27;weekday&#x27;])])</pre></div></div></div><div class=\"sk-parallel\"><div class=\"sk-parallel-item\"><div class=\"sk-item\"><div class=\"sk-label-container\"><div class=\"sk-label sk-toggleable\"><input class=\"sk-toggleable__control sk-hidden--visually\" id=\"sk-estimator-id-16\" type=\"checkbox\" ><label for=\"sk-estimator-id-16\" class=\"sk-toggleable__label sk-toggleable__label-arrow\">age</label><div class=\"sk-toggleable__content\"><pre>[&#x27;victim_age&#x27;]</pre></div></div></div><div class=\"sk-serial\"><div class=\"sk-item\"><div class=\"sk-serial\"><div class=\"sk-item\"><div class=\"sk-estimator sk-toggleable\"><input class=\"sk-toggleable__control sk-hidden--visually\" id=\"sk-estimator-id-17\" type=\"checkbox\" ><label for=\"sk-estimator-id-17\" class=\"sk-toggleable__label sk-toggleable__label-arrow\">SimpleImputer</label><div class=\"sk-toggleable__content\"><pre>SimpleImputer(missing_values=-1, strategy=&#x27;median&#x27;)</pre></div></div></div><div class=\"sk-item\"><div class=\"sk-estimator sk-toggleable\"><input class=\"sk-toggleable__control sk-hidden--visually\" id=\"sk-estimator-id-18\" type=\"checkbox\" ><label for=\"sk-estimator-id-18\" class=\"sk-toggleable__label sk-toggleable__label-arrow\">StandardScaler</label><div class=\"sk-toggleable__content\"><pre>StandardScaler()</pre></div></div></div></div></div></div></div></div><div class=\"sk-parallel-item\"><div class=\"sk-item\"><div class=\"sk-label-container\"><div class=\"sk-label sk-toggleable\"><input class=\"sk-toggleable__control sk-hidden--visually\" id=\"sk-estimator-id-19\" type=\"checkbox\" ><label for=\"sk-estimator-id-19\" class=\"sk-toggleable__label sk-toggleable__label-arrow\">coordinates</label><div class=\"sk-toggleable__content\"><pre>[&#x27;lat&#x27;, &#x27;lon&#x27;]</pre></div></div></div><div class=\"sk-serial\"><div class=\"sk-item\"><div class=\"sk-serial\"><div class=\"sk-item\"><div class=\"sk-estimator sk-toggleable\"><input class=\"sk-toggleable__control sk-hidden--visually\" id=\"sk-estimator-id-20\" type=\"checkbox\" ><label for=\"sk-estimator-id-20\" class=\"sk-toggleable__label sk-toggleable__label-arrow\">SimpleImputer</label><div class=\"sk-toggleable__content\"><pre>SimpleImputer(strategy=&#x27;median&#x27;)</pre></div></div></div><div class=\"sk-item\"><div class=\"sk-estimator sk-toggleable\"><input class=\"sk-toggleable__control sk-hidden--visually\" id=\"sk-estimator-id-21\" type=\"checkbox\" ><label for=\"sk-estimator-id-21\" class=\"sk-toggleable__label sk-toggleable__label-arrow\">StandardScaler</label><div class=\"sk-toggleable__content\"><pre>StandardScaler()</pre></div></div></div></div></div></div></div></div><div class=\"sk-parallel-item\"><div class=\"sk-item\"><div class=\"sk-label-container\"><div class=\"sk-label sk-toggleable\"><input class=\"sk-toggleable__control sk-hidden--visually\" id=\"sk-estimator-id-22\" type=\"checkbox\" ><label for=\"sk-estimator-id-22\" class=\"sk-toggleable__label sk-toggleable__label-arrow\">delta_days</label><div class=\"sk-toggleable__content\"><pre>[&#x27;delta_days&#x27;]</pre></div></div></div><div class=\"sk-serial\"><div class=\"sk-item\"><div class=\"sk-serial\"><div class=\"sk-item\"><div class=\"sk-estimator sk-toggleable\"><input class=\"sk-toggleable__control sk-hidden--visually\" id=\"sk-estimator-id-23\" type=\"checkbox\" ><label for=\"sk-estimator-id-23\" class=\"sk-toggleable__label sk-toggleable__label-arrow\">StandardScaler</label><div class=\"sk-toggleable__content\"><pre>StandardScaler()</pre></div></div></div></div></div></div></div></div><div class=\"sk-parallel-item\"><div class=\"sk-item\"><div class=\"sk-label-container\"><div class=\"sk-label sk-toggleable\"><input class=\"sk-toggleable__control sk-hidden--visually\" id=\"sk-estimator-id-24\" type=\"checkbox\" ><label for=\"sk-estimator-id-24\" class=\"sk-toggleable__label sk-toggleable__label-arrow\">onehot</label><div class=\"sk-toggleable__content\"><pre>[&#x27;victim_race&#x27;, &#x27;victim_sex&#x27;, &#x27;month&#x27;, &#x27;weekday&#x27;]</pre></div></div></div><div class=\"sk-serial\"><div class=\"sk-item\"><div class=\"sk-serial\"><div class=\"sk-item\"><div class=\"sk-estimator sk-toggleable\"><input class=\"sk-toggleable__control sk-hidden--visually\" id=\"sk-estimator-id-25\" type=\"checkbox\" ><label for=\"sk-estimator-id-25\" class=\"sk-toggleable__label sk-toggleable__label-arrow\">OneHotEncoder</label><div class=\"sk-toggleable__content\"><pre>OneHotEncoder(sparse_output=False)</pre></div></div></div></div></div></div></div></div></div></div><div class=\"sk-item\"><div class=\"sk-estimator sk-toggleable\"><input class=\"sk-toggleable__control sk-hidden--visually\" id=\"sk-estimator-id-26\" type=\"checkbox\" ><label for=\"sk-estimator-id-26\" class=\"sk-toggleable__label sk-toggleable__label-arrow\">BaggingClassifier</label><div class=\"sk-toggleable__content\"><pre>BaggingClassifier()</pre></div></div></div></div></div></div></div>"
      ],
      "text/plain": [
       "Pipeline(steps=[('preprocess',\n",
       "                 ColumnTransformer(transformers=[('age',\n",
       "                                                  Pipeline(steps=[('impute',\n",
       "                                                                   SimpleImputer(missing_values=-1,\n",
       "                                                                                 strategy='median')),\n",
       "                                                                  ('standardize',\n",
       "                                                                   StandardScaler())]),\n",
       "                                                  ['victim_age']),\n",
       "                                                 ('coordinates',\n",
       "                                                  Pipeline(steps=[('impute',\n",
       "                                                                   SimpleImputer(strategy='median')),\n",
       "                                                                  ('standardize',\n",
       "                                                                   StandardScaler())]),\n",
       "                                                  ['lat', 'lon']),\n",
       "                                                 ('delta_days',\n",
       "                                                  Pipeline(steps=[('standardize',\n",
       "                                                                   StandardScaler())]),\n",
       "                                                  ['delta_days']),\n",
       "                                                 ('onehot',\n",
       "                                                  Pipeline(steps=[('onehot',\n",
       "                                                                   OneHotEncoder(sparse_output=False))]),\n",
       "                                                  ['victim_race', 'victim_sex',\n",
       "                                                   'month', 'weekday'])])),\n",
       "                ('train', BaggingClassifier())])"
      ]
     },
     "execution_count": 45,
     "metadata": {},
     "output_type": "execute_result"
    }
   ],
   "source": [
    "bagging_classifier.fit(train_set, train_set[\"disposition\"])"
   ]
  },
  {
   "cell_type": "code",
   "execution_count": 118,
   "id": "44d23dbd-bff8-415d-b73a-f8c3c4aa52b4",
   "metadata": {
    "tags": []
   },
   "outputs": [
    {
     "data": {
      "text/html": [
       "<style>#sk-container-id-9 {color: black;}#sk-container-id-9 pre{padding: 0;}#sk-container-id-9 div.sk-toggleable {background-color: white;}#sk-container-id-9 label.sk-toggleable__label {cursor: pointer;display: block;width: 100%;margin-bottom: 0;padding: 0.3em;box-sizing: border-box;text-align: center;}#sk-container-id-9 label.sk-toggleable__label-arrow:before {content: \"▸\";float: left;margin-right: 0.25em;color: #696969;}#sk-container-id-9 label.sk-toggleable__label-arrow:hover:before {color: black;}#sk-container-id-9 div.sk-estimator:hover label.sk-toggleable__label-arrow:before {color: black;}#sk-container-id-9 div.sk-toggleable__content {max-height: 0;max-width: 0;overflow: hidden;text-align: left;background-color: #f0f8ff;}#sk-container-id-9 div.sk-toggleable__content pre {margin: 0.2em;color: black;border-radius: 0.25em;background-color: #f0f8ff;}#sk-container-id-9 input.sk-toggleable__control:checked~div.sk-toggleable__content {max-height: 200px;max-width: 100%;overflow: auto;}#sk-container-id-9 input.sk-toggleable__control:checked~label.sk-toggleable__label-arrow:before {content: \"▾\";}#sk-container-id-9 div.sk-estimator input.sk-toggleable__control:checked~label.sk-toggleable__label {background-color: #d4ebff;}#sk-container-id-9 div.sk-label input.sk-toggleable__control:checked~label.sk-toggleable__label {background-color: #d4ebff;}#sk-container-id-9 input.sk-hidden--visually {border: 0;clip: rect(1px 1px 1px 1px);clip: rect(1px, 1px, 1px, 1px);height: 1px;margin: -1px;overflow: hidden;padding: 0;position: absolute;width: 1px;}#sk-container-id-9 div.sk-estimator {font-family: monospace;background-color: #f0f8ff;border: 1px dotted black;border-radius: 0.25em;box-sizing: border-box;margin-bottom: 0.5em;}#sk-container-id-9 div.sk-estimator:hover {background-color: #d4ebff;}#sk-container-id-9 div.sk-parallel-item::after {content: \"\";width: 100%;border-bottom: 1px solid gray;flex-grow: 1;}#sk-container-id-9 div.sk-label:hover label.sk-toggleable__label {background-color: #d4ebff;}#sk-container-id-9 div.sk-serial::before {content: \"\";position: absolute;border-left: 1px solid gray;box-sizing: border-box;top: 0;bottom: 0;left: 50%;z-index: 0;}#sk-container-id-9 div.sk-serial {display: flex;flex-direction: column;align-items: center;background-color: white;padding-right: 0.2em;padding-left: 0.2em;position: relative;}#sk-container-id-9 div.sk-item {position: relative;z-index: 1;}#sk-container-id-9 div.sk-parallel {display: flex;align-items: stretch;justify-content: center;background-color: white;position: relative;}#sk-container-id-9 div.sk-item::before, #sk-container-id-9 div.sk-parallel-item::before {content: \"\";position: absolute;border-left: 1px solid gray;box-sizing: border-box;top: 0;bottom: 0;left: 50%;z-index: -1;}#sk-container-id-9 div.sk-parallel-item {display: flex;flex-direction: column;z-index: 1;position: relative;background-color: white;}#sk-container-id-9 div.sk-parallel-item:first-child::after {align-self: flex-end;width: 50%;}#sk-container-id-9 div.sk-parallel-item:last-child::after {align-self: flex-start;width: 50%;}#sk-container-id-9 div.sk-parallel-item:only-child::after {width: 0;}#sk-container-id-9 div.sk-dashed-wrapped {border: 1px dashed gray;margin: 0 0.4em 0.5em 0.4em;box-sizing: border-box;padding-bottom: 0.4em;background-color: white;}#sk-container-id-9 div.sk-label label {font-family: monospace;font-weight: bold;display: inline-block;line-height: 1.2em;}#sk-container-id-9 div.sk-label-container {text-align: center;}#sk-container-id-9 div.sk-container {/* jupyter's `normalize.less` sets `[hidden] { display: none; }` but bootstrap.min.css set `[hidden] { display: none !important; }` so we also need the `!important` here to be able to override the default hidden behavior on the sphinx rendered scikit-learn.org. See: https://github.com/scikit-learn/scikit-learn/issues/21755 */display: inline-block !important;position: relative;}#sk-container-id-9 div.sk-text-repr-fallback {display: none;}</style><div id=\"sk-container-id-9\" class=\"sk-top-container\"><div class=\"sk-text-repr-fallback\"><pre>Pipeline(steps=[(&#x27;preprocess&#x27;,\n",
       "                 ColumnTransformer(transformers=[(&#x27;age&#x27;,\n",
       "                                                  Pipeline(steps=[(&#x27;impute&#x27;,\n",
       "                                                                   SimpleImputer(missing_values=-1,\n",
       "                                                                                 strategy=&#x27;median&#x27;)),\n",
       "                                                                  (&#x27;standardize&#x27;,\n",
       "                                                                   StandardScaler())]),\n",
       "                                                  [&#x27;victim_age&#x27;]),\n",
       "                                                 (&#x27;coordinates&#x27;,\n",
       "                                                  Pipeline(steps=[(&#x27;impute&#x27;,\n",
       "                                                                   SimpleImputer(strategy=&#x27;median&#x27;)),\n",
       "                                                                  (&#x27;standardize&#x27;,\n",
       "                                                                   StandardScaler())]),\n",
       "                                                  [&#x27;lat&#x27;, &#x27;lon&#x27;]),\n",
       "                                                 (&#x27;delta_days&#x27;,\n",
       "                                                  Pipeline(steps=[(&#x27;standardize&#x27;,\n",
       "                                                                   StandardScaler())]),\n",
       "                                                  [&#x27;delta_days&#x27;]),\n",
       "                                                 (&#x27;onehot&#x27;,\n",
       "                                                  Pipeline(steps=[(&#x27;onehot&#x27;,\n",
       "                                                                   OneHotEncoder(sparse_output=False))]),\n",
       "                                                  [&#x27;victim_race&#x27;, &#x27;victim_sex&#x27;,\n",
       "                                                   &#x27;month&#x27;, &#x27;weekday&#x27;])])),\n",
       "                (&#x27;train&#x27;, GradientBoostingClassifier(learning_rate=0.2))])</pre><b>In a Jupyter environment, please rerun this cell to show the HTML representation or trust the notebook. <br />On GitHub, the HTML representation is unable to render, please try loading this page with nbviewer.org.</b></div><div class=\"sk-container\" hidden><div class=\"sk-item sk-dashed-wrapped\"><div class=\"sk-label-container\"><div class=\"sk-label sk-toggleable\"><input class=\"sk-toggleable__control sk-hidden--visually\" id=\"sk-estimator-id-110\" type=\"checkbox\" ><label for=\"sk-estimator-id-110\" class=\"sk-toggleable__label sk-toggleable__label-arrow\">Pipeline</label><div class=\"sk-toggleable__content\"><pre>Pipeline(steps=[(&#x27;preprocess&#x27;,\n",
       "                 ColumnTransformer(transformers=[(&#x27;age&#x27;,\n",
       "                                                  Pipeline(steps=[(&#x27;impute&#x27;,\n",
       "                                                                   SimpleImputer(missing_values=-1,\n",
       "                                                                                 strategy=&#x27;median&#x27;)),\n",
       "                                                                  (&#x27;standardize&#x27;,\n",
       "                                                                   StandardScaler())]),\n",
       "                                                  [&#x27;victim_age&#x27;]),\n",
       "                                                 (&#x27;coordinates&#x27;,\n",
       "                                                  Pipeline(steps=[(&#x27;impute&#x27;,\n",
       "                                                                   SimpleImputer(strategy=&#x27;median&#x27;)),\n",
       "                                                                  (&#x27;standardize&#x27;,\n",
       "                                                                   StandardScaler())]),\n",
       "                                                  [&#x27;lat&#x27;, &#x27;lon&#x27;]),\n",
       "                                                 (&#x27;delta_days&#x27;,\n",
       "                                                  Pipeline(steps=[(&#x27;standardize&#x27;,\n",
       "                                                                   StandardScaler())]),\n",
       "                                                  [&#x27;delta_days&#x27;]),\n",
       "                                                 (&#x27;onehot&#x27;,\n",
       "                                                  Pipeline(steps=[(&#x27;onehot&#x27;,\n",
       "                                                                   OneHotEncoder(sparse_output=False))]),\n",
       "                                                  [&#x27;victim_race&#x27;, &#x27;victim_sex&#x27;,\n",
       "                                                   &#x27;month&#x27;, &#x27;weekday&#x27;])])),\n",
       "                (&#x27;train&#x27;, GradientBoostingClassifier(learning_rate=0.2))])</pre></div></div></div><div class=\"sk-serial\"><div class=\"sk-item sk-dashed-wrapped\"><div class=\"sk-label-container\"><div class=\"sk-label sk-toggleable\"><input class=\"sk-toggleable__control sk-hidden--visually\" id=\"sk-estimator-id-111\" type=\"checkbox\" ><label for=\"sk-estimator-id-111\" class=\"sk-toggleable__label sk-toggleable__label-arrow\">preprocess: ColumnTransformer</label><div class=\"sk-toggleable__content\"><pre>ColumnTransformer(transformers=[(&#x27;age&#x27;,\n",
       "                                 Pipeline(steps=[(&#x27;impute&#x27;,\n",
       "                                                  SimpleImputer(missing_values=-1,\n",
       "                                                                strategy=&#x27;median&#x27;)),\n",
       "                                                 (&#x27;standardize&#x27;,\n",
       "                                                  StandardScaler())]),\n",
       "                                 [&#x27;victim_age&#x27;]),\n",
       "                                (&#x27;coordinates&#x27;,\n",
       "                                 Pipeline(steps=[(&#x27;impute&#x27;,\n",
       "                                                  SimpleImputer(strategy=&#x27;median&#x27;)),\n",
       "                                                 (&#x27;standardize&#x27;,\n",
       "                                                  StandardScaler())]),\n",
       "                                 [&#x27;lat&#x27;, &#x27;lon&#x27;]),\n",
       "                                (&#x27;delta_days&#x27;,\n",
       "                                 Pipeline(steps=[(&#x27;standardize&#x27;,\n",
       "                                                  StandardScaler())]),\n",
       "                                 [&#x27;delta_days&#x27;]),\n",
       "                                (&#x27;onehot&#x27;,\n",
       "                                 Pipeline(steps=[(&#x27;onehot&#x27;,\n",
       "                                                  OneHotEncoder(sparse_output=False))]),\n",
       "                                 [&#x27;victim_race&#x27;, &#x27;victim_sex&#x27;, &#x27;month&#x27;,\n",
       "                                  &#x27;weekday&#x27;])])</pre></div></div></div><div class=\"sk-parallel\"><div class=\"sk-parallel-item\"><div class=\"sk-item\"><div class=\"sk-label-container\"><div class=\"sk-label sk-toggleable\"><input class=\"sk-toggleable__control sk-hidden--visually\" id=\"sk-estimator-id-112\" type=\"checkbox\" ><label for=\"sk-estimator-id-112\" class=\"sk-toggleable__label sk-toggleable__label-arrow\">age</label><div class=\"sk-toggleable__content\"><pre>[&#x27;victim_age&#x27;]</pre></div></div></div><div class=\"sk-serial\"><div class=\"sk-item\"><div class=\"sk-serial\"><div class=\"sk-item\"><div class=\"sk-estimator sk-toggleable\"><input class=\"sk-toggleable__control sk-hidden--visually\" id=\"sk-estimator-id-113\" type=\"checkbox\" ><label for=\"sk-estimator-id-113\" class=\"sk-toggleable__label sk-toggleable__label-arrow\">SimpleImputer</label><div class=\"sk-toggleable__content\"><pre>SimpleImputer(missing_values=-1, strategy=&#x27;median&#x27;)</pre></div></div></div><div class=\"sk-item\"><div class=\"sk-estimator sk-toggleable\"><input class=\"sk-toggleable__control sk-hidden--visually\" id=\"sk-estimator-id-114\" type=\"checkbox\" ><label for=\"sk-estimator-id-114\" class=\"sk-toggleable__label sk-toggleable__label-arrow\">StandardScaler</label><div class=\"sk-toggleable__content\"><pre>StandardScaler()</pre></div></div></div></div></div></div></div></div><div class=\"sk-parallel-item\"><div class=\"sk-item\"><div class=\"sk-label-container\"><div class=\"sk-label sk-toggleable\"><input class=\"sk-toggleable__control sk-hidden--visually\" id=\"sk-estimator-id-115\" type=\"checkbox\" ><label for=\"sk-estimator-id-115\" class=\"sk-toggleable__label sk-toggleable__label-arrow\">coordinates</label><div class=\"sk-toggleable__content\"><pre>[&#x27;lat&#x27;, &#x27;lon&#x27;]</pre></div></div></div><div class=\"sk-serial\"><div class=\"sk-item\"><div class=\"sk-serial\"><div class=\"sk-item\"><div class=\"sk-estimator sk-toggleable\"><input class=\"sk-toggleable__control sk-hidden--visually\" id=\"sk-estimator-id-116\" type=\"checkbox\" ><label for=\"sk-estimator-id-116\" class=\"sk-toggleable__label sk-toggleable__label-arrow\">SimpleImputer</label><div class=\"sk-toggleable__content\"><pre>SimpleImputer(strategy=&#x27;median&#x27;)</pre></div></div></div><div class=\"sk-item\"><div class=\"sk-estimator sk-toggleable\"><input class=\"sk-toggleable__control sk-hidden--visually\" id=\"sk-estimator-id-117\" type=\"checkbox\" ><label for=\"sk-estimator-id-117\" class=\"sk-toggleable__label sk-toggleable__label-arrow\">StandardScaler</label><div class=\"sk-toggleable__content\"><pre>StandardScaler()</pre></div></div></div></div></div></div></div></div><div class=\"sk-parallel-item\"><div class=\"sk-item\"><div class=\"sk-label-container\"><div class=\"sk-label sk-toggleable\"><input class=\"sk-toggleable__control sk-hidden--visually\" id=\"sk-estimator-id-118\" type=\"checkbox\" ><label for=\"sk-estimator-id-118\" class=\"sk-toggleable__label sk-toggleable__label-arrow\">delta_days</label><div class=\"sk-toggleable__content\"><pre>[&#x27;delta_days&#x27;]</pre></div></div></div><div class=\"sk-serial\"><div class=\"sk-item\"><div class=\"sk-serial\"><div class=\"sk-item\"><div class=\"sk-estimator sk-toggleable\"><input class=\"sk-toggleable__control sk-hidden--visually\" id=\"sk-estimator-id-119\" type=\"checkbox\" ><label for=\"sk-estimator-id-119\" class=\"sk-toggleable__label sk-toggleable__label-arrow\">StandardScaler</label><div class=\"sk-toggleable__content\"><pre>StandardScaler()</pre></div></div></div></div></div></div></div></div><div class=\"sk-parallel-item\"><div class=\"sk-item\"><div class=\"sk-label-container\"><div class=\"sk-label sk-toggleable\"><input class=\"sk-toggleable__control sk-hidden--visually\" id=\"sk-estimator-id-120\" type=\"checkbox\" ><label for=\"sk-estimator-id-120\" class=\"sk-toggleable__label sk-toggleable__label-arrow\">onehot</label><div class=\"sk-toggleable__content\"><pre>[&#x27;victim_race&#x27;, &#x27;victim_sex&#x27;, &#x27;month&#x27;, &#x27;weekday&#x27;]</pre></div></div></div><div class=\"sk-serial\"><div class=\"sk-item\"><div class=\"sk-serial\"><div class=\"sk-item\"><div class=\"sk-estimator sk-toggleable\"><input class=\"sk-toggleable__control sk-hidden--visually\" id=\"sk-estimator-id-121\" type=\"checkbox\" ><label for=\"sk-estimator-id-121\" class=\"sk-toggleable__label sk-toggleable__label-arrow\">OneHotEncoder</label><div class=\"sk-toggleable__content\"><pre>OneHotEncoder(sparse_output=False)</pre></div></div></div></div></div></div></div></div></div></div><div class=\"sk-item\"><div class=\"sk-estimator sk-toggleable\"><input class=\"sk-toggleable__control sk-hidden--visually\" id=\"sk-estimator-id-122\" type=\"checkbox\" ><label for=\"sk-estimator-id-122\" class=\"sk-toggleable__label sk-toggleable__label-arrow\">GradientBoostingClassifier</label><div class=\"sk-toggleable__content\"><pre>GradientBoostingClassifier(learning_rate=0.2)</pre></div></div></div></div></div></div></div>"
      ],
      "text/plain": [
       "Pipeline(steps=[('preprocess',\n",
       "                 ColumnTransformer(transformers=[('age',\n",
       "                                                  Pipeline(steps=[('impute',\n",
       "                                                                   SimpleImputer(missing_values=-1,\n",
       "                                                                                 strategy='median')),\n",
       "                                                                  ('standardize',\n",
       "                                                                   StandardScaler())]),\n",
       "                                                  ['victim_age']),\n",
       "                                                 ('coordinates',\n",
       "                                                  Pipeline(steps=[('impute',\n",
       "                                                                   SimpleImputer(strategy='median')),\n",
       "                                                                  ('standardize',\n",
       "                                                                   StandardScaler())]),\n",
       "                                                  ['lat', 'lon']),\n",
       "                                                 ('delta_days',\n",
       "                                                  Pipeline(steps=[('standardize',\n",
       "                                                                   StandardScaler())]),\n",
       "                                                  ['delta_days']),\n",
       "                                                 ('onehot',\n",
       "                                                  Pipeline(steps=[('onehot',\n",
       "                                                                   OneHotEncoder(sparse_output=False))]),\n",
       "                                                  ['victim_race', 'victim_sex',\n",
       "                                                   'month', 'weekday'])])),\n",
       "                ('train', GradientBoostingClassifier(learning_rate=0.2))])"
      ]
     },
     "execution_count": 118,
     "metadata": {},
     "output_type": "execute_result"
    }
   ],
   "source": [
    "gradient_boosting_classifier.fit(train_set, train_set[\"disposition\"])"
   ]
  },
  {
   "cell_type": "code",
   "execution_count": 119,
   "id": "4e9e1fe8-587c-4bc8-a8c6-cedb5e5b9ef2",
   "metadata": {
    "tags": []
   },
   "outputs": [
    {
     "data": {
      "text/html": [
       "<style>#sk-container-id-10 {color: black;}#sk-container-id-10 pre{padding: 0;}#sk-container-id-10 div.sk-toggleable {background-color: white;}#sk-container-id-10 label.sk-toggleable__label {cursor: pointer;display: block;width: 100%;margin-bottom: 0;padding: 0.3em;box-sizing: border-box;text-align: center;}#sk-container-id-10 label.sk-toggleable__label-arrow:before {content: \"▸\";float: left;margin-right: 0.25em;color: #696969;}#sk-container-id-10 label.sk-toggleable__label-arrow:hover:before {color: black;}#sk-container-id-10 div.sk-estimator:hover label.sk-toggleable__label-arrow:before {color: black;}#sk-container-id-10 div.sk-toggleable__content {max-height: 0;max-width: 0;overflow: hidden;text-align: left;background-color: #f0f8ff;}#sk-container-id-10 div.sk-toggleable__content pre {margin: 0.2em;color: black;border-radius: 0.25em;background-color: #f0f8ff;}#sk-container-id-10 input.sk-toggleable__control:checked~div.sk-toggleable__content {max-height: 200px;max-width: 100%;overflow: auto;}#sk-container-id-10 input.sk-toggleable__control:checked~label.sk-toggleable__label-arrow:before {content: \"▾\";}#sk-container-id-10 div.sk-estimator input.sk-toggleable__control:checked~label.sk-toggleable__label {background-color: #d4ebff;}#sk-container-id-10 div.sk-label input.sk-toggleable__control:checked~label.sk-toggleable__label {background-color: #d4ebff;}#sk-container-id-10 input.sk-hidden--visually {border: 0;clip: rect(1px 1px 1px 1px);clip: rect(1px, 1px, 1px, 1px);height: 1px;margin: -1px;overflow: hidden;padding: 0;position: absolute;width: 1px;}#sk-container-id-10 div.sk-estimator {font-family: monospace;background-color: #f0f8ff;border: 1px dotted black;border-radius: 0.25em;box-sizing: border-box;margin-bottom: 0.5em;}#sk-container-id-10 div.sk-estimator:hover {background-color: #d4ebff;}#sk-container-id-10 div.sk-parallel-item::after {content: \"\";width: 100%;border-bottom: 1px solid gray;flex-grow: 1;}#sk-container-id-10 div.sk-label:hover label.sk-toggleable__label {background-color: #d4ebff;}#sk-container-id-10 div.sk-serial::before {content: \"\";position: absolute;border-left: 1px solid gray;box-sizing: border-box;top: 0;bottom: 0;left: 50%;z-index: 0;}#sk-container-id-10 div.sk-serial {display: flex;flex-direction: column;align-items: center;background-color: white;padding-right: 0.2em;padding-left: 0.2em;position: relative;}#sk-container-id-10 div.sk-item {position: relative;z-index: 1;}#sk-container-id-10 div.sk-parallel {display: flex;align-items: stretch;justify-content: center;background-color: white;position: relative;}#sk-container-id-10 div.sk-item::before, #sk-container-id-10 div.sk-parallel-item::before {content: \"\";position: absolute;border-left: 1px solid gray;box-sizing: border-box;top: 0;bottom: 0;left: 50%;z-index: -1;}#sk-container-id-10 div.sk-parallel-item {display: flex;flex-direction: column;z-index: 1;position: relative;background-color: white;}#sk-container-id-10 div.sk-parallel-item:first-child::after {align-self: flex-end;width: 50%;}#sk-container-id-10 div.sk-parallel-item:last-child::after {align-self: flex-start;width: 50%;}#sk-container-id-10 div.sk-parallel-item:only-child::after {width: 0;}#sk-container-id-10 div.sk-dashed-wrapped {border: 1px dashed gray;margin: 0 0.4em 0.5em 0.4em;box-sizing: border-box;padding-bottom: 0.4em;background-color: white;}#sk-container-id-10 div.sk-label label {font-family: monospace;font-weight: bold;display: inline-block;line-height: 1.2em;}#sk-container-id-10 div.sk-label-container {text-align: center;}#sk-container-id-10 div.sk-container {/* jupyter's `normalize.less` sets `[hidden] { display: none; }` but bootstrap.min.css set `[hidden] { display: none !important; }` so we also need the `!important` here to be able to override the default hidden behavior on the sphinx rendered scikit-learn.org. See: https://github.com/scikit-learn/scikit-learn/issues/21755 */display: inline-block !important;position: relative;}#sk-container-id-10 div.sk-text-repr-fallback {display: none;}</style><div id=\"sk-container-id-10\" class=\"sk-top-container\"><div class=\"sk-text-repr-fallback\"><pre>Pipeline(steps=[(&#x27;preprocess&#x27;,\n",
       "                 ColumnTransformer(transformers=[(&#x27;age&#x27;,\n",
       "                                                  Pipeline(steps=[(&#x27;impute&#x27;,\n",
       "                                                                   SimpleImputer(missing_values=-1,\n",
       "                                                                                 strategy=&#x27;median&#x27;)),\n",
       "                                                                  (&#x27;standardize&#x27;,\n",
       "                                                                   StandardScaler())]),\n",
       "                                                  [&#x27;victim_age&#x27;]),\n",
       "                                                 (&#x27;coordinates&#x27;,\n",
       "                                                  Pipeline(steps=[(&#x27;impute&#x27;,\n",
       "                                                                   SimpleImputer(strategy=&#x27;median&#x27;)),\n",
       "                                                                  (&#x27;standardize&#x27;,\n",
       "                                                                   StandardScaler())]),\n",
       "                                                  [&#x27;lat&#x27;, &#x27;lon&#x27;]),\n",
       "                                                 (&#x27;delta_days&#x27;,\n",
       "                                                  Pipeline(steps=[(&#x27;standardize&#x27;,\n",
       "                                                                   StandardScaler())]),\n",
       "                                                  [&#x27;delta_days&#x27;]),\n",
       "                                                 (&#x27;onehot&#x27;,\n",
       "                                                  Pipeline(steps=[(&#x27;onehot&#x27;,\n",
       "                                                                   OneHotEncoder(sparse_output=False))]),\n",
       "                                                  [&#x27;victim_race&#x27;, &#x27;victim_sex&#x27;,\n",
       "                                                   &#x27;month&#x27;, &#x27;weekday&#x27;])])),\n",
       "                (&#x27;train&#x27;, GradientBoostingClassifier())])</pre><b>In a Jupyter environment, please rerun this cell to show the HTML representation or trust the notebook. <br />On GitHub, the HTML representation is unable to render, please try loading this page with nbviewer.org.</b></div><div class=\"sk-container\" hidden><div class=\"sk-item sk-dashed-wrapped\"><div class=\"sk-label-container\"><div class=\"sk-label sk-toggleable\"><input class=\"sk-toggleable__control sk-hidden--visually\" id=\"sk-estimator-id-123\" type=\"checkbox\" ><label for=\"sk-estimator-id-123\" class=\"sk-toggleable__label sk-toggleable__label-arrow\">Pipeline</label><div class=\"sk-toggleable__content\"><pre>Pipeline(steps=[(&#x27;preprocess&#x27;,\n",
       "                 ColumnTransformer(transformers=[(&#x27;age&#x27;,\n",
       "                                                  Pipeline(steps=[(&#x27;impute&#x27;,\n",
       "                                                                   SimpleImputer(missing_values=-1,\n",
       "                                                                                 strategy=&#x27;median&#x27;)),\n",
       "                                                                  (&#x27;standardize&#x27;,\n",
       "                                                                   StandardScaler())]),\n",
       "                                                  [&#x27;victim_age&#x27;]),\n",
       "                                                 (&#x27;coordinates&#x27;,\n",
       "                                                  Pipeline(steps=[(&#x27;impute&#x27;,\n",
       "                                                                   SimpleImputer(strategy=&#x27;median&#x27;)),\n",
       "                                                                  (&#x27;standardize&#x27;,\n",
       "                                                                   StandardScaler())]),\n",
       "                                                  [&#x27;lat&#x27;, &#x27;lon&#x27;]),\n",
       "                                                 (&#x27;delta_days&#x27;,\n",
       "                                                  Pipeline(steps=[(&#x27;standardize&#x27;,\n",
       "                                                                   StandardScaler())]),\n",
       "                                                  [&#x27;delta_days&#x27;]),\n",
       "                                                 (&#x27;onehot&#x27;,\n",
       "                                                  Pipeline(steps=[(&#x27;onehot&#x27;,\n",
       "                                                                   OneHotEncoder(sparse_output=False))]),\n",
       "                                                  [&#x27;victim_race&#x27;, &#x27;victim_sex&#x27;,\n",
       "                                                   &#x27;month&#x27;, &#x27;weekday&#x27;])])),\n",
       "                (&#x27;train&#x27;, GradientBoostingClassifier())])</pre></div></div></div><div class=\"sk-serial\"><div class=\"sk-item sk-dashed-wrapped\"><div class=\"sk-label-container\"><div class=\"sk-label sk-toggleable\"><input class=\"sk-toggleable__control sk-hidden--visually\" id=\"sk-estimator-id-124\" type=\"checkbox\" ><label for=\"sk-estimator-id-124\" class=\"sk-toggleable__label sk-toggleable__label-arrow\">preprocess: ColumnTransformer</label><div class=\"sk-toggleable__content\"><pre>ColumnTransformer(transformers=[(&#x27;age&#x27;,\n",
       "                                 Pipeline(steps=[(&#x27;impute&#x27;,\n",
       "                                                  SimpleImputer(missing_values=-1,\n",
       "                                                                strategy=&#x27;median&#x27;)),\n",
       "                                                 (&#x27;standardize&#x27;,\n",
       "                                                  StandardScaler())]),\n",
       "                                 [&#x27;victim_age&#x27;]),\n",
       "                                (&#x27;coordinates&#x27;,\n",
       "                                 Pipeline(steps=[(&#x27;impute&#x27;,\n",
       "                                                  SimpleImputer(strategy=&#x27;median&#x27;)),\n",
       "                                                 (&#x27;standardize&#x27;,\n",
       "                                                  StandardScaler())]),\n",
       "                                 [&#x27;lat&#x27;, &#x27;lon&#x27;]),\n",
       "                                (&#x27;delta_days&#x27;,\n",
       "                                 Pipeline(steps=[(&#x27;standardize&#x27;,\n",
       "                                                  StandardScaler())]),\n",
       "                                 [&#x27;delta_days&#x27;]),\n",
       "                                (&#x27;onehot&#x27;,\n",
       "                                 Pipeline(steps=[(&#x27;onehot&#x27;,\n",
       "                                                  OneHotEncoder(sparse_output=False))]),\n",
       "                                 [&#x27;victim_race&#x27;, &#x27;victim_sex&#x27;, &#x27;month&#x27;,\n",
       "                                  &#x27;weekday&#x27;])])</pre></div></div></div><div class=\"sk-parallel\"><div class=\"sk-parallel-item\"><div class=\"sk-item\"><div class=\"sk-label-container\"><div class=\"sk-label sk-toggleable\"><input class=\"sk-toggleable__control sk-hidden--visually\" id=\"sk-estimator-id-125\" type=\"checkbox\" ><label for=\"sk-estimator-id-125\" class=\"sk-toggleable__label sk-toggleable__label-arrow\">age</label><div class=\"sk-toggleable__content\"><pre>[&#x27;victim_age&#x27;]</pre></div></div></div><div class=\"sk-serial\"><div class=\"sk-item\"><div class=\"sk-serial\"><div class=\"sk-item\"><div class=\"sk-estimator sk-toggleable\"><input class=\"sk-toggleable__control sk-hidden--visually\" id=\"sk-estimator-id-126\" type=\"checkbox\" ><label for=\"sk-estimator-id-126\" class=\"sk-toggleable__label sk-toggleable__label-arrow\">SimpleImputer</label><div class=\"sk-toggleable__content\"><pre>SimpleImputer(missing_values=-1, strategy=&#x27;median&#x27;)</pre></div></div></div><div class=\"sk-item\"><div class=\"sk-estimator sk-toggleable\"><input class=\"sk-toggleable__control sk-hidden--visually\" id=\"sk-estimator-id-127\" type=\"checkbox\" ><label for=\"sk-estimator-id-127\" class=\"sk-toggleable__label sk-toggleable__label-arrow\">StandardScaler</label><div class=\"sk-toggleable__content\"><pre>StandardScaler()</pre></div></div></div></div></div></div></div></div><div class=\"sk-parallel-item\"><div class=\"sk-item\"><div class=\"sk-label-container\"><div class=\"sk-label sk-toggleable\"><input class=\"sk-toggleable__control sk-hidden--visually\" id=\"sk-estimator-id-128\" type=\"checkbox\" ><label for=\"sk-estimator-id-128\" class=\"sk-toggleable__label sk-toggleable__label-arrow\">coordinates</label><div class=\"sk-toggleable__content\"><pre>[&#x27;lat&#x27;, &#x27;lon&#x27;]</pre></div></div></div><div class=\"sk-serial\"><div class=\"sk-item\"><div class=\"sk-serial\"><div class=\"sk-item\"><div class=\"sk-estimator sk-toggleable\"><input class=\"sk-toggleable__control sk-hidden--visually\" id=\"sk-estimator-id-129\" type=\"checkbox\" ><label for=\"sk-estimator-id-129\" class=\"sk-toggleable__label sk-toggleable__label-arrow\">SimpleImputer</label><div class=\"sk-toggleable__content\"><pre>SimpleImputer(strategy=&#x27;median&#x27;)</pre></div></div></div><div class=\"sk-item\"><div class=\"sk-estimator sk-toggleable\"><input class=\"sk-toggleable__control sk-hidden--visually\" id=\"sk-estimator-id-130\" type=\"checkbox\" ><label for=\"sk-estimator-id-130\" class=\"sk-toggleable__label sk-toggleable__label-arrow\">StandardScaler</label><div class=\"sk-toggleable__content\"><pre>StandardScaler()</pre></div></div></div></div></div></div></div></div><div class=\"sk-parallel-item\"><div class=\"sk-item\"><div class=\"sk-label-container\"><div class=\"sk-label sk-toggleable\"><input class=\"sk-toggleable__control sk-hidden--visually\" id=\"sk-estimator-id-131\" type=\"checkbox\" ><label for=\"sk-estimator-id-131\" class=\"sk-toggleable__label sk-toggleable__label-arrow\">delta_days</label><div class=\"sk-toggleable__content\"><pre>[&#x27;delta_days&#x27;]</pre></div></div></div><div class=\"sk-serial\"><div class=\"sk-item\"><div class=\"sk-serial\"><div class=\"sk-item\"><div class=\"sk-estimator sk-toggleable\"><input class=\"sk-toggleable__control sk-hidden--visually\" id=\"sk-estimator-id-132\" type=\"checkbox\" ><label for=\"sk-estimator-id-132\" class=\"sk-toggleable__label sk-toggleable__label-arrow\">StandardScaler</label><div class=\"sk-toggleable__content\"><pre>StandardScaler()</pre></div></div></div></div></div></div></div></div><div class=\"sk-parallel-item\"><div class=\"sk-item\"><div class=\"sk-label-container\"><div class=\"sk-label sk-toggleable\"><input class=\"sk-toggleable__control sk-hidden--visually\" id=\"sk-estimator-id-133\" type=\"checkbox\" ><label for=\"sk-estimator-id-133\" class=\"sk-toggleable__label sk-toggleable__label-arrow\">onehot</label><div class=\"sk-toggleable__content\"><pre>[&#x27;victim_race&#x27;, &#x27;victim_sex&#x27;, &#x27;month&#x27;, &#x27;weekday&#x27;]</pre></div></div></div><div class=\"sk-serial\"><div class=\"sk-item\"><div class=\"sk-serial\"><div class=\"sk-item\"><div class=\"sk-estimator sk-toggleable\"><input class=\"sk-toggleable__control sk-hidden--visually\" id=\"sk-estimator-id-134\" type=\"checkbox\" ><label for=\"sk-estimator-id-134\" class=\"sk-toggleable__label sk-toggleable__label-arrow\">OneHotEncoder</label><div class=\"sk-toggleable__content\"><pre>OneHotEncoder(sparse_output=False)</pre></div></div></div></div></div></div></div></div></div></div><div class=\"sk-item\"><div class=\"sk-estimator sk-toggleable\"><input class=\"sk-toggleable__control sk-hidden--visually\" id=\"sk-estimator-id-135\" type=\"checkbox\" ><label for=\"sk-estimator-id-135\" class=\"sk-toggleable__label sk-toggleable__label-arrow\">GradientBoostingClassifier</label><div class=\"sk-toggleable__content\"><pre>GradientBoostingClassifier()</pre></div></div></div></div></div></div></div>"
      ],
      "text/plain": [
       "Pipeline(steps=[('preprocess',\n",
       "                 ColumnTransformer(transformers=[('age',\n",
       "                                                  Pipeline(steps=[('impute',\n",
       "                                                                   SimpleImputer(missing_values=-1,\n",
       "                                                                                 strategy='median')),\n",
       "                                                                  ('standardize',\n",
       "                                                                   StandardScaler())]),\n",
       "                                                  ['victim_age']),\n",
       "                                                 ('coordinates',\n",
       "                                                  Pipeline(steps=[('impute',\n",
       "                                                                   SimpleImputer(strategy='median')),\n",
       "                                                                  ('standardize',\n",
       "                                                                   StandardScaler())]),\n",
       "                                                  ['lat', 'lon']),\n",
       "                                                 ('delta_days',\n",
       "                                                  Pipeline(steps=[('standardize',\n",
       "                                                                   StandardScaler())]),\n",
       "                                                  ['delta_days']),\n",
       "                                                 ('onehot',\n",
       "                                                  Pipeline(steps=[('onehot',\n",
       "                                                                   OneHotEncoder(sparse_output=False))]),\n",
       "                                                  ['victim_race', 'victim_sex',\n",
       "                                                   'month', 'weekday'])])),\n",
       "                ('train', GradientBoostingClassifier())])"
      ]
     },
     "execution_count": 119,
     "metadata": {},
     "output_type": "execute_result"
    }
   ],
   "source": [
    "categorical_naive_bayes_classifier.fit(train_set, train_set[\"disposition\"])"
   ]
  },
  {
   "cell_type": "code",
   "execution_count": 120,
   "id": "4d95f058-2ee9-4aff-9500-8dbe946b49ba",
   "metadata": {
    "tags": []
   },
   "outputs": [
    {
     "data": {
      "text/html": [
       "<div>\n",
       "<style scoped>\n",
       "    .dataframe tbody tr th:only-of-type {\n",
       "        vertical-align: middle;\n",
       "    }\n",
       "\n",
       "    .dataframe tbody tr th {\n",
       "        vertical-align: top;\n",
       "    }\n",
       "\n",
       "    .dataframe thead th {\n",
       "        text-align: right;\n",
       "    }\n",
       "</style>\n",
       "<table border=\"1\" class=\"dataframe\">\n",
       "  <thead>\n",
       "    <tr style=\"text-align: right;\">\n",
       "      <th></th>\n",
       "      <th>Importance</th>\n",
       "    </tr>\n",
       "  </thead>\n",
       "  <tbody>\n",
       "    <tr>\n",
       "      <th>coordinates__lat</th>\n",
       "      <td>0.350811</td>\n",
       "    </tr>\n",
       "    <tr>\n",
       "      <th>coordinates__lon</th>\n",
       "      <td>0.147754</td>\n",
       "    </tr>\n",
       "    <tr>\n",
       "      <th>delta_days__delta_days</th>\n",
       "      <td>0.140669</td>\n",
       "    </tr>\n",
       "    <tr>\n",
       "      <th>age__victim_age</th>\n",
       "      <td>0.124116</td>\n",
       "    </tr>\n",
       "    <tr>\n",
       "      <th>onehot__victim_sex_Female</th>\n",
       "      <td>0.083747</td>\n",
       "    </tr>\n",
       "    <tr>\n",
       "      <th>onehot__victim_race_White</th>\n",
       "      <td>0.076466</td>\n",
       "    </tr>\n",
       "    <tr>\n",
       "      <th>onehot__victim_sex_Male</th>\n",
       "      <td>0.031408</td>\n",
       "    </tr>\n",
       "    <tr>\n",
       "      <th>onehot__victim_race_Black</th>\n",
       "      <td>0.012097</td>\n",
       "    </tr>\n",
       "    <tr>\n",
       "      <th>onehot__month_December</th>\n",
       "      <td>0.005200</td>\n",
       "    </tr>\n",
       "    <tr>\n",
       "      <th>onehot__victim_race_Asian</th>\n",
       "      <td>0.003097</td>\n",
       "    </tr>\n",
       "    <tr>\n",
       "      <th>onehot__month_February</th>\n",
       "      <td>0.003080</td>\n",
       "    </tr>\n",
       "    <tr>\n",
       "      <th>onehot__month_March</th>\n",
       "      <td>0.002897</td>\n",
       "    </tr>\n",
       "    <tr>\n",
       "      <th>onehot__month_November</th>\n",
       "      <td>0.002356</td>\n",
       "    </tr>\n",
       "    <tr>\n",
       "      <th>onehot__victim_race_Unknown</th>\n",
       "      <td>0.002220</td>\n",
       "    </tr>\n",
       "    <tr>\n",
       "      <th>onehot__victim_sex_Unknown</th>\n",
       "      <td>0.002091</td>\n",
       "    </tr>\n",
       "    <tr>\n",
       "      <th>onehot__month_October</th>\n",
       "      <td>0.002066</td>\n",
       "    </tr>\n",
       "    <tr>\n",
       "      <th>onehot__month_July</th>\n",
       "      <td>0.001842</td>\n",
       "    </tr>\n",
       "    <tr>\n",
       "      <th>onehot__weekday_Tuesday</th>\n",
       "      <td>0.001691</td>\n",
       "    </tr>\n",
       "    <tr>\n",
       "      <th>onehot__weekday_Friday</th>\n",
       "      <td>0.001501</td>\n",
       "    </tr>\n",
       "    <tr>\n",
       "      <th>onehot__weekday_Wednesday</th>\n",
       "      <td>0.000717</td>\n",
       "    </tr>\n",
       "    <tr>\n",
       "      <th>onehot__month_April</th>\n",
       "      <td>0.000694</td>\n",
       "    </tr>\n",
       "    <tr>\n",
       "      <th>onehot__month_September</th>\n",
       "      <td>0.000614</td>\n",
       "    </tr>\n",
       "    <tr>\n",
       "      <th>onehot__month_January</th>\n",
       "      <td>0.000568</td>\n",
       "    </tr>\n",
       "    <tr>\n",
       "      <th>onehot__weekday_Monday</th>\n",
       "      <td>0.000469</td>\n",
       "    </tr>\n",
       "    <tr>\n",
       "      <th>onehot__month_June</th>\n",
       "      <td>0.000381</td>\n",
       "    </tr>\n",
       "    <tr>\n",
       "      <th>onehot__weekday_Saturday</th>\n",
       "      <td>0.000339</td>\n",
       "    </tr>\n",
       "    <tr>\n",
       "      <th>onehot__weekday_Sunday</th>\n",
       "      <td>0.000296</td>\n",
       "    </tr>\n",
       "    <tr>\n",
       "      <th>onehot__weekday_Thursday</th>\n",
       "      <td>0.000295</td>\n",
       "    </tr>\n",
       "    <tr>\n",
       "      <th>onehot__victim_race_Hispanic</th>\n",
       "      <td>0.000238</td>\n",
       "    </tr>\n",
       "    <tr>\n",
       "      <th>onehot__month_August</th>\n",
       "      <td>0.000179</td>\n",
       "    </tr>\n",
       "    <tr>\n",
       "      <th>onehot__victim_race_Other</th>\n",
       "      <td>0.000100</td>\n",
       "    </tr>\n",
       "    <tr>\n",
       "      <th>onehot__month_May</th>\n",
       "      <td>0.000000</td>\n",
       "    </tr>\n",
       "  </tbody>\n",
       "</table>\n",
       "</div>"
      ],
      "text/plain": [
       "                              Importance\n",
       "coordinates__lat                0.350811\n",
       "coordinates__lon                0.147754\n",
       "delta_days__delta_days          0.140669\n",
       "age__victim_age                 0.124116\n",
       "onehot__victim_sex_Female       0.083747\n",
       "onehot__victim_race_White       0.076466\n",
       "onehot__victim_sex_Male         0.031408\n",
       "onehot__victim_race_Black       0.012097\n",
       "onehot__month_December          0.005200\n",
       "onehot__victim_race_Asian       0.003097\n",
       "onehot__month_February          0.003080\n",
       "onehot__month_March             0.002897\n",
       "onehot__month_November          0.002356\n",
       "onehot__victim_race_Unknown     0.002220\n",
       "onehot__victim_sex_Unknown      0.002091\n",
       "onehot__month_October           0.002066\n",
       "onehot__month_July              0.001842\n",
       "onehot__weekday_Tuesday         0.001691\n",
       "onehot__weekday_Friday          0.001501\n",
       "onehot__weekday_Wednesday       0.000717\n",
       "onehot__month_April             0.000694\n",
       "onehot__month_September         0.000614\n",
       "onehot__month_January           0.000568\n",
       "onehot__weekday_Monday          0.000469\n",
       "onehot__month_June              0.000381\n",
       "onehot__weekday_Saturday        0.000339\n",
       "onehot__weekday_Sunday          0.000296\n",
       "onehot__weekday_Thursday        0.000295\n",
       "onehot__victim_race_Hispanic    0.000238\n",
       "onehot__month_August            0.000179\n",
       "onehot__victim_race_Other       0.000100\n",
       "onehot__month_May               0.000000"
      ]
     },
     "execution_count": 120,
     "metadata": {},
     "output_type": "execute_result"
    }
   ],
   "source": [
    "features = pd.DataFrame(categorical_naive_bayes_classifier.steps[-1][1].feature_importances_, index=gradient_boosting_classifier.steps[-1][1].feature_names_in_, columns=[\"Importance\"])\n",
    "features.sort_values(\"Importance\", ascending=False)"
   ]
  },
  {
   "cell_type": "code",
   "execution_count": 49,
   "id": "fd4f02dc-b273-4f1a-9070-0c9e2527b059",
   "metadata": {
    "tags": []
   },
   "outputs": [],
   "source": [
    "utils.transform_data(validation_sat)"
   ]
  },
  {
   "cell_type": "code",
   "execution_count": 50,
   "id": "3cac5be9-d222-4385-81a2-c71aa1e82a0a",
   "metadata": {
    "tags": []
   },
   "outputs": [],
   "source": [
    "labels = validation_sat[\"disposition\"]"
   ]
  },
  {
   "cell_type": "code",
   "execution_count": 69,
   "id": "b718bd80-0e00-4286-9af0-ce198e3130df",
   "metadata": {
    "tags": []
   },
   "outputs": [],
   "source": [
    "dtc_scores = cross_val_score(tree_classifier, train_set, train_set[\"disposition\"], scoring=\"accuracy\", cv=10)"
   ]
  },
  {
   "cell_type": "code",
   "execution_count": 74,
   "id": "073df828-cf4f-4b8f-9b9c-01ea248aec04",
   "metadata": {
    "tags": []
   },
   "outputs": [
    {
     "data": {
      "text/plain": [
       "count    10.000000\n",
       "mean      0.523747\n",
       "std       0.004966\n",
       "min       0.515269\n",
       "25%       0.520174\n",
       "50%       0.524259\n",
       "75%       0.527813\n",
       "max       0.530240\n",
       "dtype: float64"
      ]
     },
     "execution_count": 74,
     "metadata": {},
     "output_type": "execute_result"
    }
   ],
   "source": [
    "pd.Series(dtc_scores).describe()"
   ]
  },
  {
   "cell_type": "code",
   "execution_count": 70,
   "id": "0edf20ad-741e-4b22-b313-74fa97f1a272",
   "metadata": {
    "tags": []
   },
   "outputs": [],
   "source": [
    "bc_scores = cross_val_score(bagging_classifier, train_set, train_set[\"disposition\"], scoring=\"accuracy\", cv=10)"
   ]
  },
  {
   "cell_type": "code",
   "execution_count": 75,
   "id": "106b28f2-6743-4c61-9a50-802677a0fb22",
   "metadata": {
    "tags": []
   },
   "outputs": [
    {
     "data": {
      "text/plain": [
       "count    10.000000\n",
       "mean      0.571989\n",
       "std       0.005903\n",
       "min       0.562144\n",
       "25%       0.569364\n",
       "50%       0.571578\n",
       "75%       0.575000\n",
       "max       0.582510\n",
       "dtype: float64"
      ]
     },
     "execution_count": 75,
     "metadata": {},
     "output_type": "execute_result"
    }
   ],
   "source": [
    "pd.Series(bc_scores).describe()"
   ]
  },
  {
   "cell_type": "code",
   "execution_count": 114,
   "id": "cfb25a6b-c748-40cd-8cbd-ba644bc144bc",
   "metadata": {
    "tags": []
   },
   "outputs": [],
   "source": [
    "gbc_scores = cross_val_score(gradient_boosting_classifier, train_set, train_set[\"disposition\"], scoring=\"accuracy\", cv=10)"
   ]
  },
  {
   "cell_type": "code",
   "execution_count": 115,
   "id": "e74dd387-dbfc-441c-b5fb-14df6f8a6d0a",
   "metadata": {
    "tags": []
   },
   "outputs": [
    {
     "data": {
      "text/plain": [
       "count    10.000000\n",
       "mean      0.601396\n",
       "std       0.007061\n",
       "min       0.590895\n",
       "25%       0.597889\n",
       "50%       0.599790\n",
       "75%       0.605285\n",
       "max       0.616053\n",
       "dtype: float64"
      ]
     },
     "execution_count": 115,
     "metadata": {},
     "output_type": "execute_result"
    }
   ],
   "source": [
    "pd.Series(gbc_scores).describe()"
   ]
  },
  {
   "cell_type": "code",
   "execution_count": 121,
   "id": "ac7ed884-b1ef-45a1-a091-09dc1556c639",
   "metadata": {
    "tags": []
   },
   "outputs": [],
   "source": [
    "cnbc_scores = cross_val_score(categorical_naive_bayes_classifier, train_set, train_set[\"disposition\"])"
   ]
  },
  {
   "cell_type": "code",
   "execution_count": 122,
   "id": "03f86391-ebd9-42c0-82ab-9bf82a261270",
   "metadata": {
    "tags": []
   },
   "outputs": [
    {
     "data": {
      "text/plain": [
       "count    5.000000\n",
       "mean     0.599868\n",
       "std      0.006732\n",
       "min      0.592903\n",
       "25%      0.595448\n",
       "50%      0.598233\n",
       "75%      0.602785\n",
       "max      0.609972\n",
       "dtype: float64"
      ]
     },
     "execution_count": 122,
     "metadata": {},
     "output_type": "execute_result"
    }
   ],
   "source": [
    "pd.Series(cnbc_scores).describe()"
   ]
  },
  {
   "cell_type": "markdown",
   "id": "714c4e35-bd7c-4b6a-a2d5-3df6ba2c69ee",
   "metadata": {},
   "source": [
    "The gradient boosting classifier seems to be the most accurate at predicting disposition."
   ]
  },
  {
   "cell_type": "markdown",
   "id": "c0d2dec9-0a1c-49bf-9fb1-14712bff2155",
   "metadata": {},
   "source": [
    "## Comparison with random choice"
   ]
  },
  {
   "cell_type": "code",
   "execution_count": 124,
   "id": "0811273f-3d32-4a99-9956-4419edacc2f3",
   "metadata": {
    "tags": []
   },
   "outputs": [
    {
     "name": "stdout",
     "output_type": "stream",
     "text": [
      "Category Frequencies:\n",
      "Label: Closed by arrest, Count: 16513, Probability: 0.49\n",
      "Label: Closed without arrest, Count: 1866, Probability: 0.06\n",
      "Label: Open/No arrest, Count: 15015, Probability: 0.45\n",
      "Overall Probability of Correct Guess: 0.49\n"
     ]
    }
   ],
   "source": [
    "# Sample dataset with categorical labels (replace with your dataset)\n",
    "labels = train_set[\"disposition\"]\n",
    "\n",
    "# Calculate the frequency of each category\n",
    "unique_labels, label_counts = np.unique(labels, return_counts=True)\n",
    "\n",
    "# Total number of data points\n",
    "total_data_points = len(labels)\n",
    "\n",
    "# Calculate the probability of each category\n",
    "label_probabilities = label_counts / total_data_points\n",
    "\n",
    "# Calculate the overall probability of correctly guessing at random\n",
    "probability_correct_guess = np.max(label_probabilities)\n",
    "\n",
    "print(\"Category Frequencies:\")\n",
    "for label, count, probability in zip(unique_labels, label_counts, label_probabilities):\n",
    "    print(f\"Label: {label}, Count: {count}, Probability: {probability:.2f}\")\n",
    "\n",
    "print(f\"Overall Probability of Correct Guess: {probability_correct_guess:.2f}\")\n"
   ]
  }
 ],
 "metadata": {
  "kernelspec": {
   "display_name": "Python 3 (ipykernel)",
   "language": "python",
   "name": "python3"
  },
  "language_info": {
   "codemirror_mode": {
    "name": "ipython",
    "version": 3
   },
   "file_extension": ".py",
   "mimetype": "text/x-python",
   "name": "python",
   "nbconvert_exporter": "python",
   "pygments_lexer": "ipython3",
   "version": "3.10.12"
  }
 },
 "nbformat": 4,
 "nbformat_minor": 5
}
